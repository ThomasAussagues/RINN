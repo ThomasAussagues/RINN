{
  "nbformat": 4,
  "nbformat_minor": 0,
  "metadata": {
    "anaconda-cloud": {},
    "colab": {
      "name": "ImprovedRINN_linearStiffSystemIntegrationOnly.ipynb",
      "provenance": [],
      "collapsed_sections": [],
      "toc_visible": true
    },
    "kernelspec": {
      "display_name": "Python 3",
      "language": "python",
      "name": "python3"
    },
    "language_info": {
      "codemirror_mode": {
        "name": "ipython",
        "version": 3
      },
      "file_extension": ".py",
      "mimetype": "text/x-python",
      "name": "python",
      "nbconvert_exporter": "python",
      "pygments_lexer": "ipython3",
      "version": "3.6.9"
    }
  },
  "cells": [
    {
      "cell_type": "markdown",
      "metadata": {
        "id": "wKoDIN_VHQv7"
      },
      "source": [
        "# Residual Integration Neural Net\n",
        "\n",
        "# Problem statement :\n",
        "\n",
        "Let us consider a dynamical system, whose time-varying state $X_t$ is governed by the following ordinary differential equation (ODE):\n",
        "\n",
        "\\begin{equation}\n",
        "\\frac{dX_t}{dt}= F(t,X_t)\n",
        "\\label{eq:sys dyn}\n",
        "\\end{equation}\n",
        "\n",
        "where $F$ is the dynamical operator. Most of the time, this ODE cannot be solved analytically and numerical integration techniques using discrete approximations are implemented. \n",
        "\n",
        "In this work, we focus on explicit integration schemes. A one-step explicit integration scheme is defined as: \n",
        "\n",
        "\\begin{equation}\n",
        "\\label{eq:int_gen_schm}\n",
        "X_{t_{n+1}} = X_{t_{n}} + h\\Phi(t_{n},X_{t_{n}},h)\n",
        "\\end{equation}\n",
        "\n",
        "with $\\Phi(t_{n},X_{t_{n}},h)$ a numerical integration operator. Here, we aim to learn a prediction operator based on $\\Phi$ and an approximation of the dynamical model $F(t,X_t)$ so that the forecasting error (typically, a one-step-ahead error) is minimized.\n",
        "\n",
        "In this notebook, will learn an approximation of both $\\Phi$ and $F(t,X_t)$ of the lorenz 63 model given a poorly sampled time series.\n"
      ]
    },
    {
      "cell_type": "code",
      "metadata": {
        "id": "flXQ5ihwHQwH"
      },
      "source": [
        "# On monte le drive\n",
        "#from google.colab import drive\n",
        "#drive.mount('/content/drive/')\n",
        "\n",
        "\n",
        "# Imports\n",
        "import sys\n",
        "#sys.path.insert(0,'/content/drive/MyDrive/Colab Notebooks/RINN-master')\n",
        "\n",
        "\n",
        "\n",
        "from generate_data import generate_data\n",
        "import numpy as np\n",
        "import matplotlib.pyplot as plt\n",
        "import torch\n",
        "from torch.autograd import Variable\n",
        "from RINN_model import RINN_model\n",
        "from scipy.integrate import odeint\n",
        "import matplotlib as mpl\n",
        "mpl.rcParams['figure.dpi']=300\n",
        "from ipywidgets import *"
      ],
      "execution_count": null,
      "outputs": []
    },
    {
      "cell_type": "code",
      "metadata": {
        "id": "oVV-VLaRGQ-0"
      },
      "source": [
        "\n",
        "\n"
      ],
      "execution_count": null,
      "outputs": []
    },
    {
      "cell_type": "code",
      "metadata": {
        "id": "P6CKX-SsGrFq"
      },
      "source": [
        "\n"
      ],
      "execution_count": null,
      "outputs": []
    },
    {
      "cell_type": "code",
      "metadata": {
        "id": "TNYyOMwfHQwI"
      },
      "source": [
        "def VDP_O(S,t,mu):\n",
        "    \"\"\" Lorenz-63 dynamical model. \"\"\"\n",
        "    x_1 = (S[1]);\n",
        "    x_2 = -1000*S[0]-1001*S[1]#mu*(1-S[0]**2)*S[1] -S[0];\n",
        "    dS  = np.array([x_1,x_2]);\n",
        "    return dS"
      ],
      "execution_count": null,
      "outputs": []
    },
    {
      "cell_type": "code",
      "metadata": {
        "id": "7fLIQ_z4HQwJ"
      },
      "source": [
        "ODE = np.array([[0,1],[-1000,-1001]])"
      ],
      "execution_count": null,
      "outputs": []
    },
    {
      "cell_type": "code",
      "metadata": {
        "colab": {
          "base_uri": "https://localhost:8080/"
        },
        "id": "HkjRIS4lHQwJ",
        "outputId": "98017a8f-8402-48fd-866f-e195535d5c88"
      },
      "source": [
        "np.linalg.eig(ODE)[0]"
      ],
      "execution_count": null,
      "outputs": [
        {
          "output_type": "execute_result",
          "data": {
            "text/plain": [
              "array([   -1., -1000.])"
            ]
          },
          "metadata": {
            "tags": []
          },
          "execution_count": 4
        }
      ]
    },
    {
      "cell_type": "code",
      "metadata": {
        "id": "hCvC4l3aHQwL"
      },
      "source": [
        "# dataset parameters\n",
        "class GD:\n",
        "    model = 'VDP_O'\n",
        "    class parameters:\n",
        "        mu = 100.0\n",
        "    dt_integration = 0.1 # integration time\n",
        "    dt_states = 1 # number of integeration times between consecutive states (for xt and catalog)\n",
        "    dt_obs = 8# number of integration times between consecutive observations (for yo)\n",
        "    var_obs = np.array([0,1]) # indices of the observed variables\n",
        "    nb_loop_train = 50000.01 # size of the catalog\n",
        "    nb_loop_test = 1000 # size of the true state and noisy observations\n",
        "    sigma2_catalog = 0.0 # variance of the model error to generate the catalog\n",
        "    sigma2_obs = 2.0 # variance of the observation error to generate observation"
      ],
      "execution_count": null,
      "outputs": []
    },
    {
      "cell_type": "code",
      "metadata": {
        "id": "RXCqSDf5HQwL"
      },
      "source": [
        "tf = 10.9\n",
        "x0 = np.array([5.0,0.0]);\n",
        "S = odeint(VDP_O,x0,np.arange(0.0,tf+0.000001,GD.dt_integration),args=(GD.parameters.mu,));"
      ],
      "execution_count": null,
      "outputs": []
    },
    {
      "cell_type": "code",
      "metadata": {
        "colab": {
          "base_uri": "https://localhost:8080/",
          "height": 750
        },
        "id": "ikEviCyuHQwL",
        "outputId": "67614d11-2286-4df6-88ab-4190bc367022"
      },
      "source": [
        "import numpy as np\n",
        "from tqdm import tqdm\n",
        "length_h = 1000\n",
        "import matplotlib as mpl\n",
        "import matplotlib.pyplot as plt\n",
        "plt.rcParams[\"mathtext.fontset\"] = \"cm\"\n",
        "import matplotlib.pyplot as plt\n",
        "plt.rcParams.update({'font.size': 42})\n",
        "plt.rcParams.update({\n",
        "    \"text.usetex\": True,\n",
        "    \"font.family\": \"sans-serif\",\n",
        "    \"font.sans-serif\": [\"Helvetica\"]})\n",
        "## for Palatino and other serif fonts use:\n",
        "plt.rcParams.update({\n",
        "    \"text.usetex\": True,\n",
        "    \"font.family\": \"serif\",\n",
        "     \"font.sans-serif\": [\"Helvetica\"]})\n",
        "plt.rcParams['axes.titlepad'] = 20 \n",
        "import matplotlib.cm as cm\n",
        "plt.rcParams['axes.labelpad'] = 30\n",
        "\n",
        "\n",
        "plt.figure(figsize=(10,10))\n",
        "plt.plot(S[:,0],color='orange',label=r'$x(t)$')\n",
        "plt.plot(S[:,1],color='darkred',label=r'$y(t)$')\n",
        "plt.xlabel(r'$t$')\n",
        "plt.ylabel(r'$x(t),y(t)$')\n",
        "plt.legend(loc='best')\n",
        "plt.tight_layout()\n",
        "plt.title('True states')\n",
        "plt.savefig('stiffSystemInt_true.pdf',dpi=300,bbox_inches='tight')"
      ],
      "execution_count": null,
      "outputs": [
        {
          "output_type": "display_data",
          "data": {
            "image/png": "[encoded data removed]",
            "text/plain": [
              "<Figure size 720x720 with 1 Axes>"
            ]
          },
          "metadata": {
            "tags": [],
            "needs_background": "light"
          }
        }
      ]
    },
    {
      "cell_type": "code",
      "metadata": {
        "colab": {
          "base_uri": "https://localhost:8080/"
        },
        "id": "YogKHtngHQwM",
        "outputId": "25031f9f-8601-49e8-f3c4-a02559af6779"
      },
      "source": [
        "S.shape"
      ],
      "execution_count": null,
      "outputs": [
        {
          "output_type": "execute_result",
          "data": {
            "text/plain": [
              "(110, 2)"
            ]
          },
          "metadata": {
            "tags": []
          },
          "execution_count": 8
        }
      ]
    },
    {
      "cell_type": "code",
      "metadata": {
        "colab": {
          "base_uri": "https://localhost:8080/"
        },
        "id": "LeNSD0K7HQwM",
        "outputId": "020ef1fa-c6ad-4421-e5bc-8b32e962bff0"
      },
      "source": [
        "S.shape"
      ],
      "execution_count": null,
      "outputs": [
        {
          "output_type": "execute_result",
          "data": {
            "text/plain": [
              "(110, 2)"
            ]
          },
          "metadata": {
            "tags": []
          },
          "execution_count": 9
        }
      ]
    },
    {
      "cell_type": "code",
      "metadata": {
        "id": "S1LO-NcFHQwM"
      },
      "source": [
        "batch_size      = S.shape[0]\n",
        "X_train = np.reshape(S,(int(S.shape[0]/batch_size),batch_size,S.shape[1]))\n",
        "Y_train = np.reshape(S,(int(S.shape[0]/batch_size),batch_size,S.shape[1]))"
      ],
      "execution_count": null,
      "outputs": []
    },
    {
      "cell_type": "code",
      "metadata": {
        "colab": {
          "base_uri": "https://localhost:8080/",
          "height": 646
        },
        "id": "IwN8iBruHQwN",
        "outputId": "e26f772a-1703-434b-ffb1-7c46ae6a39ac"
      },
      "source": [
        "plt.plot(X_train[0])"
      ],
      "execution_count": null,
      "outputs": [
        {
          "output_type": "execute_result",
          "data": {
            "text/plain": [
              "[<matplotlib.lines.Line2D at 0x7f49b8fb85f8>,\n",
              " <matplotlib.lines.Line2D at 0x7f49b8fb8748>]"
            ]
          },
          "metadata": {
            "tags": []
          },
          "execution_count": 11
        },
        {
          "output_type": "display_data",
          "data": {
            "image/png": "[encoded data removed]",
            "text/plain": [
              "<Figure size 432x288 with 1 Axes>"
            ]
          },
          "metadata": {
            "tags": [],
            "needs_background": "light"
          }
        }
      ]
    },
    {
      "cell_type": "code",
      "metadata": {
        "id": "jF_Hw7UKHQwN"
      },
      "source": [
        "# generating training data\n",
        "class GD2:\n",
        "    model = 'Adv_Dif_1D_Real'\n",
        "    class parameters:\n",
        "        w = -0.5\n",
        "        x0 = 0.5\n",
        "        t0 = 0\n",
        "    dt_integration =0.01# integration time\n",
        "    dt_states = 1 # number of integeration times between consecutive states (for xt and catalog)\n",
        "    dt_obs = 8# number of integration times between consecutive observations (for yo)\n",
        "    var_obs = np.array([0]) # indices of the observed variables\n",
        "    nb_loop_train = 1000.1 # size of the catalog\n",
        "    nb_loop_test = 100 # size of the true state and noisy observations\n",
        "    sigma2_catalog = 0.0 # variance of the model error to generate the catalog\n",
        "    sigma2_obs = 2.0 # variance of the observation error to generate observation\n",
        "    \n",
        "# run the data generation\n",
        "catalog2, xt2, yo2 = generate_data(GD2)\n",
        "#AnDA_RMSE(catalog.true_solution,catalog.euler_integration)\n",
        "#AnDA_RMSE(catalog.true_solution,catalog.num_integration)\n",
        "#training data\n",
        "batch_size_lin = catalog2.true_solution[:-10-1,:].shape[0]\n",
        "X_train_lin = np.reshape(catalog2.true_solution[:-10-1,:],(int(catalog2.true_solution[1:-10,:].shape[0]/batch_size_lin),batch_size_lin,catalog2.true_solution[1:-10,:].shape[1]))\n",
        "Grad_t_lin  = np.reshape(np.gradient(catalog2.true_solution[:-10-1,0])/GD.dt_integration,(X_train_lin.shape))\n",
        "Y_train_lin = np.reshape(catalog2.true_solution[1:-10,:],(int(catalog2.true_solution[1:-10,:].shape[0]/batch_size_lin),batch_size_lin,catalog2.true_solution[1:-10,:].shape[1]))"
      ],
      "execution_count": null,
      "outputs": []
    },
    {
      "cell_type": "code",
      "metadata": {
        "id": "VthJIeLYHQwN"
      },
      "source": [
        "params = {}#NN parameters \n",
        "params['order'] = 4\n",
        "params['transition_layers']=1\n",
        "params['bi_linear_layers']=2\n",
        "params['dim_hidden_linear'] = 2\n",
        "params['dim_input']=2\n",
        "params['dim_observations'] = 2\n",
        "params['dim_output']=2\n",
        "params['dim_hidden']=2\n",
        "params['dt_integration']=GD.dt_integration\n",
        "params['ntrain']=[4000,0]\n",
        "params['lr']=0.001\n",
        "pretrained = False\n",
        "path = '/content/drive/MyDrive/Colab Notebooks/RINN-master/Implicit_On_Linear_Stiff.pt'"
      ],
      "execution_count": null,
      "outputs": []
    },
    {
      "cell_type": "code",
      "metadata": {
        "id": "uRqaL1j8HQwO"
      },
      "source": [
        "def jacobian_in_batch(y, x):\n",
        "    '''\n",
        "    Compute the Jacobian matrix in batch form.\n",
        "    Return (B, D_y, D_x)\n",
        "    '''\n",
        "\n",
        "    batch = y.shape[0]\n",
        "    single_y_size = np.prod(y.shape[1:])\n",
        "    y = y.view(batch, -1)\n",
        "    vector = torch.ones(batch).to(y)\n",
        "\n",
        "    # Compute Jacobian row by row.\n",
        "    # dy_i / dx -> dy / dx\n",
        "    # (B, D) -> (B, 1, D) -> (B, D, D)\n",
        "    jac = [torch.autograd.grad(y[:, i], x, \n",
        "                               grad_outputs=vector, \n",
        "                               retain_graph=True,\n",
        "                               create_graph=True,\n",
        "                               allow_unused=True)[0].view(batch, -1)\n",
        "                for i in range(single_y_size)]\n",
        "    jac = torch.stack(jac, dim=1)\n",
        "    \n",
        "    return jac\n",
        "def kron(a, b):\n",
        "    \"\"\"\n",
        "    Kronecker product of matrices a and b with leading batch dimensions.\n",
        "    Batch dimensions are broadcast. The number of them mush\n",
        "    :type a: torch.Tensor\n",
        "    :type b: torch.Tensor\n",
        "    :rtype: torch.Tensor\n",
        "    \"\"\"\n",
        "    siz1 = torch.Size(torch.tensor(a.shape[-2:]) * torch.tensor(b.shape[-2:]))\n",
        "    res = a.unsqueeze(-1).unsqueeze(-3) * b.unsqueeze(-2).unsqueeze(-4)\n",
        "    siz0 = res.shape[:-4]\n",
        "    return res.reshape(siz0 + siz1)"
      ],
      "execution_count": null,
      "outputs": []
    },
    {
      "cell_type": "markdown",
      "metadata": {
        "id": "rktIDs54HQwO"
      },
      "source": [
        "# Learn dynamical and integration models, stop when loss ~ 0.2"
      ]
    },
    {
      "cell_type": "code",
      "metadata": {
        "id": "JKS9mn57HQwO"
      },
      "source": [
        "class applyRK_Constraints(object):\n",
        "        def __init__(self, frequency=1):\n",
        "            self.frequency = frequency\n",
        "    \n",
        "        def __call__(self, module):\n",
        "            if hasattr(module, 'b'):\n",
        "                module.b.data = (torch.abs(module.b.data))\n",
        "                module.b.data  =  ((module.b.data) / (module.b.data).sum(1,keepdim = True).expand_as(module.b.data))\n",
        "            if hasattr(module, 'c'):\n",
        "                module.c.data = module.c.data\n",
        "                module.c.data[:,0] = 0\n",
        "                module.c.data = module.c.data.sub_(torch.min(module.c.data)).div_(torch.max(module.c.data) - torch.min(module.c.data)).sort()[0]\n",
        "class FC_net_true(torch.nn.Module):\n",
        "        def __init__(self, params):\n",
        "            super(FC_net_true, self).__init__()\n",
        "            self.mu = GD.parameters.mu\n",
        "        def forward(self, inp):\n",
        "            grad = Variable(torch.zeros((inp.size())))\n",
        "            grad[:,0] = inp[:,0]#(1/self.eps)*(self.q*inp[:,1]-inp[:,0]*inp[:,1] +inp[:,0]*(1-inp[:,0]));\n",
        "            grad[:,1] = -1000*inp[:,0]-1001*inp[:,1]#self.mu*(1-inp[:,0]**2)*inp[:,1] -inp[:,0]#(1/self.eps2)*(-self.q*inp[:,1]-inp[:,1]*inp[:,0]+self.f*inp[:,2]);\n",
        "            return grad\n",
        "model_true  = FC_net_true(params)\n",
        "class FC_net(torch.nn.Module):\n",
        "        def __init__(self, params):\n",
        "            super(FC_net, self).__init__()\n",
        "            self.linearCell   = torch.nn.Linear(params['dim_input'], params['dim_hidden_linear']) \n",
        "            self.BlinearCell1 = torch.nn.ModuleList([torch.nn.Linear(params['dim_input'], 1) for i in range(params['bi_linear_layers'])])\n",
        "            self.BlinearCell2 = torch.nn.ModuleList([torch.nn.Linear(params['dim_input'], 1) for i in range(params['bi_linear_layers'])])\n",
        "            augmented_size    = params['bi_linear_layers'] + params['dim_hidden_linear']\n",
        "            self.transLayers = torch.nn.ModuleList([torch.nn.Linear(augmented_size, params['dim_output'])])\n",
        "            self.transLayers.extend([torch.nn.Linear(params['dim_output'], params['dim_output']) for i in range(1, params['transition_layers'])])\n",
        "            self.outputLayer  = torch.nn.Linear(params['dim_output'], params['dim_output']) \n",
        "        def forward(self, inp):\n",
        "            \"\"\"\n",
        "            In the forward function we accept a Tensor of input data and we must return\n",
        "            a Tensor of output data. We can use Modules defined in the constructor as\n",
        "            well as arbitrary operators on Tensors.\n",
        "            \"\"\"\n",
        "            BP_outp = Variable(torch.zeros((inp.size()[0],params['bi_linear_layers'])))\n",
        "            L_outp   = self.linearCell(inp)\n",
        "            for i in range((params['bi_linear_layers'])):\n",
        "                BP_outp[:,i]=self.BlinearCell1[i](inp)[:,0]*self.BlinearCell2[i](inp)[:,0]\n",
        "            aug_vect = torch.cat((L_outp, BP_outp), dim=1)\n",
        "            for i in range((params['transition_layers'])):\n",
        "                aug_vect = (self.transLayers[i](aug_vect))\n",
        "            grad = self.outputLayer(aug_vect)\n",
        "            return grad\n",
        "model  = FC_net(params)\n",
        "class FC_net_lin(torch.nn.Module):\n",
        "        def __init__(self, params):\n",
        "            super(FC_net_lin, self).__init__()\n",
        "            self.coef_mdl =GD2.parameters.w\n",
        "        def forward(self, inp):\n",
        "            \"\"\"\n",
        "            In the forward function we accept a Tensor of input data and we must return\n",
        "            a Tensor of output data. We can use Modules defined in the constructor as\n",
        "            well as arbitrary operators on Tensors.\n",
        "            \"\"\"\n",
        "            grad = self.coef_mdl*inp\n",
        "            return grad\n",
        "model_lin  = FC_net_lin(params)\n",
        "class INT_net(torch.nn.Module):\n",
        "        def __init__(self, params,order):\n",
        "            super(INT_net, self).__init__()\n",
        "            self.Dyn_net = model_true#model\n",
        "            self.Dyn_net_lin = model_lin\n",
        "            self.Dyn_net_True = model_true\n",
        "            a = np.tril(np.random.uniform(size=(1,order,order)),k=-1)\n",
        "            b = np.random.uniform(size=(1,order))\n",
        "            c = np.random.uniform(size=(1,order))\n",
        "            self.a = torch.nn.Parameter(torch.from_numpy(a[:,:,:]).float(),requires_grad = True)\n",
        "            self.b = torch.nn.Parameter(torch.from_numpy(b).float(),requires_grad = True)\n",
        "            self.c = torch.nn.Parameter(torch.from_numpy(c).float(),requires_grad = True)\n",
        "        def lin_flow(self, inp, dt, order):\n",
        "            \"\"\"\n",
        "            In the forward function we accept a Tensor of input data and we must return\n",
        "            a Tensor of output data. We can use Modules defined in the constructor as\n",
        "            well as arbitrary operators on Tensors.\n",
        "            \"\"\"\n",
        "            k = [(self.Dyn_net_lin(inp))]\n",
        "            for i in range(1,order):\n",
        "                coef_sum = torch.autograd.Variable(torch.zeros(k[0].size()))\n",
        "                for j in range(0,i):\n",
        "                    if j ==0:\n",
        "                        if i == 1:\n",
        "                            coef_sum = coef_sum + k[j]*(self.c[:,i]).expand_as(k[j])\n",
        "                        else:\n",
        "                            coef_sum = coef_sum + k[j]*(self.c[:,i]-self.a[:,i,1:i].sum(1)).expand_as(k[j])\n",
        "                    else :\n",
        "                        coef_sum = coef_sum + k[j]*self.a[:,i,j].expand_as(k[j])\n",
        "                rk_inp = inp+dt*coef_sum        \n",
        "                k.append(self.Dyn_net_lin(rk_inp))\n",
        "            pred_sum = torch.autograd.Variable(torch.zeros(k[0].size()))\n",
        "            for i in range(0,order): \n",
        "                pred_sum = pred_sum+k[i]*self.b[:,i].expand_as(k[i])\n",
        "            pred = inp +dt*pred_sum\n",
        "            gain = pred[0,:]/(inp[0,:])\n",
        "            return pred ,k[0], gain \n",
        "        def flow_True_Model(self, inp, dt, order):\n",
        "            \"\"\"\n",
        "            In the forward function we accept a Tensor of input data and we must return\n",
        "            a Tensor of output data. We can use Modules defined in the constructor as\n",
        "            well as arbitrary operators on Tensors.\n",
        "            \"\"\"\n",
        "            k = [(self.Dyn_net_True(inp))]\n",
        "            for i in range(1,order):\n",
        "                coef_sum = torch.autograd.Variable(torch.zeros(k[0].size()))\n",
        "                for j in range(0,i):\n",
        "                    if j ==0:\n",
        "                        if i == 1:\n",
        "                            coef_sum = coef_sum + k[j]*(self.c[:,i]).expand_as(k[j])\n",
        "                        else:\n",
        "                            coef_sum = coef_sum + k[j]*(self.c[:,i]-self.a[:,i,1:i].sum(1)).expand_as(k[j])\n",
        "                    else :\n",
        "                        coef_sum = coef_sum + k[j]*self.a[:,i,j].expand_as(k[j])\n",
        "                rk_inp = inp+dt*coef_sum        \n",
        "                k.append(self.Dyn_net_True(rk_inp))\n",
        "            pred_sum = torch.autograd.Variable(torch.zeros(k[0].size()))\n",
        "            for i in range(0,order): \n",
        "                pred_sum = pred_sum+k[i]*self.b[:,i].expand_as(k[i])\n",
        "            pred = inp +dt*pred_sum\n",
        "            return pred ,k[0], inp\n",
        "        def flow_RK45_True_Model(self, inp,dt,order = 4):\n",
        "            k1    = self.Dyn_net_True(inp)\n",
        "            inp_k2 = inp + 0.5*dt*k1\n",
        "            k2  = self.Dyn_net_True(inp_k2)\n",
        "            inp_k3 = inp + 0.5*dt*k2       \n",
        "            k3   = self.Dyn_net_True(inp_k3)\n",
        "            inp_k4 = inp + dt*k3          \n",
        "            k4   = self.Dyn_net_True(inp_k4)            \n",
        "            pred = inp +dt*(k1+2*k2+2*k3+k4)/6    \n",
        "            return pred, k1        \n",
        "        def flow_RK45(self, inp,dt,order = 4):\n",
        "            k1    = self.Dyn_net(inp)\n",
        "            inp_k2 = inp + 0.5*dt*k1\n",
        "            k2  = self.Dyn_net(inp_k2)\n",
        "            inp_k3 = inp + 0.5*dt*k2       \n",
        "            k3   = self.Dyn_net(inp_k3)\n",
        "            inp_k4 = inp + dt*k3          \n",
        "            k4   = self.Dyn_net(inp_k4)            \n",
        "            pred = inp +dt*(k1+2*k2+2*k3+k4)/6    \n",
        "            return pred, k1        \n",
        "        def opti_gain_lin(self, h_int, inp, order):\n",
        "            gain = Variable(torch.zeros(h_int.size()).float())\n",
        "            for i in range(h_int.shape[0]):\n",
        "                pred ,tmp, tmpp =self.lin_flow(inp, h_int[i], order)\n",
        "                gain[i] = tmpp[0]\n",
        "                del pred, tmp, tmpp\n",
        "            return gain\n",
        "        def Linear_newton_method_solver(self,function, initial,inp,dt,order, iteration=20, convergence=0.00000001):\n",
        "            for i in range(iteration): \n",
        "                previous_data = initial.clone()\n",
        "                value = function(initial,inp,dt,order)\n",
        "                \n",
        "                jacs = jacobian_in_batch(self.Dyn_net(inp), inp)#, 2, 3, verbose=1)\n",
        "                inc = torch.bmm(torch.inverse(torch.eye(initial.shape[-1]).unsqueeze(0).repeat(initial.shape[0],1,1)-dt*kron(self.a.repeat(jacs.shape[0],1,1),jacs)),value.unsqueeze(-1)).squeeze(-1) \n",
        "                # update \n",
        "                initial = initial + inc\n",
        "                # zero out current gradient to hold new gradients in next iteration \n",
        "                #initial.grad.data.zero_() \n",
        "                # Check convergence. \n",
        "                # When difference current epoch result and previous one is less than \n",
        "                # convergence factor, return result.\n",
        "                if torch.abs(initial - previous_data).sum() < torch.tensor(convergence):\n",
        "                    return initial\n",
        "            return initial # return our final after iteration                \n",
        "        def newton_method_solver(self,function, initial,inp,dt,order, iteration=20, convergence=0.00000001):\n",
        "            for i in range(iteration): \n",
        "                print('iteration ', i)\n",
        "                previous_data = initial.clone()\n",
        "                value = function(initial,inp,dt,order)\n",
        "                jacs = jacobian_in_batch(value, initial)#, 2, 3, verbose=1)\n",
        "                # update \n",
        "                initial = initial - torch.bmm(torch.inverse(jacs),value.unsqueeze(2)).squeeze(-1)#(value / initial.grad).data\n",
        "                # zero out current gradient to hold new gradients in next iteration \n",
        "                #initial.grad.data.zero_() \n",
        "                # Check convergence. \n",
        "                # When difference current epoch result and previous one is less than \n",
        "                # convergence factor, return result.\n",
        "                if torch.abs(initial - previous_data).sum() < torch.tensor(convergence):\n",
        "                    return initial\n",
        "            return initial # return our final after iteration\n",
        "        def solve_function(self, kin, inp, dt, order):\n",
        "            zin = inp.unsqueeze(1).repeat(1, order, 1).reshape(inp.shape[0],-1)\n",
        "            fin = torch.zeros_like(zin)\n",
        "            for i in range(order):\n",
        "                fin[:,i*inp.shape[-1]:(i+1)*inp.shape[-1]] = (self.Dyn_net(kin[:,i*inp.shape[-1]:(i+1)*inp.shape[-1]]))\n",
        "            all_in = zin - kin + torch.bmm(dt*(kron(self.a,torch.eye(inp.shape[-1]).unsqueeze(0))).repeat(fin.shape[0],1,1),fin.unsqueeze(-1)).squeeze(-1)           \n",
        "            return all_in\n",
        "        def forward(self, inp, dt, order):\n",
        "            \"\"\"\n",
        "            In the forward function we accept a Tensor of input data and we must return\n",
        "            a Tensor of output data. We can use Modules defined in the constructor as\n",
        "            well as arbitrary operators on Tensors.\n",
        "            \"\"\"\n",
        "            k = [(self.Dyn_net(inp))]\n",
        "            for i in range(1,order):\n",
        "                coef_sum = torch.zeros(k[0].size())\n",
        "                for j in range(0,i):\n",
        "                    if j ==0:\n",
        "                        if i == 1:\n",
        "                            coef_sum = coef_sum + k[j]*(self.c[:,i]).expand_as(k[j])\n",
        "                        else:\n",
        "                            coef_sum = coef_sum + k[j]*(self.c[:,i]-self.a[:,i,1:i].sum(1)).expand_as(k[j])\n",
        "                    else :\n",
        "                        coef_sum = coef_sum + k[j]*self.a[:,i,j].expand_as(k[j])\n",
        "                rk_inp = inp+dt*coef_sum        \n",
        "                k.append(self.Dyn_net(rk_inp))\n",
        "            #self.a.data[0,:,0] = self.c[0,:] - self.a[:,:,1:].sum(dim = 2)\n",
        "            k_init = torch.ones_like(torch.stack(k).permute(1,0,2).reshape(inp.shape[0],-1))\n",
        "            k_opti = self.Linear_newton_method_solver(self.solve_function, k_init,inp,dt,order, iteration=20, convergence=0.0000001)\n",
        "            #print(k_opti[:,:6])\n",
        "            pred_sum = torch.autograd.Variable(torch.zeros(inp.size()))\n",
        "            for i in range(0,order):\n",
        "                pred_sum = pred_sum+self.Dyn_net(k_opti[:,i*inp.shape[-1]:(i+1)*inp.shape[-1]])*self.b[0,i].expand_as(k_opti[:,i*inp.shape[-1]:(i+1)*inp.shape[-1]])\n",
        "            pred = inp +dt*pred_sum\n",
        "            gain = pred[0,:]/inp[0,:]\n",
        "            return pred ,k_opti, gain \n",
        "class applyRK_Constraints(object):\n",
        "        def __init__(self, frequency=1):\n",
        "            self.frequency = frequency\n",
        "        def __call__(self, module):\n",
        "            if hasattr(module, 'b'):\n",
        "                module.b.data = (torch.abs(module.b.data))\n",
        "                module.b.data  =  ((module.b.data) / (module.b.data).sum(1,keepdim = True).expand_as(module.b.data))\n",
        "            if hasattr(module, 'c'):\n",
        "                module.c.data = module.c.data\n",
        "                module.c.data[:,0] = 0\n",
        "                module.c.data = module.c.data.sub_(torch.min(module.c.data)).div_(torch.max(module.c.data) - torch.min(module.c.data)).sort()[0]\n",
        "            if hasattr(module, 'a'):\n",
        "                module.a.data[0,:,0] = module.c.data[0,:] - module.a.data[:,:,1:].sum(dim = 2)\n"
      ],
      "execution_count": null,
      "outputs": []
    },
    {
      "cell_type": "code",
      "metadata": {
        "id": "qFWN7XcOHQwV"
      },
      "source": [
        "x = Variable(torch.from_numpy(X_train).float())\n",
        "y = Variable(torch.from_numpy(Y_train).float())\n",
        "\n",
        "x_lin = Variable(torch.from_numpy(X_train_lin).float())\n",
        "y_lin = Variable(torch.from_numpy(Y_train_lin).float())\n",
        "\n",
        "hi = np.arange(0,5.0+0.000001,0.01)\n",
        "h_int = Variable(torch.from_numpy(hi).float())\n",
        "gain_true = Variable(torch.from_numpy(np.ones_like(h_int)).float())\n",
        "\n",
        "# Construct our model by instantiating the class defined above\n",
        "    \n",
        "modelRINN = INT_net(params,params['order'])\n",
        "    # Construct our loss function and an Optimizer. The call to model.parameters()\n",
        "\n",
        "if pretrained :\n",
        "        modelRINN.load_state_dict(torch.load(path))\n",
        "criterion = torch.nn.MSELoss()\n",
        "def customized_loss(x, y):\n",
        "        gain_to_zero = ((x-y))**2\n",
        "        return torch.mean(gain_to_zero)\n",
        "optimizer = torch.optim.Adam(modelRINN.parameters(), lr = 0.1)\n",
        "clipper = applyRK_Constraints()\n",
        "def gradClamp(parameters, clip=5):\n",
        "    for p in parameters:\n",
        "        if p.grad !=None:\n",
        "            p.grad.data.clamp_(min = -clip,max=clip)\n",
        "#from visdom import Visdom\n",
        "#import numpy as np\n",
        "#import time\n",
        "\n",
        "#  instantiate the window class \n",
        "#viz = Visdom() \n",
        "\n",
        "\n"
      ],
      "execution_count": null,
      "outputs": []
    },
    {
      "cell_type": "code",
      "metadata": {
        "id": "5C-QrqRtHQwb"
      },
      "source": [
        "optimizer = torch.optim.Adam(modelRINN.parameters(), lr = params['lr'])\n",
        "#Scheduler = torch.optim.lr_scheduler.ReduceLROnPlateau(optimizer, mode='min', factor=0.99, patience=100, threshold=0.001, threshold_mode='abs',min_lr=1e-6)"
      ],
      "execution_count": null,
      "outputs": []
    },
    {
      "cell_type": "code",
      "metadata": {
        "id": "EKhpSgEDHQwb"
      },
      "source": [
        "def burst_sampling(x,dt = 0.1,ns = 8,nb = 20):\n",
        "    burst_sample = [x[0,:ns,:]]\n",
        "    for i in range(nb):\n",
        "        sampling_location = np.random.randint(0, x.shape[1]-ns)\n",
        "        burst_sample.append(x[0,sampling_location:sampling_location+ns,:])\n",
        "    burst_sample = torch.stack(burst_sample)\n",
        "    return burst_sample[:,:-1,:],burst_sample[:,1:,:]\n",
        "  "
      ],
      "execution_count": null,
      "outputs": []
    },
    {
      "cell_type": "code",
      "metadata": {
        "colab": {
          "base_uri": "https://localhost:8080/"
        },
        "id": "B0egWOR5HQwb",
        "outputId": "1fffa985-1019-48f8-a772-6622b59bbe61"
      },
      "source": [
        "from tqdm import tqdm\n",
        "\n",
        "ParamsList=[]\n",
        "LossList=[]\n",
        "MatricesList=[]\n",
        "LearningRatesList=[]\n",
        "SelectedBatchs=[]\n",
        "\n",
        "print ('Learning dynamical model')\n",
        "tmpx,tmpy = burst_sampling(x)\n",
        "Batch=tmpx.shape[0]\n",
        "Index=[i for i in range(Batch)]\n",
        "\n",
        "BinaryVar=0\n",
        "maxLoss=1e9\n",
        "t=0\n",
        "for t in tqdm(range(params['ntrain'][0])):\n",
        "\n",
        "        maxLoss=0\n",
        "        \n",
        "\n",
        "        for b in range(tmpx.shape[0]):\n",
        "            #b = 0\n",
        "            tmpx.requires_grad = True\n",
        "            # Forward pass: Compute predicted gradients by passing x to the model\n",
        "            pred ,grad , inp = modelRINN(tmpx[b,:,:],params['dt_integration'],params['order'])\n",
        "            pred2 ,grad , inp = modelRINN(pred,params['dt_integration'],params['order'])\n",
        "            pred3 ,grad , inp = modelRINN(pred2,params['dt_integration'],params['order'])\n",
        "            pred4 ,grad , inp = modelRINN(pred3,params['dt_integration'],params['order'])\n",
        "            # Compute and print loss\n",
        "            loss = criterion(pred[np.where(~np.isnan(pred.data.numpy()))], tmpy[b,:,:][np.where(~np.isnan(pred.data.numpy()))])#+criterion(pred2[:-1,:], pred[1:,:])+criterion(pred3[:-1,:], pred2[1:,:])+criterion(pred4[:-1,:], pred3[1:,:])\n",
        "            # Zero gradients, perform a backward pass, and update the weights.\n",
        "            optimizer.zero_grad()\n",
        "            loss.backward()\n",
        "            gradClamp(modelRINN.parameters())\n",
        "            optimizer.step()\n",
        "            modelRINN.apply(clipper)\n",
        "            \n",
        "            #torch.save(modelRINN.state_dict(), '/content/drive/MyDrive/Colab Notebooks/RINN-master/Implicit_On_Linear_Stiff_identification.pt')\n",
        "            print(t,b,loss.detach().numpy())\n",
        "            #Scheduler.step(loss)\n",
        "\n",
        "            #if loss.detach().numpy()<1e-3:\n",
        "              #Index.remove(b)\n",
        "       \n",
        "            \n",
        "            if loss.detach().numpy()>maxLoss:\n",
        "              maxLoss=loss.detach().numpy()\n",
        "\n",
        "        #adjust_learning_rate(optimizer,t)\n",
        "              \n",
        "        \n",
        "        LossList.append(maxLoss)\n",
        "        SelectedBatchs.append(len(Index))\n",
        "        #print(ParamsList)\n",
        "        #print(MatricesList)\n",
        "        if maxLoss<1e-3:\n",
        "          break\n",
        "        \n",
        "        print(t,\"maxLoss={}\".format(maxLoss))"
      ],
      "execution_count": null,
      "outputs": [
        {
          "output_type": "stream",
          "text": [
            "\r  0%|          | 0/4000 [00:00<?, ?it/s]"
          ],
          "name": "stderr"
        },
        {
          "output_type": "stream",
          "text": [
            "Learning dynamical model\n",
            "0 0 1957551500000.0\n",
            "0 1 1.0837217e-06\n",
            "0 2 0.0024052975\n",
            "0 3 0.16569735\n",
            "0 4 9.585443e-09\n",
            "0 5 0.0006039543\n",
            "0 6 0.00013523691\n",
            "0 7 7.0115944e-09\n",
            "0 8 0.03254304\n",
            "0 9 3.8315457e-06\n",
            "0 10 9.168523e-09\n",
            "0 11 0.00035752953\n",
            "0 12 1.4399396e-09\n",
            "0 13 1.4056435e-07\n",
            "0 14 2.5353795e-09\n",
            "0 15 1.6776875e-09\n",
            "0 16 4.0481073e-06\n",
            "0 17 0.008012148\n",
            "0 18 2.952447e-07\n",
            "0 19 0.0008735094\n"
          ],
          "name": "stdout"
        },
        {
          "output_type": "stream",
          "text": [
            "\r  0%|          | 1/4000 [00:06<7:07:05,  6.41s/it]"
          ],
          "name": "stderr"
        },
        {
          "output_type": "stream",
          "text": [
            "0 20 8.722497e-06\n",
            "0 maxLoss=1957551538176.0\n",
            "1 0 1283.6953\n",
            "1 1 1.5633243e-07\n",
            "1 2 0.0006859593\n",
            "1 3 0.06746895\n",
            "1 4 5.0340114e-09\n",
            "1 5 0.00036470097\n",
            "1 6 8.921183e-05\n",
            "1 7 4.9124567e-09\n",
            "1 8 0.023811044\n",
            "1 9 2.9222176e-06\n",
            "1 10 7.2100925e-09\n",
            "1 11 0.00028804797\n",
            "1 12 1.1822763e-09\n",
            "1 13 1.1717902e-07\n",
            "1 14 2.1401647e-09\n",
            "1 15 1.4309658e-09\n",
            "1 16 3.4829457e-06\n",
            "1 17 0.0069447756\n",
            "1 18 2.5763623e-07\n"
          ],
          "name": "stdout"
        },
        {
          "output_type": "stream",
          "text": [
            "\r  0%|          | 2/4000 [00:11<6:45:54,  6.09s/it]"
          ],
          "name": "stderr"
        },
        {
          "output_type": "stream",
          "text": [
            "1 19 0.00076665526\n",
            "1 20 7.694188e-06\n",
            "1 maxLoss=1283.6953125\n",
            "2 0 374.41446\n",
            "2 1 1.3970143e-07\n",
            "2 2 0.0006173403\n",
            "2 3 0.061078023\n",
            "2 4 4.5844977e-09\n",
            "2 5 0.00033380114\n",
            "2 6 8.199847e-05\n",
            "2 7 4.531569e-09\n",
            "2 8 0.02203318\n",
            "2 9 2.7117824e-06\n",
            "2 10 6.706842e-09\n",
            "2 11 0.0002685538\n",
            "2 12 1.1043829e-09\n",
            "2 13 1.09640794e-07\n",
            "2 14 2.0054518e-09\n",
            "2 15 1.3426394e-09\n",
            "2 16 3.2717364e-06\n",
            "2 17 0.0065303324\n",
            "2 18 2.4249616e-07\n"
          ],
          "name": "stdout"
        },
        {
          "output_type": "stream",
          "text": [
            "\r  0%|          | 3/4000 [00:15<5:54:51,  5.33s/it]"
          ],
          "name": "stderr"
        },
        {
          "output_type": "stream",
          "text": [
            "2 19 0.0007222178\n",
            "2 20 7.253723e-06\n",
            "2 maxLoss=374.4144592285156\n",
            "3 0 133.01102\n",
            "3 1 1.32132e-07\n",
            "3 2 0.00058515405\n",
            "3 3 0.058002885\n",
            "3 4 4.3613784e-09\n",
            "3 5 0.00031804055\n",
            "3 6 7.823114e-05\n",
            "3 7 4.3284882e-09\n",
            "3 8 0.021067157\n",
            "3 9 2.5953293e-06\n",
            "3 10 6.4238006e-09\n",
            "3 11 0.00025742635\n",
            "3 12 1.0593174e-09\n",
            "3 13 1.0522875e-07\n",
            "3 14 1.925746e-09\n",
            "3 15 1.2898964e-09\n",
            "3 16 3.1445204e-06\n",
            "3 17 0.0062787742\n",
            "3 18 2.3323378e-07\n",
            "3 19 0.0006948461\n"
          ],
          "name": "stdout"
        },
        {
          "output_type": "stream",
          "text": [
            "\r  0%|          | 4/4000 [00:19<5:24:29,  4.87s/it]"
          ],
          "name": "stderr"
        },
        {
          "output_type": "stream",
          "text": [
            "3 20 6.980801e-06\n",
            "3 maxLoss=133.01101684570312\n",
            "4 0 41.768024\n",
            "4 1 1.2736724e-07\n",
            "4 2 0.0005647281\n",
            "4 3 0.05603617\n",
            "4 4 4.217466e-09\n",
            "4 5 0.00030779623\n",
            "4 6 7.576585e-05\n",
            "4 7 4.194725e-09\n",
            "4 8 0.02042793\n",
            "4 9 2.5178233e-06\n",
            "4 10 6.234496e-09\n",
            "4 11 0.0002499512\n",
            "4 12 1.0289286e-09\n",
            "4 13 1.0224159e-07\n",
            "4 14 1.8716142e-09\n",
            "4 15 1.253955e-09\n",
            "4 16 3.0575795e-06\n",
            "4 17 0.0061064265\n",
            "4 18 2.2687678e-07\n",
            "4 19 0.00067601725\n"
          ],
          "name": "stdout"
        },
        {
          "output_type": "stream",
          "text": [
            "\r  0%|          | 5/4000 [00:23<5:15:01,  4.73s/it]"
          ],
          "name": "stderr"
        },
        {
          "output_type": "stream",
          "text": [
            "4 20 6.7925967e-06\n",
            "4 maxLoss=41.76802444458008\n",
            "5 0 8.407159\n",
            "5 1 1.2405897e-07\n",
            "5 2 0.0005504812\n",
            "5 3 0.054659307\n",
            "5 4 4.116253e-09\n",
            "5 5 0.00030056605\n",
            "5 6 7.4018964e-05\n",
            "5 7 4.0996704e-09\n",
            "5 8 0.019971862\n",
            "5 9 2.4624208e-06\n",
            "5 10 6.098841e-09\n",
            "5 11 0.00024458164\n",
            "5 12 1.0070417e-09\n",
            "5 13 1.00087604e-07\n",
            "5 14 1.8325252e-09\n",
            "5 15 1.2279585e-09\n",
            "5 16 2.9946416e-06\n",
            "5 17 0.005981461\n",
            "5 18 2.2225797e-07\n"
          ],
          "name": "stdout"
        },
        {
          "output_type": "stream",
          "text": [
            "\r  0%|          | 6/4000 [00:26<4:46:30,  4.30s/it]"
          ],
          "name": "stderr"
        },
        {
          "output_type": "stream",
          "text": [
            "5 19 0.00066232827\n",
            "5 20 6.6557736e-06\n",
            "5 maxLoss=8.407158851623535\n",
            "6 0 0.5372971\n",
            "6 1 1.2169575e-07\n",
            "6 2 0.00054048223\n",
            "6 3 0.053707514\n",
            "6 4 4.0473505e-09\n",
            "6 5 0.00029571194\n",
            "6 6 7.28618e-05\n",
            "6 7 4.03745e-09\n",
            "6 8 0.019676523\n",
            "6 9 2.4268868e-06\n",
            "6 10 6.0126575e-09\n",
            "6 11 0.00024119872\n",
            "6 12 9.93373e-10\n",
            "6 13 9.875024e-08\n",
            "6 14 1.8083897e-09\n",
            "6 15 1.2120083e-09\n",
            "6 16 2.956211e-06\n",
            "6 17 0.005905612\n",
            "6 18 2.1946781e-07\n"
          ],
          "name": "stdout"
        },
        {
          "output_type": "stream",
          "text": [
            "\r  0%|          | 7/4000 [00:30<4:29:38,  4.05s/it]"
          ],
          "name": "stderr"
        },
        {
          "output_type": "stream",
          "text": [
            "6 19 0.0006540888\n",
            "6 20 6.5736835e-06\n",
            "6 maxLoss=0.5372971296310425\n",
            "7 0 2.7919886\n",
            "7 1 1.204095e-07\n",
            "7 2 0.0005355732\n",
            "7 3 0.053290512\n",
            "7 4 4.02072e-09\n",
            "7 5 0.0002940719\n",
            "7 6 7.252723e-05\n",
            "7 7 4.022266e-09\n",
            "7 8 0.019617414\n",
            "7 9 2.4212236e-06\n",
            "7 10 6.002214e-09\n",
            "7 11 0.00024091134\n",
            "7 12 9.926701e-10\n",
            "7 13 9.8723476e-08\n",
            "7 14 1.8086306e-09\n",
            "7 15 1.212589e-09\n",
            "7 16 2.9586117e-06\n",
            "7 17 0.005912072\n",
            "7 18 2.197612e-07\n"
          ],
          "name": "stdout"
        },
        {
          "output_type": "stream",
          "text": [
            "\r  0%|          | 8/4000 [00:33<4:11:05,  3.77s/it]"
          ],
          "name": "stderr"
        },
        {
          "output_type": "stream",
          "text": [
            "7 19 0.00065511995\n",
            "7 20 6.585371e-06\n",
            "7 maxLoss=2.7919886112213135\n",
            "8 0 2.0320137\n",
            "8 1 1.2067508e-07\n",
            "8 2 0.0005368658\n",
            "8 3 0.053429432\n",
            "8 4 4.0318002e-09\n",
            "8 5 0.0002949313\n",
            "8 6 7.2748306e-05\n",
            "8 7 4.035021e-09\n",
            "8 8 0.019681763\n",
            "8 9 2.4294045e-06\n",
            "8 10 6.0230287e-09\n",
            "8 11 0.00024176316\n",
            "8 12 9.962481e-10\n",
            "8 13 9.908529e-08\n",
            "8 14 1.8153805e-09\n",
            "8 15 1.2171727e-09\n",
            "8 16 2.9698697e-06\n",
            "8 17 0.0059348713\n",
            "8 18 2.2062093e-07\n",
            "8 19 0.00065769535\n"
          ],
          "name": "stdout"
        },
        {
          "output_type": "stream",
          "text": [
            "\r  0%|          | 9/4000 [00:36<4:05:33,  3.69s/it]"
          ],
          "name": "stderr"
        },
        {
          "output_type": "stream",
          "text": [
            "8 20 6.6114144e-06\n",
            "8 maxLoss=2.0320136547088623\n",
            "9 0 0.9979376\n",
            "9 1 1.2122139e-07\n",
            "9 2 0.00053955877\n",
            "9 3 0.05372151\n",
            "9 4 4.0555124e-09\n",
            "9 5 0.0002967747\n",
            "9 6 7.3228824e-05\n",
            "9 7 4.062965e-09\n",
            "9 8 0.019823862\n",
            "9 9 2.44757e-06\n",
            "9 10 6.0696217e-09\n",
            "9 11 0.00024368221\n",
            "9 12 1.0043574e-09\n",
            "9 13 9.990988e-08\n",
            "9 14 1.8307812e-09\n",
            "9 15 1.2276722e-09\n",
            "9 16 2.9959094e-06\n",
            "9 17 0.0059876335\n",
            "9 18 2.2260448e-07\n"
          ],
          "name": "stdout"
        },
        {
          "output_type": "stream",
          "text": [
            "\r  0%|          | 10/4000 [00:40<4:07:04,  3.72s/it]"
          ],
          "name": "stderr"
        },
        {
          "output_type": "stream",
          "text": [
            "9 19 0.0006636751\n",
            "9 20 6.6721727e-06\n",
            "9 maxLoss=0.9979376196861267\n",
            "10 0 0.8138384\n",
            "10 1 1.2206183e-07\n",
            "10 2 0.0005421787\n",
            "10 3 0.05388272\n",
            "10 4 4.0609742e-09\n",
            "10 5 0.00029673727\n",
            "10 6 7.3121766e-05\n",
            "10 7 4.0521826e-09\n",
            "10 8 0.019750014\n",
            "10 9 2.436083e-06\n",
            "10 10 6.035912e-09\n",
            "10 11 0.00024214097\n",
            "10 12 9.973028e-10\n",
            "10 13 9.91464e-08\n",
            "10 14 1.8157388e-09\n",
            "10 15 1.2169662e-09\n",
            "10 16 2.9684102e-06\n",
            "10 17 0.005930196\n",
            "10 18 2.2038623e-07\n"
          ],
          "name": "stdout"
        },
        {
          "output_type": "stream",
          "text": [
            "\r  0%|          | 11/4000 [00:44<3:59:19,  3.60s/it]"
          ],
          "name": "stderr"
        },
        {
          "output_type": "stream",
          "text": [
            "10 19 0.00065684685\n",
            "10 20 6.6014945e-06\n",
            "10 maxLoss=0.8138384222984314\n",
            "11 0 1.3192126\n",
            "11 1 1.2095687e-07\n",
            "11 2 0.00053813675\n",
            "11 3 0.053558625\n",
            "11 4 4.0417545e-09\n",
            "11 5 0.00029566514\n",
            "11 6 7.29327e-05\n",
            "11 7 4.0453427e-09\n",
            "11 8 0.019732846\n",
            "11 9 2.435752e-06\n",
            "11 10 6.03901e-09\n",
            "11 11 0.00024240966\n",
            "11 12 9.98936e-10\n",
            "11 13 9.935472e-08\n",
            "11 14 1.8203316e-09\n",
            "11 15 1.2205145e-09\n",
            "11 16 2.9781247e-06\n",
            "11 17 0.0059513184\n",
            "11 18 2.2123508e-07\n"
          ],
          "name": "stdout"
        },
        {
          "output_type": "stream",
          "text": [
            "\r  0%|          | 12/4000 [00:47<3:54:19,  3.53s/it]"
          ],
          "name": "stderr"
        },
        {
          "output_type": "stream",
          "text": [
            "11 19 0.000659536\n",
            "11 20 6.630034e-06\n",
            "11 maxLoss=1.319212555885315\n",
            "12 0 0.60355985\n",
            "12 1 1.2155039e-07\n",
            "12 2 0.0005409764\n",
            "12 3 0.0538583\n",
            "12 4 4.0655923e-09\n",
            "12 5 0.00029749374\n",
            "12 6 7.340163e-05\n",
            "12 7 4.072346e-09\n",
            "12 8 0.019868705\n",
            "12 9 2.452989e-06\n",
            "12 10 6.082927e-09\n",
            "12 11 0.0002442085\n",
            "12 12 1.0064912e-09\n",
            "12 13 1.00120495e-07\n",
            "12 14 1.8345718e-09\n",
            "12 15 1.2302165e-09\n",
            "12 16 3.0020074e-06\n",
            "12 17 0.00599975\n",
            "12 18 2.2305042e-07\n"
          ],
          "name": "stdout"
        },
        {
          "output_type": "stream",
          "text": [
            "\r  0%|          | 13/4000 [00:51<3:57:17,  3.57s/it]"
          ],
          "name": "stderr"
        },
        {
          "output_type": "stream",
          "text": [
            "12 19 0.0006650028\n",
            "12 20 6.6853922e-06\n",
            "12 maxLoss=0.6035598516464233\n",
            "13 0 1.1943322\n",
            "13 1 1.2230467e-07\n",
            "13 2 0.0005432599\n",
            "13 3 0.05399092\n",
            "13 4 4.069154e-09\n",
            "13 5 0.0002973364\n",
            "13 6 7.327012e-05\n",
            "13 7 4.060429e-09\n",
            "13 8 0.019790351\n",
            "13 9 2.4410986e-06\n",
            "13 10 6.048294e-09\n",
            "13 11 0.00024264208\n",
            "13 12 9.993628e-10\n",
            "13 13 9.9351325e-08\n",
            "13 14 1.8194746e-09\n",
            "13 15 1.219487e-09\n",
            "13 16 2.9745777e-06\n",
            "13 17 0.005942531\n",
            "13 18 2.2084673e-07\n"
          ],
          "name": "stdout"
        },
        {
          "output_type": "stream",
          "text": [
            "\r  0%|          | 14/4000 [00:54<3:48:43,  3.44s/it]"
          ],
          "name": "stderr"
        },
        {
          "output_type": "stream",
          "text": [
            "13 19 0.00065821485\n",
            "13 20 6.6152506e-06\n",
            "13 maxLoss=1.194332242012024\n",
            "14 0 0.8737664\n",
            "14 1 1.2122612e-07\n",
            "14 2 0.0005394048\n",
            "14 3 0.05369054\n",
            "14 4 4.052141e-09\n",
            "14 5 0.00029645665\n",
            "14 6 7.3133684e-05\n",
            "14 7 4.056902e-09\n",
            "14 8 0.019790601\n",
            "14 9 2.4430417e-06\n",
            "14 10 6.0574457e-09\n",
            "14 11 0.00024316406\n",
            "14 12 1.0020862e-09\n",
            "14 13 9.967427e-08\n",
            "14 14 1.8262484e-09\n",
            "14 15 1.2245336e-09\n",
            "14 16 2.98801e-06\n",
            "14 17 0.0059713037\n",
            "14 18 2.2198209e-07\n",
            "14 19 0.0006617833\n"
          ],
          "name": "stdout"
        },
        {
          "output_type": "stream",
          "text": [
            "\r  0%|          | 15/4000 [00:57<3:45:26,  3.39s/it]"
          ],
          "name": "stderr"
        },
        {
          "output_type": "stream",
          "text": [
            "14 20 6.6527255e-06\n",
            "14 maxLoss=0.8737664222717285\n",
            "15 0 0.55939573\n",
            "15 1 1.2176606e-07\n",
            "15 2 0.00054112275\n",
            "15 3 0.053800307\n",
            "15 4 4.056252e-09\n",
            "15 5 0.0002964863\n",
            "15 6 7.30807e-05\n",
            "15 7 4.0509223e-09\n",
            "15 8 0.019748395\n",
            "15 9 2.4364128e-06\n",
            "15 10 6.0376784e-09\n",
            "15 11 0.00024225561\n",
            "15 12 9.979125e-10\n",
            "15 13 9.921913e-08\n",
            "15 14 1.8172707e-09\n",
            "15 15 1.2181252e-09\n",
            "15 16 2.9715313e-06\n",
            "15 17 0.0059368713\n",
            "15 18 2.2065316e-07\n"
          ],
          "name": "stdout"
        },
        {
          "output_type": "stream",
          "text": [
            "\r  0%|          | 16/4000 [01:01<3:56:39,  3.56s/it]"
          ],
          "name": "stderr"
        },
        {
          "output_type": "stream",
          "text": [
            "15 19 0.000657675\n",
            "15 20 6.610255e-06\n",
            "15 maxLoss=0.5593957304954529\n",
            "16 0 0.9595476\n",
            "16 1 1.2113073e-07\n",
            "16 2 0.0005389419\n",
            "16 3 0.053640403\n",
            "16 4 4.0480943e-09\n",
            "16 5 0.00029614428\n",
            "16 6 7.3052724e-05\n",
            "16 7 4.052182e-09\n",
            "16 8 0.019766519\n",
            "16 9 2.4399947e-06\n",
            "16 10 6.0496594e-09\n",
            "16 11 0.00024284134\n",
            "16 12 1.0007394e-09\n",
            "16 13 9.9536116e-08\n",
            "16 14 1.8236601e-09\n",
            "16 15 1.2227735e-09\n",
            "16 16 2.983635e-06\n",
            "16 17 0.005962527\n",
            "16 18 2.2165192e-07\n",
            "16 19 0.0006607861\n"
          ],
          "name": "stdout"
        },
        {
          "output_type": "stream",
          "text": [
            "\r  0%|          | 17/4000 [01:05<4:13:31,  3.82s/it]"
          ],
          "name": "stderr"
        },
        {
          "output_type": "stream",
          "text": [
            "16 20 6.642597e-06\n",
            "16 maxLoss=0.9595475792884827\n",
            "17 0 0.5220131\n",
            "17 1 1.2167443e-07\n",
            "17 2 0.0005410979\n",
            "17 3 0.053830706\n",
            "17 4 4.0607797e-09\n",
            "17 5 0.00029696463\n",
            "17 6 7.323088e-05\n",
            "17 7 4.060854e-09\n",
            "17 8 0.019803643\n",
            "17 9 2.4439764e-06\n",
            "17 10 6.0583e-09\n",
            "17 11 0.0002431383\n",
            "17 12 1.0017845e-09\n",
            "17 13 9.962414e-08\n",
            "17 14 1.8250438e-09\n",
            "17 15 1.2235402e-09\n",
            "17 16 2.9851476e-06\n",
            "17 17 0.0059648976\n",
            "17 18 2.2171896e-07\n"
          ],
          "name": "stdout"
        },
        {
          "output_type": "stream",
          "text": [
            "\r  0%|          | 18/4000 [01:10<4:32:40,  4.11s/it]"
          ],
          "name": "stderr"
        },
        {
          "output_type": "stream",
          "text": [
            "17 19 0.00066093047\n",
            "17 20 6.643592e-06\n",
            "17 maxLoss=0.5220131278038025\n",
            "18 0 0.5225116\n",
            "18 1 1.2167075e-07\n",
            "18 2 0.00054101425\n",
            "18 3 0.05381773\n",
            "18 4 4.0594763e-09\n",
            "18 5 0.00029684821\n",
            "18 6 7.3196585e-05\n",
            "18 7 4.05869e-09\n",
            "18 8 0.019792099\n",
            "18 9 2.4424558e-06\n",
            "18 10 6.054227e-09\n",
            "18 11 0.0002429644\n",
            "18 12 1.0010349e-09\n",
            "18 13 9.954668e-08\n",
            "18 14 1.8235599e-09\n",
            "18 15 1.2224991e-09\n",
            "18 16 2.9825655e-06\n",
            "18 17 0.0059596137\n",
            "18 18 2.2151937e-07\n"
          ],
          "name": "stdout"
        },
        {
          "output_type": "stream",
          "text": [
            "\r  0%|          | 19/4000 [01:14<4:31:27,  4.09s/it]"
          ],
          "name": "stderr"
        },
        {
          "output_type": "stream",
          "text": [
            "18 19 0.00066033\n",
            "18 20 6.6373746e-06\n",
            "18 maxLoss=0.5225116014480591\n",
            "19 0 0.53102964\n",
            "19 1 1.216166e-07\n",
            "19 2 0.00054102787\n",
            "19 3 0.05384115\n",
            "19 4 4.0627772e-09\n",
            "19 5 0.00029718992\n",
            "19 6 7.330401e-05\n",
            "19 7 4.065776e-09\n",
            "19 8 0.019831741\n",
            "19 9 2.4478438e-06\n",
            "19 10 6.068874e-09\n",
            "19 11 0.00024360124\n",
            "19 12 1.0038074e-09\n",
            "19 13 9.983736e-08\n",
            "19 14 1.8291381e-09\n",
            "19 15 1.2264083e-09\n",
            "19 16 2.9923954e-06\n",
            "19 17 0.0059799007\n",
            "19 18 2.2229271e-07\n",
            "19 19 0.0006626796\n"
          ],
          "name": "stdout"
        },
        {
          "output_type": "stream",
          "text": [
            "\r  0%|          | 20/4000 [01:18<4:33:15,  4.12s/it]"
          ],
          "name": "stderr"
        },
        {
          "output_type": "stream",
          "text": [
            "19 20 6.66159e-06\n",
            "19 maxLoss=0.5310296416282654\n",
            "20 0 0.6680353\n",
            "20 1 1.2188342e-07\n",
            "20 2 0.0005414827\n",
            "20 3 0.053822633\n",
            "20 4 4.0570494e-09\n",
            "20 5 0.0002964878\n",
            "20 6 7.30693e-05\n",
            "20 7 4.04969e-09\n",
            "20 8 0.019739807\n",
            "20 9 2.4350652e-06\n",
            "20 10 6.033697e-09\n",
            "20 11 0.0002420765\n",
            "20 12 9.970946e-10\n",
            "20 13 9.9130276e-08\n",
            "20 14 1.8155462e-09\n",
            "20 15 1.2169011e-09\n",
            "20 16 2.96837e-06\n",
            "20 17 0.0059303567\n",
            "20 18 2.2040116e-07\n",
            "20 19 0.0006569013\n"
          ],
          "name": "stdout"
        },
        {
          "output_type": "stream",
          "text": [
            "\r  1%|          | 21/4000 [01:23<4:41:24,  4.24s/it]"
          ],
          "name": "stderr"
        },
        {
          "output_type": "stream",
          "text": [
            "20 20 6.602263e-06\n",
            "20 maxLoss=0.6680353283882141\n",
            "21 0 1.1870083\n",
            "21 1 1.2094571e-07\n",
            "21 2 0.0005379699\n",
            "21 3 0.053530835\n",
            "21 4 4.0389283e-09\n",
            "21 5 0.00029541695\n",
            "21 6 7.2859744e-05\n",
            "21 7 4.0408135e-09\n",
            "21 8 0.019708218\n",
            "21 9 2.4324659e-06\n",
            "21 10 6.0302123e-09\n",
            "21 11 0.0002420375\n",
            "21 12 9.973148e-10\n",
            "21 13 9.91865e-08\n",
            "21 14 1.8171373e-09\n",
            "21 15 1.2182868e-09\n",
            "21 16 2.9725154e-06\n",
            "21 17 0.0059398967\n",
            "21 18 2.208004e-07\n"
          ],
          "name": "stdout"
        },
        {
          "output_type": "stream",
          "text": [
            "\r  1%|          | 22/4000 [01:27<4:46:30,  4.32s/it]"
          ],
          "name": "stderr"
        },
        {
          "output_type": "stream",
          "text": [
            "21 19 0.00065821555\n",
            "21 20 6.616487e-06\n",
            "21 maxLoss=1.187008261680603\n",
            "22 0 0.76933175\n",
            "22 1 1.2125518e-07\n",
            "22 2 0.00053947204\n",
            "22 3 0.053691465\n",
            "22 4 4.051808e-09\n",
            "22 5 0.00029640572\n",
            "22 6 7.311567e-05\n",
            "22 7 4.055559e-09\n",
            "22 8 0.01978268\n",
            "22 9 2.441982e-06\n",
            "22 10 6.0544467e-09\n",
            "22 11 0.0002430294\n",
            "22 12 1.0014968e-09\n",
            "22 13 9.9610375e-08\n",
            "22 14 1.8250048e-09\n",
            "22 15 1.2236757e-09\n",
            "22 16 2.9858124e-06\n",
            "22 17 0.005966722\n",
            "22 18 2.2180843e-07\n"
          ],
          "name": "stdout"
        },
        {
          "output_type": "stream",
          "text": [
            "\r  1%|          | 23/4000 [01:32<4:45:47,  4.31s/it]"
          ],
          "name": "stderr"
        },
        {
          "output_type": "stream",
          "text": [
            "22 19 0.00066125154\n",
            "22 20 6.6471953e-06\n",
            "22 maxLoss=0.7693317532539368\n",
            "23 0 0.5380854\n",
            "23 1 1.2171623e-07\n",
            "23 2 0.00054110406\n",
            "23 3 0.053816084\n",
            "23 4 4.058616e-09\n",
            "23 5 0.00029673855\n",
            "23 6 7.316023e-05\n",
            "23 7 4.056166e-09\n",
            "23 8 0.01977773\n",
            "23 9 2.4404014e-06\n",
            "23 10 6.048565e-09\n",
            "23 11 0.00024272199\n",
            "23 12 9.999531e-10\n",
            "23 13 9.9432974e-08\n",
            "23 14 1.8213565e-09\n",
            "23 15 1.2209787e-09\n",
            "23 16 2.9786866e-06\n",
            "23 17 0.0059516067\n",
            "23 18 2.21214e-07\n"
          ],
          "name": "stdout"
        },
        {
          "output_type": "stream",
          "text": [
            "\r  1%|          | 24/4000 [01:36<4:44:33,  4.29s/it]"
          ],
          "name": "stderr"
        },
        {
          "output_type": "stream",
          "text": [
            "23 19 0.0006593837\n",
            "23 20 6.627755e-06\n",
            "23 maxLoss=0.538085401058197\n",
            "24 0 0.58774763\n",
            "24 1 1.2144578e-07\n",
            "24 2 0.0005403042\n",
            "24 3 0.05377255\n",
            "24 4 4.057804e-09\n",
            "24 5 0.00029684012\n",
            "24 6 7.3221265e-05\n",
            "24 7 4.0613375e-09\n",
            "24 8 0.019810665\n",
            "24 9 2.445361e-06\n",
            "24 10 6.0628076e-09\n",
            "24 11 0.00024336367\n",
            "24 12 1.0028648e-09\n",
            "24 13 9.974548e-08\n",
            "24 14 1.8274836e-09\n",
            "24 15 1.2253071e-09\n",
            "24 16 2.9897808e-06\n",
            "24 17 0.0059746937\n",
            "24 18 2.2210244e-07\n",
            "24 19 0.0006621235\n"
          ],
          "name": "stdout"
        },
        {
          "output_type": "stream",
          "text": [
            "\r  1%|          | 25/4000 [01:40<4:40:38,  4.24s/it]"
          ],
          "name": "stderr"
        },
        {
          "output_type": "stream",
          "text": [
            "24 20 6.6559955e-06\n",
            "24 maxLoss=0.5877476334571838\n",
            "25 0 0.619427\n",
            "25 1 1.2183645e-07\n",
            "25 2 0.00054148445\n",
            "25 3 0.053840518\n",
            "25 4 4.059536e-09\n",
            "25 5 0.00029674443\n",
            "25 6 7.314835e-05\n",
            "25 7 4.0548827e-09\n",
            "25 8 0.019768491\n",
            "25 9 2.4389483e-06\n",
            "25 10 6.044336e-09\n",
            "25 11 0.0002425266\n",
            "25 12 9.990526e-10\n",
            "25 13 9.9336e-08\n",
            "25 14 1.8194611e-09\n",
            "25 15 1.2196272e-09\n",
            "25 16 2.9751939e-06\n",
            "25 17 0.00594438\n",
            "25 18 2.2093218e-07\n",
            "25 19 0.00065852556\n"
          ],
          "name": "stdout"
        },
        {
          "output_type": "stream",
          "text": [
            "\r  1%|          | 26/4000 [01:44<4:41:41,  4.25s/it]"
          ],
          "name": "stderr"
        },
        {
          "output_type": "stream",
          "text": [
            "25 20 6.6188195e-06\n",
            "25 maxLoss=0.6194270253181458\n",
            "26 0 0.71001476\n",
            "26 1 1.2126495e-07\n",
            "26 2 0.0005394364\n",
            "26 3 0.053681273\n",
            "26 4 4.0506194e-09\n",
            "26 5 0.0002962879\n",
            "26 6 7.3080075e-05\n",
            "26 7 4.053229e-09\n",
            "26 8 0.01977001\n",
            "26 9 2.4401998e-06\n",
            "26 10 6.0497447e-09\n",
            "26 11 0.00024282774\n",
            "26 12 1.0006121e-09\n",
            "26 13 9.9517806e-08\n",
            "26 14 1.8232426e-09\n",
            "26 15 1.2224348e-09\n",
            "26 16 2.9826829e-06\n",
            "26 17 0.0059603876\n",
            "26 18 2.2156749e-07\n"
          ],
          "name": "stdout"
        },
        {
          "output_type": "stream",
          "text": [
            "\r  1%|          | 27/4000 [01:49<4:48:46,  4.36s/it]"
          ],
          "name": "stderr"
        },
        {
          "output_type": "stream",
          "text": [
            "26 19 0.00066051085\n",
            "26 20 6.639718e-06\n",
            "26 maxLoss=0.7100147604942322\n",
            "27 0 0.5216013\n",
            "27 1 1.2162259e-07\n",
            "27 2 0.00054087926\n",
            "27 3 0.053810198\n",
            "27 4 4.059375e-09\n",
            "27 5 0.00029686678\n",
            "27 6 7.3208874e-05\n",
            "27 7 4.0596877e-09\n",
            "27 8 0.019798487\n",
            "27 9 2.443371e-06\n",
            "27 10 6.0568346e-09\n",
            "27 11 0.00024308427\n",
            "27 12 1.0015762e-09\n",
            "27 13 9.960451e-08\n",
            "27 14 1.8246903e-09\n",
            "27 15 1.2233005e-09\n",
            "27 16 2.9846303e-06\n",
            "27 17 0.0059639374\n",
            "27 18 2.2168423e-07\n",
            "27 19 0.0006608277\n"
          ],
          "name": "stdout"
        },
        {
          "output_type": "stream",
          "text": [
            "\r  1%|          | 28/4000 [01:53<4:40:33,  4.24s/it]"
          ],
          "name": "stderr"
        },
        {
          "output_type": "stream",
          "text": [
            "27 20 6.642608e-06\n",
            "27 maxLoss=0.5216013193130493\n",
            "28 0 0.5248147\n",
            "28 1 1.2164915e-07\n",
            "28 2 0.00054090464\n",
            "28 3 0.05380576\n",
            "28 4 4.058557e-09\n",
            "28 5 0.00029676987\n",
            "28 6 7.317726e-05\n",
            "28 7 4.0575605e-09\n",
            "28 8 0.019786352\n",
            "28 9 2.4417022e-06\n",
            "28 10 6.0522356e-09\n",
            "28 11 0.0002428859\n",
            "28 12 1.0006945e-09\n",
            "28 13 9.951278e-08\n",
            "28 14 1.8229189e-09\n",
            "28 15 1.2220814e-09\n",
            "28 16 2.9815117e-06\n",
            "28 17 0.005957466\n",
            "28 18 2.2143901e-07\n"
          ],
          "name": "stdout"
        },
        {
          "output_type": "stream",
          "text": [
            "\r  1%|          | 29/4000 [01:57<4:31:02,  4.10s/it]"
          ],
          "name": "stderr"
        },
        {
          "output_type": "stream",
          "text": [
            "28 19 0.0006600811\n",
            "28 20 6.6349307e-06\n",
            "28 maxLoss=0.5248147249221802\n",
            "29 0 0.5298235\n",
            "29 1 1.2154891e-07\n",
            "29 2 0.00054064183\n",
            "29 3 0.05379448\n",
            "29 4 4.0586574e-09\n",
            "29 5 0.0002968551\n",
            "29 6 7.321353e-05\n",
            "29 7 4.0603783e-09\n",
            "29 8 0.019803297\n",
            "29 9 2.4441981e-06\n",
            "29 10 6.059214e-09\n",
            "29 11 0.0002431968\n",
            "29 12 1.0020924e-09\n",
            "29 13 9.96621e-08\n",
            "29 14 1.8257921e-09\n",
            "29 15 1.2241195e-09\n",
            "29 16 2.9867062e-06\n",
            "29 17 0.005968214\n",
            "29 18 2.2185303e-07\n"
          ],
          "name": "stdout"
        },
        {
          "output_type": "stream",
          "text": [
            "\r  1%|          | 30/4000 [02:00<4:15:04,  3.86s/it]"
          ],
          "name": "stderr"
        },
        {
          "output_type": "stream",
          "text": [
            "29 19 0.0006613457\n",
            "29 20 6.6479893e-06\n",
            "29 maxLoss=0.5298234820365906\n",
            "30 0 0.5486966\n",
            "30 1 1.2171368e-07\n",
            "30 2 0.0005410446\n",
            "30 3 0.053806443\n",
            "30 4 4.057642e-09\n",
            "30 5 0.00029664728\n",
            "30 6 7.313343e-05\n",
            "30 7 4.0545016e-09\n",
            "30 8 0.019768583\n",
            "30 9 2.4392302e-06\n",
            "30 10 6.045318e-09\n",
            "30 11 0.00024258529\n",
            "30 12 9.993616e-10\n",
            "30 13 9.937186e-08\n",
            "30 14 1.8201958e-09\n",
            "30 15 1.2201671e-09\n",
            "30 16 2.9766973e-06\n",
            "30 17 0.005947425\n",
            "30 18 2.21056e-07\n"
          ],
          "name": "stdout"
        },
        {
          "output_type": "stream",
          "text": [
            "\r  1%|          | 31/4000 [02:04<4:13:49,  3.84s/it]"
          ],
          "name": "stderr"
        },
        {
          "output_type": "stream",
          "text": [
            "30 19 0.0006589143\n",
            "30 20 6.6229395e-06\n",
            "30 maxLoss=0.5486965775489807\n",
            "31 0 0.6278323\n",
            "31 1 1.2134767e-07\n",
            "31 2 0.0005398246\n",
            "31 3 0.05372117\n",
            "31 4 4.053708e-09\n",
            "31 5 0.00029652187\n",
            "31 6 7.3138675e-05\n",
            "31 7 4.056572e-09\n",
            "31 8 0.01978651\n",
            "31 9 2.4423068e-06\n",
            "31 10 6.055062e-09\n",
            "31 11 0.00024304294\n",
            "31 12 1.0015222e-09\n",
            "31 13 9.960929e-08\n",
            "31 14 1.8249281e-09\n",
            "31 15 1.2235691e-09\n",
            "31 16 2.9855041e-06\n",
            "31 17 0.0059660636\n",
            "31 18 2.2177758e-07\n"
          ],
          "name": "stdout"
        },
        {
          "output_type": "stream",
          "text": [
            "\r  1%|          | 32/4000 [02:07<4:10:17,  3.78s/it]"
          ],
          "name": "stderr"
        },
        {
          "output_type": "stream",
          "text": [
            "31 19 0.0006611509\n",
            "31 20 6.646088e-06\n",
            "31 maxLoss=0.627832293510437\n",
            "32 0 0.54400676\n",
            "32 1 1.2169151e-07\n",
            "32 2 0.00054098695\n",
            "32 3 0.05380484\n",
            "32 4 4.057756e-09\n",
            "32 5 0.00029667438\n",
            "32 6 7.314379e-05\n",
            "32 7 4.0552455e-09\n",
            "32 8 0.019772919\n",
            "32 9 2.4398437e-06\n",
            "32 10 6.0470997e-09\n",
            "32 11 0.00024266253\n",
            "32 12 9.997078e-10\n",
            "32 13 9.940857e-08\n",
            "32 14 1.8209038e-09\n",
            "32 15 1.2206692e-09\n",
            "32 16 2.9779328e-06\n",
            "32 17 0.0059501277\n",
            "32 18 2.2115806e-07\n"
          ],
          "name": "stdout"
        },
        {
          "output_type": "stream",
          "text": [
            "\r  1%|          | 33/4000 [02:11<4:10:42,  3.79s/it]"
          ],
          "name": "stderr"
        },
        {
          "output_type": "stream",
          "text": [
            "32 19 0.0006592213\n",
            "32 20 6.626105e-06\n",
            "32 maxLoss=0.5440067648887634\n",
            "33 0 0.5797218\n",
            "33 1 1.2140687e-07\n",
            "33 2 0.00054008875\n",
            "33 3 0.053747576\n",
            "33 4 4.0556993e-09\n",
            "33 5 0.00029666867\n",
            "33 6 7.317525e-05\n",
            "33 7 4.0586468e-09\n",
            "33 8 0.019796863\n",
            "33 9 2.4435537e-06\n",
            "33 10 6.058187e-09\n",
            "33 11 0.00024316882\n",
            "33 12 1.0020351e-09\n",
            "33 13 9.9660916e-08\n",
            "33 14 1.8258743e-09\n",
            "33 15 1.2242162e-09\n",
            "33 16 2.9870691e-06\n",
            "33 17 0.005969264\n"
          ],
          "name": "stdout"
        },
        {
          "output_type": "stream",
          "text": [
            "\r  1%|          | 34/4000 [02:15<4:16:00,  3.87s/it]"
          ],
          "name": "stderr"
        },
        {
          "output_type": "stream",
          "text": [
            "33 18 2.2189442e-07\n",
            "33 19 0.00066149427\n",
            "33 20 6.6496145e-06\n",
            "33 maxLoss=0.5797218084335327\n",
            "34 0 0.5763963\n",
            "34 1 1.2173483e-07\n",
            "34 2 0.0005410956\n",
            "34 3 0.053808194\n",
            "34 4 4.057514e-09\n",
            "34 5 0.00029662074\n",
            "34 6 7.312396e-05\n",
            "34 7 4.0537738e-09\n",
            "34 8 0.019764423\n",
            "34 9 2.4386043e-06\n",
            "34 10 6.0436953e-09\n",
            "34 11 0.00024250963\n",
            "34 12 9.990354e-10\n",
            "34 13 9.9337704e-08\n",
            "34 14 1.8195376e-09\n",
            "34 15 1.2196909e-09\n",
            "34 16 2.9754642e-06\n",
            "34 17 0.005945016\n",
            "34 18 2.2096503e-07\n"
          ],
          "name": "stdout"
        },
        {
          "output_type": "stream",
          "text": [
            "\r  1%|          | 35/4000 [02:20<4:28:04,  4.06s/it]"
          ],
          "name": "stderr"
        },
        {
          "output_type": "stream",
          "text": [
            "34 19 0.0006586253\n",
            "34 20 6.619889e-06\n",
            "34 maxLoss=0.5763962864875793\n",
            "35 0 0.64717454\n",
            "35 1 1.2128254e-07\n",
            "35 2 0.0005395103\n",
            "35 3 0.053686917\n",
            "35 4 4.050903e-09\n",
            "35 5 0.00029630333\n",
            "35 6 7.308233e-05\n",
            "35 7 4.0533252e-09\n",
            "35 8 0.019770069\n",
            "35 9 2.4401909e-06\n",
            "35 10 6.0496292e-09\n",
            "35 11 0.00024281994\n",
            "35 12 1.0005773e-09\n",
            "35 13 9.9514075e-08\n",
            "35 14 1.8231485e-09\n",
            "35 15 1.2223652e-09\n",
            "35 16 2.9825064e-06\n",
            "35 17 0.005959965\n",
            "35 18 2.2154946e-07\n"
          ],
          "name": "stdout"
        },
        {
          "output_type": "stream",
          "text": [
            "\r  1%|          | 36/4000 [02:23<4:17:08,  3.89s/it]"
          ],
          "name": "stderr"
        },
        {
          "output_type": "stream",
          "text": [
            "35 19 0.0006604552\n",
            "35 20 6.639125e-06\n",
            "35 maxLoss=0.6471745371818542\n",
            "36 0 0.5233993\n",
            "36 1 1.2160007e-07\n",
            "36 2 0.00054072984\n",
            "36 3 0.053792138\n",
            "36 4 4.0576937e-09\n",
            "36 5 0.00029672825\n",
            "36 6 7.3170246e-05\n",
            "36 7 4.0573833e-09\n",
            "36 8 0.019786363\n",
            "36 9 2.4417607e-06\n",
            "36 10 6.052637e-09\n",
            "36 11 0.00024290764\n",
            "36 12 1.0008162e-09\n",
            "36 13 9.952675e-08\n",
            "36 14 1.8232101e-09\n",
            "36 15 1.2223044e-09\n",
            "36 16 2.9820712e-06\n",
            "36 17 0.0059587182\n",
            "36 18 2.2148767e-07\n",
            "36 19 0.0006602331\n"
          ],
          "name": "stdout"
        },
        {
          "output_type": "stream",
          "text": [
            "\r  1%|          | 37/4000 [02:27<4:08:07,  3.76s/it]"
          ],
          "name": "stderr"
        },
        {
          "output_type": "stream",
          "text": [
            "36 20 6.636535e-06\n",
            "36 maxLoss=0.523399293422699\n",
            "37 0 0.521371\n",
            "37 1 1.2155593e-07\n",
            "37 2 0.00054056133\n",
            "37 3 0.053778566\n",
            "37 4 4.0568575e-09\n",
            "37 5 0.00029667746\n",
            "37 6 7.316038e-05\n",
            "37 7 4.056956e-09\n",
            "37 8 0.019784968\n",
            "37 9 2.4416615e-06\n",
            "37 10 6.0525776e-09\n",
            "37 11 0.00024291048\n",
            "37 12 1.0008445e-09\n",
            "37 13 9.953176e-08\n",
            "37 14 1.823327e-09\n",
            "37 15 1.2223991e-09\n",
            "37 16 2.9823593e-06\n",
            "37 17 0.0059593176\n",
            "37 18 2.215144e-07\n",
            "37 19 0.0006603164\n"
          ],
          "name": "stdout"
        },
        {
          "output_type": "stream",
          "text": [
            "\r  1%|          | 38/4000 [02:31<4:11:00,  3.80s/it]"
          ],
          "name": "stderr"
        },
        {
          "output_type": "stream",
          "text": [
            "37 20 6.6374623e-06\n",
            "37 maxLoss=0.5213710069656372\n",
            "38 0 0.5215776\n",
            "38 1 1.2156883e-07\n",
            "38 2 0.0005406053\n",
            "38 3 0.053780444\n",
            "38 4 4.0569303e-09\n",
            "38 5 0.00029667746\n",
            "38 6 7.3158866e-05\n",
            "38 7 4.056789e-09\n",
            "38 8 0.019783702\n",
            "38 9 2.4415062e-06\n",
            "38 10 6.0520526e-09\n",
            "38 11 0.00024288511\n",
            "38 12 1.0007316e-09\n",
            "38 13 9.9519596e-08\n",
            "38 14 1.8230875e-09\n",
            "38 15 1.2222248e-09\n",
            "38 16 2.9819437e-06\n",
            "38 17 0.0059584095\n",
            "38 18 2.2147795e-07\n"
          ],
          "name": "stdout"
        },
        {
          "output_type": "stream",
          "text": [
            "\r  1%|          | 39/4000 [02:34<4:08:47,  3.77s/it]"
          ],
          "name": "stderr"
        },
        {
          "output_type": "stream",
          "text": [
            "38 19 0.0006602086\n",
            "38 20 6.636343e-06\n",
            "38 maxLoss=0.5215775966644287\n",
            "39 0 0.5213598\n",
            "39 1 1.2155392e-07\n",
            "39 2 0.00054055435\n",
            "39 3 0.05377712\n",
            "39 4 4.05679e-09\n",
            "39 5 0.00029667345\n",
            "39 6 7.315934e-05\n",
            "39 7 4.0569614e-09\n",
            "39 8 0.019784736\n",
            "39 9 2.4416674e-06\n",
            "39 10 6.052472e-09\n",
            "39 11 0.0002429083\n",
            "39 12 1.0008406e-09\n",
            "39 13 9.953099e-08\n",
            "39 14 1.8233307e-09\n",
            "39 15 1.2223939e-09\n",
            "39 16 2.9823757e-06\n",
            "39 17 0.0059593567\n",
            "39 18 2.2151445e-07\n",
            "39 19 0.00066032034\n"
          ],
          "name": "stdout"
        },
        {
          "output_type": "stream",
          "text": [
            "\r  1%|          | 40/4000 [02:39<4:20:02,  3.94s/it]"
          ],
          "name": "stderr"
        },
        {
          "output_type": "stream",
          "text": [
            "39 20 6.6374523e-06\n",
            "39 maxLoss=0.5213598012924194\n",
            "40 0 0.5216903\n",
            "40 1 1.2156902e-07\n",
            "40 2 0.0005405979\n",
            "40 3 0.053779807\n",
            "40 4 4.0568127e-09\n",
            "40 5 0.00029666597\n",
            "40 6 7.315539e-05\n",
            "40 7 4.0566475e-09\n",
            "40 8 0.01978289\n",
            "40 9 2.4413675e-06\n",
            "40 10 6.0516534e-09\n",
            "40 11 0.00024287231\n",
            "40 12 1.0006713e-09\n",
            "40 13 9.951414e-08\n",
            "40 14 1.8229789e-09\n",
            "40 15 1.2221408e-09\n",
            "40 16 2.9817231e-06\n",
            "40 17 0.005958044\n",
            "40 18 2.2146183e-07\n"
          ],
          "name": "stdout"
        },
        {
          "output_type": "stream",
          "text": [
            "\r  1%|          | 41/4000 [02:42<4:09:31,  3.78s/it]"
          ],
          "name": "stderr"
        },
        {
          "output_type": "stream",
          "text": [
            "40 19 0.0006601629\n",
            "40 20 6.635784e-06\n",
            "40 maxLoss=0.521690309047699\n",
            "41 0 0.5214159\n",
            "41 1 1.2154423e-07\n",
            "41 2 0.00054052053\n",
            "41 3 0.053775188\n",
            "41 4 4.0566626e-09\n",
            "41 5 0.00029666533\n",
            "41 6 7.31584e-05\n",
            "41 7 4.056879e-09\n",
            "41 8 0.01978448\n",
            "41 9 2.441643e-06\n",
            "41 10 6.052526e-09\n",
            "41 11 0.00024291124\n",
            "41 12 1.0008443e-09\n",
            "41 13 9.953279e-08\n",
            "41 14 1.823344e-09\n",
            "41 15 1.2224165e-09\n",
            "41 16 2.9824348e-06\n",
            "41 17 0.005959519\n",
            "41 18 2.2151815e-07\n"
          ],
          "name": "stdout"
        },
        {
          "output_type": "stream",
          "text": [
            "\r  1%|          | 42/4000 [02:46<4:02:38,  3.68s/it]"
          ],
          "name": "stderr"
        },
        {
          "output_type": "stream",
          "text": [
            "41 19 0.00066033384\n",
            "41 20 6.637655e-06\n",
            "41 maxLoss=0.5214158892631531\n",
            "42 0 0.5220092\n",
            "42 1 1.2156944e-07\n",
            "42 2 0.000540601\n",
            "42 3 0.053779095\n",
            "42 4 4.056726e-09\n",
            "42 5 0.0002966575\n",
            "42 6 7.315229e-05\n",
            "42 7 4.0564294e-09\n",
            "42 8 0.019781427\n",
            "42 9 2.441209e-06\n",
            "42 10 6.0512915e-09\n",
            "42 11 0.00024285314\n",
            "42 12 1.0005813e-09\n",
            "42 13 9.9504724e-08\n",
            "42 14 1.8227981e-09\n",
            "42 15 1.2220239e-09\n",
            "42 16 2.9814496e-06\n",
            "42 17 0.0059574316\n",
            "42 18 2.2143988e-07\n"
          ],
          "name": "stdout"
        },
        {
          "output_type": "stream",
          "text": [
            "\r  1%|          | 43/4000 [02:49<4:06:55,  3.74s/it]"
          ],
          "name": "stderr"
        },
        {
          "output_type": "stream",
          "text": [
            "42 19 0.0006600935\n",
            "42 20 6.635081e-06\n",
            "42 maxLoss=0.5220091938972473\n",
            "43 0 0.5217121\n",
            "43 1 1.2153367e-07\n",
            "43 2 0.0005404841\n",
            "43 3 0.053771492\n",
            "43 4 4.056486e-09\n",
            "43 5 0.00029665983\n",
            "43 6 7.3157345e-05\n",
            "43 7 4.056854e-09\n",
            "43 8 0.019784648\n",
            "43 9 2.4417047e-06\n",
            "43 10 6.0526593e-09\n",
            "43 11 0.00024291853\n",
            "43 12 1.0008934e-09\n",
            "43 13 9.953738e-08\n",
            "43 14 1.8234385e-09\n",
            "43 15 1.2224836e-09\n",
            "43 16 2.982614e-06\n",
            "43 17 0.0059598633\n",
            "43 18 2.2153509e-07\n"
          ],
          "name": "stdout"
        },
        {
          "output_type": "stream",
          "text": [
            "\r  1%|          | 44/4000 [02:53<4:06:47,  3.74s/it]"
          ],
          "name": "stderr"
        },
        {
          "output_type": "stream",
          "text": [
            "43 19 0.00066038704\n",
            "43 20 6.6381567e-06\n",
            "43 maxLoss=0.5217121243476868\n",
            "44 0 0.5229202\n",
            "44 1 1.2157425e-07\n",
            "44 2 0.00054060534\n",
            "44 3 0.053778626\n",
            "44 4 4.056618e-09\n",
            "44 5 0.0002966431\n",
            "44 6 7.314837e-05\n",
            "44 7 4.056106e-09\n",
            "44 8 0.019779816\n",
            "44 9 2.440945e-06\n",
            "44 10 6.050523e-09\n",
            "44 11 0.00024282162\n",
            "44 12 1.0004516e-09\n",
            "44 13 9.948989e-08\n",
            "44 14 1.822502e-09\n",
            "44 15 1.2218194e-09\n",
            "44 16 2.9809105e-06\n",
            "44 17 0.005956436\n",
            "44 18 2.2139936e-07\n",
            "44 19 0.0006599688\n"
          ],
          "name": "stdout"
        },
        {
          "output_type": "stream",
          "text": [
            "\r  1%|          | 45/4000 [02:57<4:09:12,  3.78s/it]"
          ],
          "name": "stderr"
        },
        {
          "output_type": "stream",
          "text": [
            "44 20 6.633852e-06\n",
            "44 maxLoss=0.5229201912879944\n",
            "45 0 0.52287865\n",
            "45 1 1.2151526e-07\n",
            "45 2 0.0005404172\n",
            "45 3 0.053767554\n",
            "45 4 4.0562926e-09\n",
            "45 5 0.0002966527\n",
            "45 6 7.315818e-05\n",
            "45 7 4.056996e-09\n",
            "45 8 0.019785589\n",
            "45 9 2.4418482e-06\n",
            "45 10 6.05315e-09\n",
            "45 11 0.00024294318\n",
            "45 12 1.0010018e-09\n",
            "45 13 9.954882e-08\n",
            "45 14 1.8236845e-09\n",
            "45 15 1.2226495e-09\n",
            "45 16 2.9830478e-06\n",
            "45 17 0.0059608286\n",
            "45 18 2.2157114e-07\n"
          ],
          "name": "stdout"
        },
        {
          "output_type": "stream",
          "text": [
            "\r  1%|          | 46/4000 [03:01<4:18:28,  3.92s/it]"
          ],
          "name": "stderr"
        },
        {
          "output_type": "stream",
          "text": [
            "45 19 0.0006604977\n",
            "45 20 6.6393322e-06\n",
            "45 maxLoss=0.5228786468505859\n",
            "46 0 0.5257099\n",
            "46 1 1.2158992e-07\n",
            "46 2 0.0005406464\n",
            "46 3 0.053780105\n",
            "46 4 4.0565102e-09\n",
            "46 5 0.00029662502\n",
            "46 6 7.314071e-05\n",
            "46 7 4.055594e-09\n",
            "46 8 0.019776613\n",
            "46 9 2.4404962e-06\n",
            "46 10 6.049305e-09\n",
            "46 11 0.00024276601\n",
            "46 12 1.0002105e-09\n",
            "46 13 9.946403e-08\n",
            "46 14 1.8220068e-09\n",
            "46 15 1.2214748e-09\n",
            "46 16 2.9800362e-06\n",
            "46 17 0.005954568\n",
            "46 18 2.2132927e-07\n"
          ],
          "name": "stdout"
        },
        {
          "output_type": "stream",
          "text": [
            "\r  1%|          | 47/4000 [03:06<4:34:01,  4.16s/it]"
          ],
          "name": "stderr"
        },
        {
          "output_type": "stream",
          "text": [
            "46 19 0.00065975887\n",
            "46 20 6.631645e-06\n",
            "46 maxLoss=0.5257099270820618\n",
            "47 0 0.5274843\n",
            "47 1 1.2148294e-07\n",
            "47 2 0.00054031814\n",
            "47 3 0.053760413\n",
            "47 4 4.0559827e-09\n",
            "47 5 0.00029664199\n",
            "47 6 7.3158895e-05\n",
            "47 7 4.0572514e-09\n",
            "47 8 0.01978764\n",
            "47 9 2.4421704e-06\n",
            "47 10 6.0541616e-09\n",
            "47 11 0.000242988\n",
            "47 12 1.0012203e-09\n",
            "47 13 9.957322e-08\n",
            "47 14 1.824156e-09\n",
            "47 15 1.2229963e-09\n",
            "47 16 2.9839214e-06\n",
            "47 17 0.005962713\n",
            "47 18 2.216449e-07\n",
            "47 19 0.00066072214\n"
          ],
          "name": "stdout"
        },
        {
          "output_type": "stream",
          "text": [
            "\r  1%|          | 48/4000 [03:10<4:33:30,  4.15s/it]"
          ],
          "name": "stderr"
        },
        {
          "output_type": "stream",
          "text": [
            "47 20 6.641535e-06\n",
            "47 maxLoss=0.5274842977523804\n",
            "48 0 0.5345016\n",
            "48 1 1.2161829e-07\n",
            "48 2 0.0005407158\n",
            "48 3 0.053781442\n",
            "48 4 4.056299e-09\n",
            "48 5 0.00029658698\n",
            "48 6 7.312632e-05\n",
            "48 7 4.0544834e-09\n",
            "48 8 0.019770274\n",
            "48 9 2.4395902e-06\n",
            "48 10 6.04674e-09\n",
            "48 11 0.00024265827\n",
            "48 12 9.997153e-10\n",
            "48 13 9.941216e-08\n",
            "48 14 1.8210018e-09\n",
            "48 15 1.2207606e-09\n",
            "48 16 2.978243e-06\n",
            "48 17 0.005950825\n",
            "48 18 2.2118762e-07\n",
            "48 19 0.0006593183\n"
          ],
          "name": "stdout"
        },
        {
          "output_type": "stream",
          "text": [
            "\r  1%|          | 49/4000 [03:14<4:31:02,  4.12s/it]"
          ],
          "name": "stderr"
        },
        {
          "output_type": "stream",
          "text": [
            "48 20 6.6271286e-06\n",
            "48 maxLoss=0.5345016121864319\n",
            "49 0 0.5478626\n",
            "49 1 1.2141676e-07\n",
            "49 2 0.00054009503\n",
            "49 3 0.05374496\n",
            "49 4 4.055276e-09\n",
            "49 5 0.00029661896\n",
            "49 6 7.3159594e-05\n",
            "49 7 4.05758e-09\n",
            "49 8 0.019790947\n",
            "49 9 2.442739e-06\n",
            "49 10 6.0559104e-09\n",
            "49 11 0.0002430729\n",
            "49 12 1.0016101e-09\n",
            "49 13 9.9616095e-08\n",
            "49 14 1.8250325e-09\n",
            "49 15 1.2236111e-09\n",
            "49 16 2.9855578e-06\n",
            "49 17 0.005966026\n",
            "49 18 2.2177316e-07\n",
            "49 19 0.00066112407\n"
          ],
          "name": "stdout"
        },
        {
          "output_type": "stream",
          "text": [
            "\r  1%|▏         | 50/4000 [03:18<4:20:01,  3.95s/it]"
          ],
          "name": "stderr"
        },
        {
          "output_type": "stream",
          "text": [
            "49 20 6.6458697e-06\n",
            "49 maxLoss=0.5478625893592834\n",
            "50 0 0.56366765\n",
            "50 1 1.2167281e-07\n",
            "50 2 0.00054085994\n",
            "50 3 0.053788\n",
            "50 4 4.0561576e-09\n",
            "50 5 0.00029654094\n",
            "50 6 7.310653e-05\n",
            "50 7 4.052995e-09\n",
            "50 8 0.019761097\n",
            "50 9 2.438272e-06\n",
            "50 10 6.0429763e-09\n",
            "50 11 0.00024249087\n",
            "50 12 9.989752e-10\n",
            "50 13 9.933258e-08\n",
            "50 14 1.8194751e-09\n",
            "50 15 1.2196839e-09\n",
            "50 16 2.97547e-06\n",
            "50 17 0.0059451344\n",
            "50 18 2.2096783e-07\n"
          ],
          "name": "stdout"
        },
        {
          "output_type": "stream",
          "text": [
            "\r  1%|▏         | 51/4000 [03:21<4:07:43,  3.76s/it]"
          ],
          "name": "stderr"
        },
        {
          "output_type": "stream",
          "text": [
            "50 19 0.00065864157\n",
            "50 20 6.620233e-06\n",
            "50 maxLoss=0.5636676549911499\n",
            "51 0 0.6091971\n",
            "51 1 1.2129091e-07\n",
            "51 2 0.00053954794\n",
            "51 3 0.053691603\n",
            "51 4 4.0512904e-09\n",
            "51 5 0.000296334\n",
            "51 6 7.3090676e-05\n",
            "51 7 4.0538346e-09\n",
            "51 8 0.019772528\n",
            "51 9 2.440536e-06\n",
            "51 10 6.0503793e-09\n",
            "51 11 0.00024285351\n",
            "51 12 1.0007205e-09\n",
            "51 13 9.952902e-08\n",
            "51 14 1.8234332e-09\n",
            "51 15 1.2225441e-09\n",
            "51 16 2.9829469e-06\n",
            "51 17 0.005960895\n",
            "51 18 2.2158585e-07\n"
          ],
          "name": "stdout"
        },
        {
          "output_type": "stream",
          "text": [
            "\r  1%|▏         | 52/4000 [03:24<3:56:23,  3.59s/it]"
          ],
          "name": "stderr"
        },
        {
          "output_type": "stream",
          "text": [
            "51 19 0.00066056167\n",
            "51 20 6.6402063e-06\n",
            "51 maxLoss=0.6091970801353455\n",
            "52 0 0.5352374\n",
            "52 1 1.2160143e-07\n",
            "52 2 0.00054065685\n",
            "52 3 0.05377798\n",
            "52 4 4.0561976e-09\n",
            "52 5 0.00029658605\n",
            "52 6 7.31288e-05\n",
            "52 7 4.054726e-09\n",
            "52 8 0.019771872\n",
            "52 9 2.4398282e-06\n",
            "52 10 6.0474554e-09\n",
            "52 11 0.00024268693\n",
            "52 12 9.998569e-10\n",
            "52 13 9.9426835e-08\n",
            "52 14 1.8213162e-09\n",
            "52 15 1.2209852e-09\n",
            "52 16 2.9787934e-06\n",
            "52 17 0.005951914\n",
            "52 18 2.2122894e-07\n"
          ],
          "name": "stdout"
        },
        {
          "output_type": "stream",
          "text": [
            "\r  1%|▏         | 53/4000 [03:28<4:09:42,  3.80s/it]"
          ],
          "name": "stderr"
        },
        {
          "output_type": "stream",
          "text": [
            "52 19 0.0006594547\n",
            "52 20 6.6285825e-06\n",
            "52 maxLoss=0.5352373719215393\n",
            "53 0 0.53178096\n",
            "53 1 1.2142687e-07\n",
            "53 2 0.0005400741\n",
            "53 3 0.05373623\n",
            "53 4 4.0542156e-09\n",
            "53 5 0.00029651696\n",
            "53 6 7.312831e-05\n",
            "53 7 4.0555803e-09\n",
            "53 8 0.019779468\n",
            "53 9 2.4412025e-06\n",
            "53 10 6.051773e-09\n",
            "53 11 0.00024289209\n",
            "53 12 1.0008222e-09\n",
            "53 13 9.953413e-08\n",
            "53 14 1.8234588e-09\n",
            "53 15 1.2225219e-09\n",
            "53 16 2.9828113e-06\n",
            "53 17 0.005960408\n",
            "53 18 2.2156074e-07\n",
            "53 19 0.00066046644\n"
          ],
          "name": "stdout"
        },
        {
          "output_type": "stream",
          "text": [
            "\r  1%|▏         | 54/4000 [03:32<4:10:35,  3.81s/it]"
          ],
          "name": "stderr"
        },
        {
          "output_type": "stream",
          "text": [
            "53 20 6.6391253e-06\n",
            "53 maxLoss=0.5317809581756592\n",
            "54 0 0.5318282\n",
            "54 1 1.2158219e-07\n",
            "54 2 0.000540584\n",
            "54 3 0.05377179\n",
            "54 4 4.055798e-09\n",
            "54 5 0.00029656157\n",
            "54 6 7.312353e-05\n",
            "54 7 4.054488e-09\n",
            "54 8 0.019771118\n",
            "54 9 2.4397557e-06\n",
            "54 10 6.0472938e-09\n",
            "54 11 0.00024268364\n",
            "54 12 9.998558e-10\n",
            "54 13 9.942665e-08\n",
            "54 14 1.8213238e-09\n",
            "54 15 1.2209941e-09\n",
            "54 16 2.9788355e-06\n",
            "54 17 0.005952072\n",
            "54 18 2.2123547e-07\n"
          ],
          "name": "stdout"
        },
        {
          "output_type": "stream",
          "text": [
            "\r  1%|▏         | 55/4000 [03:36<4:16:37,  3.90s/it]"
          ],
          "name": "stderr"
        },
        {
          "output_type": "stream",
          "text": [
            "54 19 0.0006594726\n",
            "54 20 6.6287116e-06\n",
            "54 maxLoss=0.5318282246589661\n",
            "55 0 0.52987206\n",
            "55 1 1.2142824e-07\n",
            "55 2 0.0005400726\n",
            "55 3 0.05373579\n",
            "55 4 4.0541104e-09\n",
            "55 5 0.00029650386\n",
            "55 6 7.312467e-05\n",
            "55 7 4.0553036e-09\n",
            "55 8 0.01977809\n",
            "55 9 2.4410253e-06\n",
            "55 10 6.0512564e-09\n",
            "55 11 0.00024286876\n",
            "55 12 1.0007206e-09\n",
            "55 13 9.9523795e-08\n",
            "55 14 1.8232534e-09\n",
            "55 15 1.2223823e-09\n",
            "55 16 2.9824391e-06\n",
            "55 17 0.005959663\n",
            "55 18 2.2153124e-07\n"
          ],
          "name": "stdout"
        },
        {
          "output_type": "stream",
          "text": [
            "\r  1%|▏         | 56/4000 [03:41<4:30:43,  4.12s/it]"
          ],
          "name": "stderr"
        },
        {
          "output_type": "stream",
          "text": [
            "55 19 0.0006603861\n",
            "55 20 6.638263e-06\n",
            "55 maxLoss=0.5298720598220825\n",
            "56 0 0.52957696\n",
            "56 1 1.2156825e-07\n",
            "56 2 0.000540544\n",
            "56 3 0.053768557\n",
            "56 4 4.055628e-09\n",
            "56 5 0.0002965559\n",
            "56 6 7.312303e-05\n",
            "56 7 4.0545283e-09\n",
            "56 8 0.019771283\n",
            "56 9 2.4398134e-06\n",
            "56 10 6.0475815e-09\n",
            "56 11 0.00024269595\n",
            "56 12 9.999049e-10\n",
            "56 13 9.94339e-08\n",
            "56 14 1.8214656e-09\n",
            "56 15 1.2210852e-09\n",
            "56 16 2.9791104e-06\n",
            "56 17 0.0059525883\n",
            "56 18 2.2125855e-07\n",
            "56 19 0.000659539\n"
          ],
          "name": "stdout"
        },
        {
          "output_type": "stream",
          "text": [
            "\r  1%|▏         | 57/4000 [03:45<4:19:56,  3.96s/it]"
          ],
          "name": "stderr"
        },
        {
          "output_type": "stream",
          "text": [
            "56 20 6.6294338e-06\n",
            "56 maxLoss=0.5295769572257996\n",
            "57 0 0.5266521\n",
            "57 1 1.2143691e-07\n",
            "57 2 0.000540099\n",
            "57 3 0.053736772\n",
            "57 4 4.0540944e-09\n",
            "57 5 0.00029649856\n",
            "57 6 7.312151e-05\n",
            "57 7 4.055051e-09\n",
            "57 8 0.019776633\n",
            "57 9 2.4407855e-06\n",
            "57 10 6.0505694e-09\n",
            "57 11 0.00024284176\n",
            "57 12 1.000593e-09\n",
            "57 13 9.951009e-08\n",
            "57 14 1.8230171e-09\n",
            "57 15 1.2221958e-09\n",
            "57 16 2.9819942e-06\n",
            "57 17 0.005958727\n",
            "57 18 2.2149447e-07\n"
          ],
          "name": "stdout"
        },
        {
          "output_type": "stream",
          "text": [
            "\r  1%|▏         | 58/4000 [03:48<4:14:11,  3.87s/it]"
          ],
          "name": "stderr"
        },
        {
          "output_type": "stream",
          "text": [
            "57 19 0.0006602753\n",
            "57 20 6.637049e-06\n",
            "57 maxLoss=0.5266520977020264\n",
            "58 0 0.5268108\n",
            "58 1 1.2155081e-07\n",
            "58 2 0.00054047344\n",
            "58 3 0.05376337\n",
            "58 4 4.0553347e-09\n",
            "58 5 0.00029654172\n",
            "58 6 7.312063e-05\n",
            "58 7 4.054477e-09\n",
            "58 8 0.019771388\n",
            "58 9 2.439868e-06\n",
            "58 10 6.0476952e-09\n",
            "58 11 0.00024270467\n",
            "58 12 9.999565e-10\n",
            "58 13 9.943789e-08\n",
            "58 14 1.8215628e-09\n",
            "58 15 1.2211727e-09\n",
            "58 16 2.9793252e-06\n",
            "58 17 0.0059531103\n",
            "58 18 2.2127695e-07\n"
          ],
          "name": "stdout"
        },
        {
          "output_type": "stream",
          "text": [
            "\r  1%|▏         | 59/4000 [03:52<4:19:57,  3.96s/it]"
          ],
          "name": "stderr"
        },
        {
          "output_type": "stream",
          "text": [
            "58 19 0.00065959484\n",
            "58 20 6.6300445e-06\n",
            "58 maxLoss=0.5268108248710632\n",
            "59 0 0.524224\n",
            "59 1 1.214458e-07\n",
            "59 2 0.0005401227\n",
            "59 3 0.053738035\n",
            "59 4 4.0540926e-09\n",
            "59 5 0.00029649332\n",
            "59 6 7.31185e-05\n",
            "59 7 4.0548005e-09\n",
            "59 8 0.019775134\n",
            "59 9 2.4405601e-06\n",
            "59 10 6.049852e-09\n",
            "59 11 0.00024280926\n",
            "59 12 1.0004266e-09\n",
            "59 13 9.9492254e-08\n",
            "59 14 1.8226098e-09\n",
            "59 15 1.2219276e-09\n",
            "59 16 2.981264e-06\n",
            "59 17 0.005957187\n",
            "59 18 2.214366e-07\n"
          ],
          "name": "stdout"
        },
        {
          "output_type": "stream",
          "text": [
            "\r  2%|▏         | 60/4000 [03:57<4:36:43,  4.21s/it]"
          ],
          "name": "stderr"
        },
        {
          "output_type": "stream",
          "text": [
            "59 19 0.0006600954\n",
            "59 20 6.635161e-06\n",
            "59 maxLoss=0.5242239832878113\n",
            "60 0 0.52357066\n",
            "60 1 1.2152007e-07\n",
            "60 2 0.00054037163\n",
            "60 3 0.0537547\n",
            "60 4 4.0548107e-09\n",
            "60 5 0.0002965109\n",
            "60 6 7.311515e-05\n",
            "60 7 4.054265e-09\n",
            "60 8 0.019770827\n",
            "60 9 2.4398626e-06\n",
            "60 10 6.0478036e-09\n",
            "60 11 0.00024271199\n",
            "60 12 9.999975e-10\n",
            "60 13 9.9445224e-08\n",
            "60 14 1.821703e-09\n",
            "60 15 1.2212817e-09\n",
            "60 16 2.979617e-06\n",
            "60 17 0.005953673\n",
            "60 18 2.2130045e-07\n"
          ],
          "name": "stdout"
        },
        {
          "output_type": "stream",
          "text": [
            "\r  2%|▏         | 61/4000 [04:01<4:30:29,  4.12s/it]"
          ],
          "name": "stderr"
        },
        {
          "output_type": "stream",
          "text": [
            "60 19 0.00065967493\n",
            "60 20 6.6309212e-06\n",
            "60 maxLoss=0.5235706567764282\n",
            "61 0 0.52183765\n",
            "61 1 1.2145597e-07\n",
            "61 2 0.00054014433\n",
            "61 3 0.053738665\n",
            "61 4 4.053986e-09\n",
            "61 5 0.00029647636\n",
            "61 6 7.3112686e-05\n",
            "61 7 4.054328e-09\n",
            "61 8 0.019772192\n",
            "61 9 2.4401174e-06\n",
            "61 10 6.0487513e-09\n",
            "61 11 0.00024275723\n",
            "61 12 1.0002222e-09\n",
            "61 13 9.9469396e-08\n",
            "61 14 1.8222116e-09\n",
            "61 15 1.2216372e-09\n",
            "61 16 2.9805512e-06\n",
            "61 17 0.005955743\n",
            "61 18 2.2138072e-07\n",
            "61 19 0.0006599188\n"
          ],
          "name": "stdout"
        },
        {
          "output_type": "stream",
          "text": [
            "\r  2%|▏         | 62/4000 [04:05<4:26:16,  4.06s/it]"
          ],
          "name": "stderr"
        },
        {
          "output_type": "stream",
          "text": [
            "61 20 6.6334355e-06\n",
            "61 maxLoss=0.5218376517295837\n",
            "62 0 0.52180284\n",
            "62 1 1.2149319e-07\n",
            "62 2 0.00054026005\n",
            "62 3 0.053745788\n",
            "62 4 4.054264e-09\n",
            "62 5 0.0002964775\n",
            "62 6 7.310872e-05\n",
            "62 7 4.054024e-09\n",
            "62 8 0.019769838\n",
            "62 9 2.4397527e-06\n",
            "62 10 6.0476997e-09\n",
            "62 11 0.00024270962\n",
            "62 12 9.999982e-10\n",
            "62 13 9.944601e-08\n",
            "62 14 1.8217385e-09\n",
            "62 15 1.2213208e-09\n",
            "62 16 2.979699e-06\n",
            "62 17 0.005953975\n",
            "62 18 2.2131199e-07\n"
          ],
          "name": "stdout"
        },
        {
          "output_type": "stream",
          "text": [
            "\r  2%|▏         | 63/4000 [04:09<4:15:12,  3.89s/it]"
          ],
          "name": "stderr"
        },
        {
          "output_type": "stream",
          "text": [
            "62 19 0.0006597067\n",
            "62 20 6.63132e-06\n",
            "62 maxLoss=0.5218028426170349\n",
            "63 0 0.5210346\n",
            "63 1 1.2146069e-07\n",
            "63 2 0.0005401492\n",
            "63 3 0.05373612\n",
            "63 4 4.0536876e-09\n",
            "63 5 0.00029644143\n",
            "63 6 7.3102136e-05\n",
            "63 7 4.0537276e-09\n",
            "63 8 0.019769032\n",
            "63 9 2.439705e-06\n",
            "63 10 6.047646e-09\n",
            "63 11 0.00024271088\n",
            "63 12 1.0000366e-09\n",
            "63 13 9.944972e-08\n",
            "63 14 1.8218345e-09\n",
            "63 15 1.2213869e-09\n",
            "63 16 2.9799007e-06\n",
            "63 17 0.005954433\n",
            "63 18 2.213318e-07\n",
            "63 19 0.0006597702\n"
          ],
          "name": "stdout"
        },
        {
          "output_type": "stream",
          "text": [
            "\r  2%|▏         | 64/4000 [04:13<4:16:43,  3.91s/it]"
          ],
          "name": "stderr"
        },
        {
          "output_type": "stream",
          "text": [
            "63 20 6.631929e-06\n",
            "63 maxLoss=0.5210345983505249\n",
            "64 0 0.52106506\n",
            "64 1 1.2146732e-07\n",
            "64 2 0.00054016244\n",
            "64 3 0.05373675\n",
            "64 4 4.053659e-09\n",
            "64 5 0.00029643739\n",
            "64 6 7.310052e-05\n",
            "64 7 4.05357e-09\n",
            "64 8 0.019767864\n",
            "64 9 2.4395515e-06\n",
            "64 10 6.0472076e-09\n",
            "64 11 0.00024269428\n",
            "64 12 9.999405e-10\n",
            "64 13 9.943954e-08\n",
            "64 14 1.8216555e-09\n",
            "64 15 1.2212598e-09\n",
            "64 16 2.9795742e-06\n",
            "64 17 0.0059537636\n",
            "64 18 2.2130409e-07\n"
          ],
          "name": "stdout"
        },
        {
          "output_type": "stream",
          "text": [
            "\r  2%|▏         | 65/4000 [04:17<4:24:21,  4.03s/it]"
          ],
          "name": "stderr"
        },
        {
          "output_type": "stream",
          "text": [
            "64 19 0.00065969053\n",
            "64 20 6.631111e-06\n",
            "64 maxLoss=0.5210650563240051\n",
            "65 0 0.5209044\n",
            "65 1 1.2145178e-07\n",
            "65 2 0.00054009823\n",
            "65 3 0.053731196\n",
            "65 4 4.053274e-09\n",
            "65 5 0.00029641026\n",
            "65 6 7.309441e-05\n",
            "65 7 4.0531876e-09\n",
            "65 8 0.01976658\n",
            "65 9 2.4393944e-06\n",
            "65 10 6.046832e-09\n",
            "65 11 0.00024267945\n",
            "65 12 9.998887e-10\n",
            "65 13 9.943558e-08\n",
            "65 14 1.8215702e-09\n",
            "65 15 1.2212016e-09\n",
            "65 16 2.9794685e-06\n",
            "65 17 0.0059535215\n",
            "65 18 2.2129566e-07\n"
          ],
          "name": "stdout"
        },
        {
          "output_type": "stream",
          "text": [
            "\r  2%|▏         | 66/4000 [04:21<4:33:27,  4.17s/it]"
          ],
          "name": "stderr"
        },
        {
          "output_type": "stream",
          "text": [
            "65 19 0.00065966503\n",
            "65 20 6.630866e-06\n",
            "65 maxLoss=0.5209044218063354\n",
            "66 0 0.5208916\n",
            "66 1 1.2144804e-07\n",
            "66 2 0.0005400808\n",
            "66 3 0.053728905\n",
            "66 4 4.0530805e-09\n",
            "66 5 0.0002963956\n",
            "66 6 7.309142e-05\n",
            "66 7 4.0530326e-09\n",
            "66 8 0.019765602\n",
            "66 9 2.4392666e-06\n",
            "66 10 6.046578e-09\n",
            "66 11 0.00024266339\n",
            "66 12 9.998324e-10\n",
            "66 13 9.94308e-08\n",
            "66 14 1.8214628e-09\n",
            "66 15 1.2211224e-09\n",
            "66 16 2.979265e-06\n",
            "66 17 0.00595311\n",
            "66 18 2.2128316e-07\n",
            "66 19 0.00065962144\n"
          ],
          "name": "stdout"
        },
        {
          "output_type": "stream",
          "text": [
            "\r  2%|▏         | 67/4000 [04:25<4:12:42,  3.86s/it]"
          ],
          "name": "stderr"
        },
        {
          "output_type": "stream",
          "text": [
            "66 20 6.6304956e-06\n",
            "66 maxLoss=0.5208916068077087\n",
            "67 0 0.5208578\n",
            "67 1 1.2143921e-07\n",
            "67 2 0.00054004986\n",
            "67 3 0.05372574\n",
            "67 4 4.052849e-09\n",
            "67 5 0.00029637624\n",
            "67 6 7.308605e-05\n",
            "67 7 4.05274e-09\n",
            "67 8 0.019764291\n",
            "67 9 2.4391186e-06\n",
            "67 10 6.0461103e-09\n",
            "67 11 0.00024264843\n",
            "67 12 9.997763e-10\n",
            "67 13 9.942267e-08\n",
            "67 14 1.8213437e-09\n",
            "67 15 1.2210438e-09\n",
            "67 16 2.979081e-06\n",
            "67 17 0.0059527652\n",
            "67 18 2.2126731e-07\n"
          ],
          "name": "stdout"
        },
        {
          "output_type": "stream",
          "text": [
            "\r  2%|▏         | 68/4000 [04:29<4:30:15,  4.12s/it]"
          ],
          "name": "stderr"
        },
        {
          "output_type": "stream",
          "text": [
            "67 19 0.0006595794\n",
            "67 20 6.6300336e-06\n",
            "67 maxLoss=0.5208578109741211\n",
            "68 0 0.5208213\n",
            "68 1 1.2143322e-07\n",
            "68 2 0.000540015\n",
            "68 3 0.05372224\n",
            "68 4 4.0525774e-09\n",
            "68 5 0.00029635685\n",
            "68 6 7.308168e-05\n",
            "68 7 4.0525197e-09\n",
            "68 8 0.019763008\n",
            "68 9 2.4389608e-06\n",
            "68 10 6.0457563e-09\n",
            "68 11 0.0002426357\n",
            "68 12 9.99706e-10\n",
            "68 13 9.9417875e-08\n",
            "68 14 1.8212293e-09\n",
            "68 15 1.2209842e-09\n",
            "68 16 2.978921e-06\n",
            "68 17 0.005952376\n",
            "68 18 2.212555e-07\n"
          ],
          "name": "stdout"
        },
        {
          "output_type": "stream",
          "text": [
            "\r  2%|▏         | 69/4000 [04:33<4:15:55,  3.91s/it]"
          ],
          "name": "stderr"
        },
        {
          "output_type": "stream",
          "text": [
            "68 19 0.0006595428\n",
            "68 20 6.629616e-06\n",
            "68 maxLoss=0.5208212733268738\n",
            "69 0 0.5207943\n",
            "69 1 1.2142571e-07\n",
            "69 2 0.0005399826\n",
            "69 3 0.053718653\n",
            "69 4 4.0523376e-09\n",
            "69 5 0.00029634166\n",
            "69 6 7.3077405e-05\n",
            "69 7 4.05226e-09\n",
            "69 8 0.019761814\n",
            "69 9 2.438781e-06\n",
            "69 10 6.045401e-09\n",
            "69 11 0.00024262133\n",
            "69 12 9.996447e-10\n",
            "69 13 9.941118e-08\n",
            "69 14 1.8211093e-09\n",
            "69 15 1.2208924e-09\n",
            "69 16 2.9787614e-06\n",
            "69 17 0.0059520355\n",
            "69 18 2.2124266e-07\n"
          ],
          "name": "stdout"
        },
        {
          "output_type": "stream",
          "text": [
            "\r  2%|▏         | 70/4000 [04:36<4:07:33,  3.78s/it]"
          ],
          "name": "stderr"
        },
        {
          "output_type": "stream",
          "text": [
            "69 19 0.00065950584\n",
            "69 20 6.629244e-06\n",
            "69 maxLoss=0.5207942724227905\n",
            "70 0 0.52076095\n",
            "70 1 1.2141828e-07\n",
            "70 2 0.00053994585\n",
            "70 3 0.053715676\n",
            "70 4 4.0521373e-09\n",
            "70 5 0.000296325\n",
            "70 6 7.3072915e-05\n",
            "70 7 4.0520067e-09\n",
            "70 8 0.01976056\n",
            "70 9 2.438639e-06\n",
            "70 10 6.044977e-09\n",
            "70 11 0.00024260594\n",
            "70 12 9.995872e-10\n",
            "70 13 9.940458e-08\n",
            "70 14 1.8210013e-09\n",
            "70 15 1.2208222e-09\n",
            "70 16 2.978531e-06\n",
            "70 17 0.005951646\n",
            "70 18 2.2122632e-07\n",
            "70 19 0.0006594587\n"
          ],
          "name": "stdout"
        },
        {
          "output_type": "stream",
          "text": [
            "\r  2%|▏         | 71/4000 [04:40<4:02:40,  3.71s/it]"
          ],
          "name": "stderr"
        },
        {
          "output_type": "stream",
          "text": [
            "70 20 6.6288226e-06\n",
            "70 maxLoss=0.5207609534263611\n",
            "71 0 0.5207318\n",
            "71 1 1.2141041e-07\n",
            "71 2 0.00053991773\n",
            "71 3 0.05371214\n",
            "71 4 4.0518273e-09\n",
            "71 5 0.0002963047\n",
            "71 6 7.306773e-05\n",
            "71 7 4.0517665e-09\n",
            "71 8 0.019759348\n",
            "71 9 2.438502e-06\n",
            "71 10 6.0445826e-09\n",
            "71 11 0.0002425888\n",
            "71 12 9.995208e-10\n",
            "71 13 9.939847e-08\n",
            "71 14 1.8208853e-09\n",
            "71 15 1.2207403e-09\n",
            "71 16 2.9783623e-06\n",
            "71 17 0.0059512523\n",
            "71 18 2.2121435e-07\n"
          ],
          "name": "stdout"
        },
        {
          "output_type": "stream",
          "text": [
            "\r  2%|▏         | 72/4000 [04:43<3:52:00,  3.54s/it]"
          ],
          "name": "stderr"
        },
        {
          "output_type": "stream",
          "text": [
            "71 19 0.0006594178\n",
            "71 20 6.6283933e-06\n",
            "71 maxLoss=0.5207318067550659\n",
            "72 0 0.5206968\n",
            "72 1 1.2140188e-07\n",
            "72 2 0.00053988217\n",
            "72 3 0.05370871\n",
            "72 4 4.051548e-09\n",
            "72 5 0.0002962847\n",
            "72 6 7.306293e-05\n",
            "72 7 4.0515213e-09\n",
            "72 8 0.019758195\n",
            "72 9 2.4383364e-06\n",
            "72 10 6.0442624e-09\n",
            "72 11 0.00024257398\n",
            "72 12 9.994551e-10\n",
            "72 13 9.93924e-08\n",
            "72 14 1.8207548e-09\n",
            "72 15 1.2206721e-09\n",
            "72 16 2.978152e-06\n",
            "72 17 0.0059508746\n",
            "72 18 2.2119681e-07\n",
            "72 19 0.0006593773\n"
          ],
          "name": "stdout"
        },
        {
          "output_type": "stream",
          "text": [
            "\r  2%|▏         | 73/4000 [04:47<4:04:02,  3.73s/it]"
          ],
          "name": "stderr"
        },
        {
          "output_type": "stream",
          "text": [
            "72 20 6.6279567e-06\n",
            "72 maxLoss=0.5206968188285828\n",
            "73 0 0.5206641\n",
            "73 1 1.2139448e-07\n",
            "73 2 0.000539843\n",
            "73 3 0.05370515\n",
            "73 4 4.05131e-09\n",
            "73 5 0.0002962662\n",
            "73 6 7.305845e-05\n",
            "73 7 4.051196e-09\n",
            "73 8 0.019756809\n",
            "73 9 2.438153e-06\n",
            "73 10 6.0437766e-09\n",
            "73 11 0.00024255675\n",
            "73 12 9.993835e-10\n",
            "73 13 9.938561e-08\n",
            "73 14 1.820634e-09\n",
            "73 15 1.2205853e-09\n",
            "73 16 2.977973e-06\n",
            "73 17 0.005950458\n",
            "73 18 2.2118529e-07\n"
          ],
          "name": "stdout"
        },
        {
          "output_type": "stream",
          "text": [
            "\r  2%|▏         | 74/4000 [04:51<4:06:03,  3.76s/it]"
          ],
          "name": "stderr"
        },
        {
          "output_type": "stream",
          "text": [
            "73 19 0.0006593326\n",
            "73 20 6.627561e-06\n",
            "73 maxLoss=0.5206640958786011\n",
            "74 0 0.52063304\n",
            "74 1 1.2138733e-07\n",
            "74 2 0.0005398085\n",
            "74 3 0.05370199\n",
            "74 4 4.051034e-09\n",
            "74 5 0.00029624518\n",
            "74 6 7.30534e-05\n",
            "74 7 4.0509547e-09\n",
            "74 8 0.01975528\n",
            "74 9 2.4380136e-06\n",
            "74 10 6.043401e-09\n",
            "74 11 0.00024254216\n",
            "74 12 9.993332e-10\n",
            "74 13 9.9379676e-08\n",
            "74 14 1.8205398e-09\n",
            "74 15 1.2205025e-09\n",
            "74 16 2.9777764e-06\n",
            "74 17 0.005950132\n",
            "74 18 2.2116977e-07\n"
          ],
          "name": "stdout"
        },
        {
          "output_type": "stream",
          "text": [
            "\r  2%|▏         | 75/4000 [04:56<4:36:39,  4.23s/it]"
          ],
          "name": "stderr"
        },
        {
          "output_type": "stream",
          "text": [
            "74 19 0.00065928884\n",
            "74 20 6.627089e-06\n",
            "74 maxLoss=0.5206330418586731\n",
            "75 0 0.52059114\n",
            "75 1 1.2137836e-07\n",
            "75 2 0.0005397707\n",
            "75 3 0.053698312\n",
            "75 4 4.05075e-09\n",
            "75 5 0.0002962274\n",
            "75 6 7.3048985e-05\n",
            "75 7 4.0506936e-09\n",
            "75 8 0.019753989\n",
            "75 9 2.4378494e-06\n",
            "75 10 6.043012e-09\n",
            "75 11 0.00024252532\n",
            "75 12 9.992583e-10\n",
            "75 13 9.937298e-08\n",
            "75 14 1.8203916e-09\n",
            "75 15 1.2204202e-09\n",
            "75 16 2.9775454e-06\n",
            "75 17 0.005949708\n",
            "75 18 2.2115428e-07\n",
            "75 19 0.000659242\n"
          ],
          "name": "stdout"
        },
        {
          "output_type": "stream",
          "text": [
            "\r  2%|▏         | 76/4000 [05:00<4:24:21,  4.04s/it]"
          ],
          "name": "stderr"
        },
        {
          "output_type": "stream",
          "text": [
            "75 20 6.626605e-06\n",
            "75 maxLoss=0.520591139793396\n",
            "76 0 0.52056134\n",
            "76 1 1.2136913e-07\n",
            "76 2 0.00053973304\n",
            "76 3 0.053694602\n",
            "76 4 4.0505057e-09\n",
            "76 5 0.00029620502\n",
            "76 6 7.304381e-05\n",
            "76 7 4.050404e-09\n",
            "76 8 0.019752769\n",
            "76 9 2.437688e-06\n",
            "76 10 6.0426295e-09\n",
            "76 11 0.00024250908\n",
            "76 12 9.991895e-10\n",
            "76 13 9.936573e-08\n",
            "76 14 1.8202799e-09\n",
            "76 15 1.2203394e-09\n",
            "76 16 2.9773496e-06\n",
            "76 17 0.0059493296\n",
            "76 18 2.2114223e-07\n",
            "76 19 0.00065919705\n"
          ],
          "name": "stdout"
        },
        {
          "output_type": "stream",
          "text": [
            "\r  2%|▏         | 77/4000 [05:03<4:08:31,  3.80s/it]"
          ],
          "name": "stderr"
        },
        {
          "output_type": "stream",
          "text": [
            "76 20 6.626197e-06\n",
            "76 maxLoss=0.5205613374710083\n",
            "77 0 0.5205265\n",
            "77 1 1.2136208e-07\n",
            "77 2 0.0005397023\n",
            "77 3 0.05369058\n",
            "77 4 4.0502264e-09\n",
            "77 5 0.00029618441\n",
            "77 6 7.3038915e-05\n",
            "77 7 4.0501424e-09\n",
            "77 8 0.0197515\n",
            "77 9 2.4375197e-06\n",
            "77 10 6.0422094e-09\n",
            "77 11 0.00024249351\n",
            "77 12 9.99117e-10\n",
            "77 13 9.93585e-08\n",
            "77 14 1.8201581e-09\n",
            "77 15 1.2202707e-09\n",
            "77 16 2.9771277e-06\n",
            "77 17 0.005948913\n",
            "77 18 2.2112476e-07\n"
          ],
          "name": "stdout"
        },
        {
          "output_type": "stream",
          "text": [
            "\r  2%|▏         | 78/4000 [05:07<4:16:49,  3.93s/it]"
          ],
          "name": "stderr"
        },
        {
          "output_type": "stream",
          "text": [
            "77 19 0.00065914786\n",
            "77 20 6.625716e-06\n",
            "77 maxLoss=0.5205265283584595\n",
            "78 0 0.5204887\n",
            "78 1 1.213538e-07\n",
            "78 2 0.0005396653\n",
            "78 3 0.05368728\n",
            "78 4 4.0499475e-09\n",
            "78 5 0.00029616538\n",
            "78 6 7.303363e-05\n",
            "78 7 4.049873e-09\n",
            "78 8 0.019749988\n",
            "78 9 2.4373417e-06\n",
            "78 10 6.041752e-09\n",
            "78 11 0.00024247468\n",
            "78 12 9.99052e-10\n",
            "78 13 9.9350494e-08\n",
            "78 14 1.8200266e-09\n",
            "78 15 1.2201637e-09\n",
            "78 16 2.9769576e-06\n",
            "78 17 0.0059484732\n",
            "78 18 2.2110778e-07\n"
          ],
          "name": "stdout"
        },
        {
          "output_type": "stream",
          "text": [
            "\r  2%|▏         | 79/4000 [05:11<4:15:17,  3.91s/it]"
          ],
          "name": "stderr"
        },
        {
          "output_type": "stream",
          "text": [
            "78 19 0.00065910176\n",
            "78 20 6.6252746e-06\n",
            "78 maxLoss=0.5204886794090271\n",
            "79 0 0.5204472\n",
            "79 1 1.2134568e-07\n",
            "79 2 0.0005396227\n",
            "79 3 0.053683054\n",
            "79 4 4.0496437e-09\n",
            "79 5 0.00029614643\n",
            "79 6 7.302912e-05\n",
            "79 7 4.0495687e-09\n",
            "79 8 0.019748759\n",
            "79 9 2.4371636e-06\n",
            "79 10 6.041347e-09\n",
            "79 11 0.00024245676\n",
            "79 12 9.989856e-10\n",
            "79 13 9.934519e-08\n",
            "79 14 1.819903e-09\n",
            "79 15 1.2200863e-09\n",
            "79 16 2.976742e-06\n",
            "79 17 0.0059479955\n",
            "79 18 2.2109442e-07\n",
            "79 19 0.00065906026\n"
          ],
          "name": "stdout"
        },
        {
          "output_type": "stream",
          "text": [
            "\r  2%|▏         | 80/4000 [05:15<4:10:45,  3.84s/it]"
          ],
          "name": "stderr"
        },
        {
          "output_type": "stream",
          "text": [
            "79 20 6.624855e-06\n",
            "79 maxLoss=0.5204471945762634\n",
            "80 0 0.5204101\n",
            "80 1 1.2133548e-07\n",
            "80 2 0.00053958397\n",
            "80 3 0.053679295\n",
            "80 4 4.0493338e-09\n",
            "80 5 0.0002961224\n",
            "80 6 7.3023766e-05\n",
            "80 7 4.0492867e-09\n",
            "80 8 0.019747308\n",
            "80 9 2.4369851e-06\n",
            "80 10 6.0409264e-09\n",
            "80 11 0.00024243789\n",
            "80 12 9.989016e-10\n",
            "80 13 9.933662e-08\n",
            "80 14 1.8197629e-09\n",
            "80 15 1.219993e-09\n",
            "80 16 2.976522e-06\n",
            "80 17 0.00594759\n",
            "80 18 2.2107487e-07\n"
          ],
          "name": "stdout"
        },
        {
          "output_type": "stream",
          "text": [
            "\r  2%|▏         | 81/4000 [05:19<4:10:08,  3.83s/it]"
          ],
          "name": "stderr"
        },
        {
          "output_type": "stream",
          "text": [
            "80 19 0.00065900886\n",
            "80 20 6.6243083e-06\n",
            "80 maxLoss=0.5204101204872131\n",
            "81 0 0.52037627\n",
            "81 1 1.213275e-07\n",
            "81 2 0.00053954223\n",
            "81 3 0.053675476\n",
            "81 4 4.0490735e-09\n",
            "81 5 0.00029610185\n",
            "81 6 7.301797e-05\n",
            "81 7 4.0490167e-09\n",
            "81 8 0.019745732\n",
            "81 9 2.4368383e-06\n",
            "81 10 6.0404566e-09\n",
            "81 11 0.00024242185\n",
            "81 12 9.988337e-10\n",
            "81 13 9.93298e-08\n",
            "81 14 1.81963e-09\n",
            "81 15 1.2199057e-09\n",
            "81 16 2.976304e-06\n",
            "81 17 0.0059471866\n",
            "81 18 2.2105931e-07\n",
            "81 19 0.0006589634\n"
          ],
          "name": "stdout"
        },
        {
          "output_type": "stream",
          "text": [
            "\r  2%|▏         | 82/4000 [05:21<3:50:10,  3.52s/it]"
          ],
          "name": "stderr"
        },
        {
          "output_type": "stream",
          "text": [
            "81 20 6.623799e-06\n",
            "81 maxLoss=0.5203762650489807\n",
            "82 0 0.5203361\n",
            "82 1 1.2131794e-07\n",
            "82 2 0.00053950725\n",
            "82 3 0.053671576\n",
            "82 4 4.0487493e-09\n",
            "82 5 0.00029607807\n",
            "82 6 7.3012896e-05\n",
            "82 7 4.0486867e-09\n",
            "82 8 0.019744338\n",
            "82 9 2.4366443e-06\n",
            "82 10 6.0400156e-09\n",
            "82 11 0.00024240302\n",
            "82 12 9.987562e-10\n",
            "82 13 9.932322e-08\n",
            "82 14 1.8195072e-09\n",
            "82 15 1.2198124e-09\n",
            "82 16 2.9760631e-06\n",
            "82 17 0.005946742\n",
            "82 18 2.2104594e-07\n"
          ],
          "name": "stdout"
        },
        {
          "output_type": "stream",
          "text": [
            "\r  2%|▏         | 83/4000 [05:25<3:54:50,  3.60s/it]"
          ],
          "name": "stderr"
        },
        {
          "output_type": "stream",
          "text": [
            "82 19 0.0006589126\n",
            "82 20 6.623293e-06\n",
            "82 maxLoss=0.5203360915184021\n",
            "83 0 0.5203023\n",
            "83 1 1.2130894e-07\n",
            "83 2 0.0005394659\n",
            "83 3 0.0536673\n",
            "83 4 4.0484447e-09\n",
            "83 5 0.00029605834\n",
            "83 6 7.300718e-05\n",
            "83 7 4.048355e-09\n",
            "83 8 0.019742986\n",
            "83 9 2.4364394e-06\n",
            "83 10 6.039617e-09\n",
            "83 11 0.00024238462\n",
            "83 12 9.986819e-10\n",
            "83 13 9.931462e-08\n",
            "83 14 1.8193782e-09\n",
            "83 15 1.2197281e-09\n",
            "83 16 2.9758432e-06\n",
            "83 17 0.0059463056\n",
            "83 18 2.2102783e-07\n",
            "83 19 0.0006588637\n"
          ],
          "name": "stdout"
        },
        {
          "output_type": "stream",
          "text": [
            "\r  2%|▏         | 84/4000 [05:30<4:11:00,  3.85s/it]"
          ],
          "name": "stderr"
        },
        {
          "output_type": "stream",
          "text": [
            "83 20 6.6228686e-06\n",
            "83 maxLoss=0.5203022956848145\n",
            "84 0 0.52026284\n",
            "84 1 1.2130009e-07\n",
            "84 2 0.00053942413\n",
            "84 3 0.05366365\n",
            "84 4 4.0481583e-09\n",
            "84 5 0.00029603517\n",
            "84 6 7.300133e-05\n",
            "84 7 4.048074e-09\n",
            "84 8 0.01974139\n",
            "84 9 2.4362578e-06\n",
            "84 10 6.0391376e-09\n",
            "84 11 0.00024236782\n",
            "84 12 9.986066e-10\n",
            "84 13 9.9307556e-08\n",
            "84 14 1.8192271e-09\n",
            "84 15 1.2196294e-09\n",
            "84 16 2.975606e-06\n",
            "84 17 0.005945862\n",
            "84 18 2.2101241e-07\n",
            "84 19 0.000658813\n"
          ],
          "name": "stdout"
        },
        {
          "output_type": "stream",
          "text": [
            "\r  2%|▏         | 85/4000 [05:33<4:01:07,  3.70s/it]"
          ],
          "name": "stderr"
        },
        {
          "output_type": "stream",
          "text": [
            "84 20 6.6223133e-06\n",
            "84 maxLoss=0.5202628374099731\n",
            "85 0 0.5202194\n",
            "85 1 1.2129185e-07\n",
            "85 2 0.0005393835\n",
            "85 3 0.053659525\n",
            "85 4 4.0478745e-09\n",
            "85 5 0.0002960135\n",
            "85 6 7.299598e-05\n",
            "85 7 4.047768e-09\n",
            "85 8 0.019739699\n",
            "85 9 2.436093e-06\n",
            "85 10 6.038648e-09\n",
            "85 11 0.00024235\n",
            "85 12 9.985275e-10\n",
            "85 13 9.9300784e-08\n",
            "85 14 1.8190798e-09\n",
            "85 15 1.219529e-09\n",
            "85 16 2.9753967e-06\n",
            "85 17 0.0059453845\n",
            "85 18 2.2099468e-07\n"
          ],
          "name": "stdout"
        },
        {
          "output_type": "stream",
          "text": [
            "\r  2%|▏         | 86/4000 [05:38<4:21:31,  4.01s/it]"
          ],
          "name": "stderr"
        },
        {
          "output_type": "stream",
          "text": [
            "85 19 0.00065876206\n",
            "85 20 6.6218176e-06\n",
            "85 maxLoss=0.5202193856239319\n",
            "86 0 0.5201808\n",
            "86 1 1.2128098e-07\n",
            "86 2 0.0005393399\n",
            "86 3 0.05365544\n",
            "86 4 4.04757e-09\n",
            "86 5 0.0002959887\n",
            "86 6 7.299043e-05\n",
            "86 7 4.047428e-09\n",
            "86 8 0.019738434\n",
            "86 9 2.4358687e-06\n",
            "86 10 6.038149e-09\n",
            "86 11 0.00024232981\n",
            "86 12 9.984517e-10\n",
            "86 13 9.9292855e-08\n",
            "86 14 1.8189394e-09\n",
            "86 15 1.2194386e-09\n",
            "86 16 2.9751675e-06\n",
            "86 17 0.0059448746\n",
            "86 18 2.2097677e-07\n"
          ],
          "name": "stdout"
        },
        {
          "output_type": "stream",
          "text": [
            "\r  2%|▏         | 87/4000 [05:42<4:24:08,  4.05s/it]"
          ],
          "name": "stderr"
        },
        {
          "output_type": "stream",
          "text": [
            "86 19 0.0006587122\n",
            "86 20 6.6212965e-06\n",
            "86 maxLoss=0.5201808214187622\n",
            "87 0 0.5201407\n",
            "87 1 1.2127218e-07\n",
            "87 2 0.0005393026\n",
            "87 3 0.053650882\n",
            "87 4 4.0472012e-09\n",
            "87 5 0.0002959644\n",
            "87 6 7.298478e-05\n",
            "87 7 4.047116e-09\n",
            "87 8 0.019736791\n",
            "87 9 2.4357275e-06\n",
            "87 10 6.037701e-09\n",
            "87 11 0.00024231007\n",
            "87 12 9.983773e-10\n",
            "87 13 9.928435e-08\n",
            "87 14 1.818795e-09\n",
            "87 15 1.2193421e-09\n",
            "87 16 2.974935e-06\n",
            "87 17 0.0059444425\n",
            "87 18 2.209595e-07\n"
          ],
          "name": "stdout"
        },
        {
          "output_type": "stream",
          "text": [
            "\r  2%|▏         | 88/4000 [05:45<4:15:04,  3.91s/it]"
          ],
          "name": "stderr"
        },
        {
          "output_type": "stream",
          "text": [
            "87 19 0.00065866\n",
            "87 20 6.62084e-06\n",
            "87 maxLoss=0.5201407074928284\n",
            "88 0 0.5200997\n",
            "88 1 1.2126205e-07\n",
            "88 2 0.00053925515\n",
            "88 3 0.053646695\n",
            "88 4 4.0468753e-09\n",
            "88 5 0.00029594303\n",
            "88 6 7.2978415e-05\n",
            "88 7 4.0468024e-09\n",
            "88 8 0.019735279\n",
            "88 9 2.4354927e-06\n",
            "88 10 6.03723e-09\n",
            "88 11 0.00024229092\n",
            "88 12 9.982927e-10\n",
            "88 13 9.927732e-08\n",
            "88 14 1.8186502e-09\n",
            "88 15 1.2192439e-09\n",
            "88 16 2.9746684e-06\n",
            "88 17 0.005943942\n",
            "88 18 2.2094063e-07\n"
          ],
          "name": "stdout"
        },
        {
          "output_type": "stream",
          "text": [
            "\r  2%|▏         | 89/4000 [05:49<4:05:14,  3.76s/it]"
          ],
          "name": "stderr"
        },
        {
          "output_type": "stream",
          "text": [
            "88 19 0.00065860694\n",
            "88 20 6.620265e-06\n",
            "88 maxLoss=0.5200996994972229\n",
            "89 0 0.5200569\n",
            "89 1 1.2125282e-07\n",
            "89 2 0.00053921394\n",
            "89 3 0.053642593\n",
            "89 4 4.04655e-09\n",
            "89 5 0.00029592033\n",
            "89 6 7.2972376e-05\n",
            "89 7 4.046469e-09\n",
            "89 8 0.019733649\n",
            "89 9 2.4353017e-06\n",
            "89 10 6.0367733e-09\n",
            "89 11 0.00024227091\n",
            "89 12 9.982221e-10\n",
            "89 13 9.926863e-08\n",
            "89 14 1.8185109e-09\n",
            "89 15 1.2191517e-09\n",
            "89 16 2.9744572e-06\n",
            "89 17 0.005943469\n",
            "89 18 2.2092387e-07\n"
          ],
          "name": "stdout"
        },
        {
          "output_type": "stream",
          "text": [
            "\r  2%|▏         | 90/4000 [05:53<4:11:03,  3.85s/it]"
          ],
          "name": "stderr"
        },
        {
          "output_type": "stream",
          "text": [
            "89 19 0.0006585498\n",
            "89 20 6.6196844e-06\n",
            "89 maxLoss=0.5200569033622742\n",
            "90 0 0.5200171\n",
            "90 1 1.2124296e-07\n",
            "90 2 0.000539166\n",
            "90 3 0.053638075\n",
            "90 4 4.046227e-09\n",
            "90 5 0.0002958924\n",
            "90 6 7.296703e-05\n",
            "90 7 4.0461523e-09\n",
            "90 8 0.019731896\n",
            "90 9 2.4350904e-06\n",
            "90 10 6.0362075e-09\n",
            "90 11 0.0002422509\n",
            "90 12 9.981209e-10\n",
            "90 13 9.926009e-08\n",
            "90 14 1.8183586e-09\n",
            "90 15 1.2190433e-09\n",
            "90 16 2.9741846e-06\n",
            "90 17 0.005943046\n",
            "90 18 2.2090408e-07\n"
          ],
          "name": "stdout"
        },
        {
          "output_type": "stream",
          "text": [
            "\r  2%|▏         | 91/4000 [05:57<4:08:25,  3.81s/it]"
          ],
          "name": "stderr"
        },
        {
          "output_type": "stream",
          "text": [
            "90 19 0.00065850245\n",
            "90 20 6.619162e-06\n",
            "90 maxLoss=0.5200170874595642\n",
            "91 0 0.5199664\n",
            "91 1 1.2123355e-07\n",
            "91 2 0.0005391222\n",
            "91 3 0.05363335\n",
            "91 4 4.045887e-09\n",
            "91 5 0.0002958689\n",
            "91 6 7.296066e-05\n",
            "91 7 4.045815e-09\n",
            "91 8 0.019730344\n",
            "91 9 2.4349106e-06\n",
            "91 10 6.0357275e-09\n",
            "91 11 0.00024223351\n",
            "91 12 9.980418e-10\n",
            "91 13 9.925258e-08\n",
            "91 14 1.8181998e-09\n",
            "91 15 1.2189382e-09\n",
            "91 16 2.9739344e-06\n",
            "91 17 0.005942464\n",
            "91 18 2.2088862e-07\n",
            "91 19 0.00065844314\n"
          ],
          "name": "stdout"
        },
        {
          "output_type": "stream",
          "text": [
            "\r  2%|▏         | 92/4000 [06:01<4:17:30,  3.95s/it]"
          ],
          "name": "stderr"
        },
        {
          "output_type": "stream",
          "text": [
            "91 20 6.6186317e-06\n",
            "91 maxLoss=0.5199664235115051\n",
            "92 0 0.5199341\n",
            "92 1 1.212245e-07\n",
            "92 2 0.00053907797\n",
            "92 3 0.053629268\n",
            "92 4 4.045576e-09\n",
            "92 5 0.00029584477\n",
            "92 6 7.295445e-05\n",
            "92 7 4.045471e-09\n",
            "92 8 0.01972853\n",
            "92 9 2.4347075e-06\n",
            "92 10 6.035171e-09\n",
            "92 11 0.00024220852\n",
            "92 12 9.979584e-10\n",
            "92 13 9.924424e-08\n",
            "92 14 1.8180455e-09\n",
            "92 15 1.2188431e-09\n",
            "92 16 2.9737053e-06\n",
            "92 17 0.0059419004\n",
            "92 18 2.2087019e-07\n",
            "92 19 0.00065838813\n"
          ],
          "name": "stdout"
        },
        {
          "output_type": "stream",
          "text": [
            "\r  2%|▏         | 93/4000 [06:04<4:09:50,  3.84s/it]"
          ],
          "name": "stderr"
        },
        {
          "output_type": "stream",
          "text": [
            "92 20 6.618044e-06\n",
            "92 maxLoss=0.5199341177940369\n",
            "93 0 0.5198908\n",
            "93 1 1.2121187e-07\n",
            "93 2 0.000539037\n",
            "93 3 0.05362445\n",
            "93 4 4.045205e-09\n",
            "93 5 0.00029581875\n",
            "93 6 7.29481e-05\n",
            "93 7 4.0451216e-09\n",
            "93 8 0.019726839\n",
            "93 9 2.4344847e-06\n",
            "93 10 6.034677e-09\n",
            "93 11 0.00024218984\n",
            "93 12 9.97875e-10\n",
            "93 13 9.923538e-08\n",
            "93 14 1.8178837e-09\n",
            "93 15 1.2187399e-09\n",
            "93 16 2.9734342e-06\n",
            "93 17 0.0059414646\n",
            "93 18 2.2085057e-07\n"
          ],
          "name": "stdout"
        },
        {
          "output_type": "stream",
          "text": [
            "\r  2%|▏         | 94/4000 [06:09<4:16:50,  3.95s/it]"
          ],
          "name": "stderr"
        },
        {
          "output_type": "stream",
          "text": [
            "93 19 0.0006583342\n",
            "93 20 6.617462e-06\n",
            "93 maxLoss=0.5198907852172852\n",
            "94 0 0.51984614\n",
            "94 1 1.2120219e-07\n",
            "94 2 0.0005389823\n",
            "94 3 0.0536197\n",
            "94 4 4.0448414e-09\n",
            "94 5 0.0002957945\n",
            "94 6 7.294234e-05\n",
            "94 7 4.0447765e-09\n",
            "94 8 0.019725192\n",
            "94 9 2.4342785e-06\n",
            "94 10 6.0342216e-09\n",
            "94 11 0.00024217015\n",
            "94 12 9.977893e-10\n",
            "94 13 9.922615e-08\n",
            "94 14 1.8177314e-09\n",
            "94 15 1.2186285e-09\n",
            "94 16 2.973199e-06\n",
            "94 17 0.0059409984\n",
            "94 18 2.2082918e-07\n"
          ],
          "name": "stdout"
        },
        {
          "output_type": "stream",
          "text": [
            "\r  2%|▏         | 95/4000 [06:12<4:11:10,  3.86s/it]"
          ],
          "name": "stderr"
        },
        {
          "output_type": "stream",
          "text": [
            "94 19 0.0006582739\n",
            "94 20 6.6168477e-06\n",
            "94 maxLoss=0.5198461413383484\n",
            "95 0 0.51979846\n",
            "95 1 1.2119055e-07\n",
            "95 2 0.00053893926\n",
            "95 3 0.053615015\n",
            "95 4 4.0445065e-09\n",
            "95 5 0.00029576826\n",
            "95 6 7.2935414e-05\n",
            "95 7 4.044431e-09\n",
            "95 8 0.019723477\n",
            "95 9 2.4340868e-06\n",
            "95 10 6.033658e-09\n",
            "95 11 0.00024214997\n",
            "95 12 9.977021e-10\n",
            "95 13 9.9217104e-08\n",
            "95 14 1.8175619e-09\n",
            "95 15 1.2185274e-09\n",
            "95 16 2.9729279e-06\n",
            "95 17 0.005940471\n",
            "95 18 2.2081106e-07\n",
            "95 19 0.00065821916\n"
          ],
          "name": "stdout"
        },
        {
          "output_type": "stream",
          "text": [
            "\r  2%|▏         | 96/4000 [06:17<4:34:23,  4.22s/it]"
          ],
          "name": "stderr"
        },
        {
          "output_type": "stream",
          "text": [
            "95 20 6.616336e-06\n",
            "95 maxLoss=0.5197984576225281\n",
            "96 0 0.5197493\n",
            "96 1 1.2118093e-07\n",
            "96 2 0.00053889205\n",
            "96 3 0.053610522\n",
            "96 4 4.0441503e-09\n",
            "96 5 0.00029574364\n",
            "96 6 7.292971e-05\n",
            "96 7 4.044069e-09\n",
            "96 8 0.019721823\n",
            "96 9 2.4338478e-06\n",
            "96 10 6.033073e-09\n",
            "96 11 0.00024212789\n",
            "96 12 9.976165e-10\n",
            "96 13 9.920826e-08\n",
            "96 14 1.817401e-09\n",
            "96 15 1.2184154e-09\n",
            "96 16 2.9726828e-06\n",
            "96 17 0.00593989\n",
            "96 18 2.2079045e-07\n"
          ],
          "name": "stdout"
        },
        {
          "output_type": "stream",
          "text": [
            "\r  2%|▏         | 97/4000 [06:22<4:38:11,  4.28s/it]"
          ],
          "name": "stderr"
        },
        {
          "output_type": "stream",
          "text": [
            "96 19 0.0006581592\n",
            "96 20 6.6157804e-06\n",
            "96 maxLoss=0.5197492837905884\n",
            "97 0 0.5197071\n",
            "97 1 1.2117053e-07\n",
            "97 2 0.0005388424\n",
            "97 3 0.05360515\n",
            "97 4 4.0438035e-09\n",
            "97 5 0.00029571643\n",
            "97 6 7.2922085e-05\n",
            "97 7 4.0437107e-09\n",
            "97 8 0.019720048\n",
            "97 9 2.4336514e-06\n",
            "97 10 6.032535e-09\n",
            "97 11 0.00024210424\n",
            "97 12 9.975196e-10\n",
            "97 13 9.920035e-08\n",
            "97 14 1.8172448e-09\n",
            "97 15 1.2182989e-09\n",
            "97 16 2.9723944e-06\n",
            "97 17 0.005939362\n",
            "97 18 2.2077192e-07\n",
            "97 19 0.0006581008\n"
          ],
          "name": "stdout"
        },
        {
          "output_type": "stream",
          "text": [
            "\r  2%|▏         | 98/4000 [06:26<4:27:50,  4.12s/it]"
          ],
          "name": "stderr"
        },
        {
          "output_type": "stream",
          "text": [
            "97 20 6.6151083e-06\n",
            "97 maxLoss=0.5197070837020874\n",
            "98 0 0.5196547\n",
            "98 1 1.2115895e-07\n",
            "98 2 0.000538797\n",
            "98 3 0.053600404\n",
            "98 4 4.043389e-09\n",
            "98 5 0.00029568616\n",
            "98 6 7.2916155e-05\n",
            "98 7 4.0432946e-09\n",
            "98 8 0.019718263\n",
            "98 9 2.4334108e-06\n",
            "98 10 6.031955e-09\n",
            "98 11 0.00024208495\n",
            "98 12 9.974268e-10\n",
            "98 13 9.919131e-08\n",
            "98 14 1.8170796e-09\n",
            "98 15 1.2181957e-09\n",
            "98 16 2.9721245e-06\n",
            "98 17 0.00593879\n",
            "98 18 2.2075213e-07\n",
            "98 19 0.0006580426\n"
          ],
          "name": "stdout"
        },
        {
          "output_type": "stream",
          "text": [
            "\r  2%|▏         | 99/4000 [06:29<4:12:25,  3.88s/it]"
          ],
          "name": "stderr"
        },
        {
          "output_type": "stream",
          "text": [
            "98 20 6.6145362e-06\n",
            "98 maxLoss=0.5196546912193298\n",
            "99 0 0.5196072\n",
            "99 1 1.2114701e-07\n",
            "99 2 0.00053874735\n",
            "99 3 0.053595904\n",
            "99 4 4.0430623e-09\n",
            "99 5 0.00029566066\n",
            "99 6 7.290954e-05\n",
            "99 7 4.0429633e-09\n",
            "99 8 0.019716319\n",
            "99 9 2.4331678e-06\n",
            "99 10 6.0314513e-09\n",
            "99 11 0.00024206085\n",
            "99 12 9.973425e-10\n",
            "99 13 9.9182195e-08\n",
            "99 14 1.8168981e-09\n",
            "99 15 1.2180826e-09\n",
            "99 16 2.9718365e-06\n",
            "99 17 0.0059382888\n",
            "99 18 2.2072922e-07\n"
          ],
          "name": "stdout"
        },
        {
          "output_type": "stream",
          "text": [
            "\r  2%|▎         | 100/4000 [06:34<4:28:56,  4.14s/it]"
          ],
          "name": "stderr"
        },
        {
          "output_type": "stream",
          "text": [
            "99 19 0.0006579837\n",
            "99 20 6.6139546e-06\n",
            "99 maxLoss=0.5196071863174438\n",
            "100 0 0.5195643\n",
            "100 1 1.2113668e-07\n",
            "100 2 0.0005386948\n",
            "100 3 0.053590562\n",
            "100 4 4.042688e-09\n",
            "100 5 0.00029563459\n",
            "100 6 7.2902556e-05\n",
            "100 7 4.042567e-09\n",
            "100 8 0.01971454\n",
            "100 9 2.43296e-06\n",
            "100 10 6.0308953e-09\n",
            "100 11 0.00024203646\n",
            "100 12 9.972478e-10\n",
            "100 13 9.917191e-08\n",
            "100 14 1.8167441e-09\n",
            "100 15 1.2179731e-09\n",
            "100 16 2.971566e-06\n",
            "100 17 0.005937726\n",
            "100 18 2.2070883e-07\n"
          ],
          "name": "stdout"
        },
        {
          "output_type": "stream",
          "text": [
            "\r  3%|▎         | 101/4000 [06:37<4:15:11,  3.93s/it]"
          ],
          "name": "stderr"
        },
        {
          "output_type": "stream",
          "text": [
            "100 19 0.00065791066\n",
            "100 20 6.613281e-06\n",
            "100 maxLoss=0.5195642709732056\n",
            "101 0 0.51951736\n",
            "101 1 1.2112548e-07\n",
            "101 2 0.0005386481\n",
            "101 3 0.053586632\n",
            "101 4 4.042316e-09\n",
            "101 5 0.00029560583\n",
            "101 6 7.289578e-05\n",
            "101 7 4.0421884e-09\n",
            "101 8 0.019712629\n",
            "101 9 2.4327405e-06\n",
            "101 10 6.030358e-09\n",
            "101 11 0.00024201673\n",
            "101 12 9.971575e-10\n",
            "101 13 9.9163614e-08\n",
            "101 14 1.816576e-09\n",
            "101 15 1.2178598e-09\n",
            "101 16 2.9712605e-06\n",
            "101 17 0.0059371623\n",
            "101 18 2.2068787e-07\n",
            "101 19 0.0006578526\n"
          ],
          "name": "stdout"
        },
        {
          "output_type": "stream",
          "text": [
            "\r  3%|▎         | 102/4000 [06:41<4:22:08,  4.04s/it]"
          ],
          "name": "stderr"
        },
        {
          "output_type": "stream",
          "text": [
            "101 20 6.612684e-06\n",
            "101 maxLoss=0.5195173621177673\n",
            "102 0 0.5194709\n",
            "102 1 1.2111441e-07\n",
            "102 2 0.00053859584\n",
            "102 3 0.05358104\n",
            "102 4 4.0419277e-09\n",
            "102 5 0.0002955771\n",
            "102 6 7.288895e-05\n",
            "102 7 4.041825e-09\n",
            "102 8 0.019710917\n",
            "102 9 2.432492e-06\n",
            "102 10 6.0297403e-09\n",
            "102 11 0.00024199153\n",
            "102 12 9.970613e-10\n",
            "102 13 9.9154356e-08\n",
            "102 14 1.8164105e-09\n",
            "102 15 1.2177389e-09\n",
            "102 16 2.9710159e-06\n",
            "102 17 0.0059365975\n",
            "102 18 2.2066861e-07\n",
            "102 19 0.00065779506\n"
          ],
          "name": "stdout"
        },
        {
          "output_type": "stream",
          "text": [
            "\r  3%|▎         | 103/4000 [06:44<4:04:51,  3.77s/it]"
          ],
          "name": "stderr"
        },
        {
          "output_type": "stream",
          "text": [
            "102 20 6.612047e-06\n",
            "102 maxLoss=0.5194708704948425\n",
            "103 0 0.5194171\n",
            "103 1 1.2110169e-07\n",
            "103 2 0.00053853943\n",
            "103 3 0.05357552\n",
            "103 4 4.041539e-09\n",
            "103 5 0.00029554762\n",
            "103 6 7.288179e-05\n",
            "103 7 4.0413943e-09\n",
            "103 8 0.019708827\n",
            "103 9 2.4322696e-06\n",
            "103 10 6.0291643e-09\n",
            "103 11 0.00024196881\n",
            "103 12 9.96965e-10\n",
            "103 13 9.914421e-08\n",
            "103 14 1.8162085e-09\n",
            "103 15 1.2176162e-09\n",
            "103 16 2.9707421e-06\n",
            "103 17 0.0059360107\n",
            "103 18 2.2064705e-07\n",
            "103 19 0.0006577275\n"
          ],
          "name": "stdout"
        },
        {
          "output_type": "stream",
          "text": [
            "\r  3%|▎         | 104/4000 [06:48<4:00:33,  3.70s/it]"
          ],
          "name": "stderr"
        },
        {
          "output_type": "stream",
          "text": [
            "103 20 6.6113635e-06\n",
            "103 maxLoss=0.5194171071052551\n",
            "104 0 0.51936543\n",
            "104 1 1.2109076e-07\n",
            "104 2 0.00053848804\n",
            "104 3 0.053570308\n",
            "104 4 4.041118e-09\n",
            "104 5 0.00029552096\n",
            "104 6 7.287493e-05\n",
            "104 7 4.040991e-09\n",
            "104 8 0.019706953\n",
            "104 9 2.432034e-06\n",
            "104 10 6.028549e-09\n",
            "104 11 0.00024194444\n",
            "104 12 9.968671e-10\n",
            "104 13 9.9134084e-08\n",
            "104 14 1.8160425e-09\n",
            "104 15 1.2174989e-09\n",
            "104 16 2.9704154e-06\n",
            "104 17 0.0059353733\n",
            "104 18 2.2062555e-07\n"
          ],
          "name": "stdout"
        },
        {
          "output_type": "stream",
          "text": [
            "\r  3%|▎         | 105/4000 [06:52<3:57:36,  3.66s/it]"
          ],
          "name": "stderr"
        },
        {
          "output_type": "stream",
          "text": [
            "104 19 0.00065766275\n",
            "104 20 6.6107787e-06\n",
            "104 maxLoss=0.5193654298782349\n",
            "105 0 0.5193121\n",
            "105 1 1.2107886e-07\n",
            "105 2 0.00053843396\n",
            "105 3 0.053564917\n",
            "105 4 4.0407255e-09\n",
            "105 5 0.00029549052\n",
            "105 6 7.286721e-05\n",
            "105 7 4.040605e-09\n",
            "105 8 0.019704955\n",
            "105 9 2.4317644e-06\n",
            "105 10 6.027998e-09\n",
            "105 11 0.00024191954\n",
            "105 12 9.967696e-10\n",
            "105 13 9.912452e-08\n",
            "105 14 1.8158761e-09\n",
            "105 15 1.2173759e-09\n",
            "105 16 2.9701228e-06\n",
            "105 17 0.005934854\n",
            "105 18 2.2060189e-07\n"
          ],
          "name": "stdout"
        },
        {
          "output_type": "stream",
          "text": [
            "\r  3%|▎         | 106/4000 [06:55<4:01:58,  3.73s/it]"
          ],
          "name": "stderr"
        },
        {
          "output_type": "stream",
          "text": [
            "105 19 0.00065759465\n",
            "105 20 6.6100906e-06\n",
            "105 maxLoss=0.5193120837211609\n",
            "106 0 0.51926535\n",
            "106 1 1.210666e-07\n",
            "106 2 0.00053838216\n",
            "106 3 0.053559463\n",
            "106 4 4.040296e-09\n",
            "106 5 0.00029546086\n",
            "106 6 7.286017e-05\n",
            "106 7 4.0402157e-09\n",
            "106 8 0.019703057\n",
            "106 9 2.431528e-06\n",
            "106 10 6.027328e-09\n",
            "106 11 0.00024189691\n",
            "106 12 9.966585e-10\n",
            "106 13 9.9113926e-08\n",
            "106 14 1.8156749e-09\n",
            "106 15 1.2172527e-09\n",
            "106 16 2.9698342e-06\n",
            "106 17 0.005934247\n",
            "106 18 2.2058236e-07\n",
            "106 19 0.0006575378\n"
          ],
          "name": "stdout"
        },
        {
          "output_type": "stream",
          "text": [
            "\r  3%|▎         | 107/4000 [07:00<4:21:56,  4.04s/it]"
          ],
          "name": "stderr"
        },
        {
          "output_type": "stream",
          "text": [
            "106 20 6.6094517e-06\n",
            "106 maxLoss=0.519265353679657\n",
            "107 0 0.5192091\n",
            "107 1 1.2105467e-07\n",
            "107 2 0.0005383251\n",
            "107 3 0.0535539\n",
            "107 4 4.0398924e-09\n",
            "107 5 0.00029543237\n",
            "107 6 7.285214e-05\n",
            "107 7 4.0398045e-09\n",
            "107 8 0.019701002\n",
            "107 9 2.431303e-06\n",
            "107 10 6.0267324e-09\n",
            "107 11 0.00024187131\n",
            "107 12 9.965582e-10\n",
            "107 13 9.910527e-08\n",
            "107 14 1.8155094e-09\n",
            "107 15 1.2171352e-09\n",
            "107 16 2.9695436e-06\n",
            "107 17 0.005933635\n",
            "107 18 2.2055802e-07\n"
          ],
          "name": "stdout"
        },
        {
          "output_type": "stream",
          "text": [
            "\r  3%|▎         | 108/4000 [07:05<4:37:54,  4.28s/it]"
          ],
          "name": "stderr"
        },
        {
          "output_type": "stream",
          "text": [
            "107 19 0.0006574643\n",
            "107 20 6.608781e-06\n",
            "107 maxLoss=0.519209086894989\n",
            "108 0 0.5191566\n",
            "108 1 1.2104113e-07\n",
            "108 2 0.0005382733\n",
            "108 3 0.05354869\n",
            "108 4 4.039508e-09\n",
            "108 5 0.00029539992\n",
            "108 6 7.284526e-05\n",
            "108 7 4.039385e-09\n",
            "108 8 0.019699072\n",
            "108 9 2.4310448e-06\n",
            "108 10 6.0260628e-09\n",
            "108 11 0.00024184737\n",
            "108 12 9.964664e-10\n",
            "108 13 9.909367e-08\n",
            "108 14 1.8153016e-09\n",
            "108 15 1.2170048e-09\n",
            "108 16 2.969205e-06\n",
            "108 17 0.005933013\n",
            "108 18 2.2053499e-07\n",
            "108 19 0.00065740134\n"
          ],
          "name": "stdout"
        },
        {
          "output_type": "stream",
          "text": [
            "\r  3%|▎         | 109/4000 [07:10<4:42:44,  4.36s/it]"
          ],
          "name": "stderr"
        },
        {
          "output_type": "stream",
          "text": [
            "108 20 6.6079947e-06\n",
            "108 maxLoss=0.5191565752029419\n",
            "109 0 0.51910347\n",
            "109 1 1.2102906e-07\n",
            "109 2 0.00053821655\n",
            "109 3 0.05354343\n",
            "109 4 4.039063e-09\n",
            "109 5 0.00029537213\n",
            "109 6 7.2837676e-05\n",
            "109 7 4.0389483e-09\n",
            "109 8 0.019696888\n",
            "109 9 2.4307778e-06\n",
            "109 10 6.0254854e-09\n",
            "109 11 0.00024182293\n",
            "109 12 9.963637e-10\n",
            "109 13 9.908481e-08\n",
            "109 14 1.8151195e-09\n",
            "109 15 1.2168747e-09\n",
            "109 16 2.9689047e-06\n",
            "109 17 0.0059324247\n",
            "109 18 2.2051202e-07\n"
          ],
          "name": "stdout"
        },
        {
          "output_type": "stream",
          "text": [
            "\r  3%|▎         | 110/4000 [07:14<4:42:50,  4.36s/it]"
          ],
          "name": "stderr"
        },
        {
          "output_type": "stream",
          "text": [
            "109 19 0.000657334\n",
            "109 20 6.6073594e-06\n",
            "109 maxLoss=0.519103467464447\n",
            "110 0 0.51905125\n",
            "110 1 1.2101694e-07\n",
            "110 2 0.000538166\n",
            "110 3 0.053536944\n",
            "110 4 4.0386756e-09\n",
            "110 5 0.00029533886\n",
            "110 6 7.282966e-05\n",
            "110 7 4.038536e-09\n",
            "110 8 0.019694751\n",
            "110 9 2.430524e-06\n",
            "110 10 6.0248304e-09\n",
            "110 11 0.00024179599\n",
            "110 12 9.962482e-10\n",
            "110 13 9.907435e-08\n",
            "110 14 1.8149269e-09\n",
            "110 15 1.2167506e-09\n",
            "110 16 2.968595e-06\n",
            "110 17 0.005931802\n",
            "110 18 2.2048935e-07\n"
          ],
          "name": "stdout"
        },
        {
          "output_type": "stream",
          "text": [
            "\r  3%|▎         | 111/4000 [07:18<4:26:48,  4.12s/it]"
          ],
          "name": "stderr"
        },
        {
          "output_type": "stream",
          "text": [
            "110 19 0.0006572596\n",
            "110 20 6.606707e-06\n",
            "110 maxLoss=0.5190512537956238\n",
            "111 0 0.51899904\n",
            "111 1 1.2100327e-07\n",
            "111 2 0.0005381077\n",
            "111 3 0.053531934\n",
            "111 4 4.0382298e-09\n",
            "111 5 0.00029530842\n",
            "111 6 7.2822695e-05\n",
            "111 7 4.0381063e-09\n",
            "111 8 0.019692775\n",
            "111 9 2.4302371e-06\n",
            "111 10 6.024248e-09\n",
            "111 11 0.00024177064\n",
            "111 12 9.96144e-10\n",
            "111 13 9.906256e-08\n",
            "111 14 1.8147442e-09\n",
            "111 15 1.2166176e-09\n",
            "111 16 2.9682662e-06\n",
            "111 17 0.005931084\n",
            "111 18 2.2046427e-07\n",
            "111 19 0.000657185\n"
          ],
          "name": "stdout"
        },
        {
          "output_type": "stream",
          "text": [
            "\r  3%|▎         | 112/4000 [07:22<4:26:57,  4.12s/it]"
          ],
          "name": "stderr"
        },
        {
          "output_type": "stream",
          "text": [
            "111 20 6.60594e-06\n",
            "111 maxLoss=0.5189990401268005\n",
            "112 0 0.51894087\n",
            "112 1 1.2099063e-07\n",
            "112 2 0.0005380442\n",
            "112 3 0.05352577\n",
            "112 4 4.037792e-09\n",
            "112 5 0.00029527576\n",
            "112 6 7.2813986e-05\n",
            "112 7 4.0376418e-09\n",
            "112 8 0.019690484\n",
            "112 9 2.4299723e-06\n",
            "112 10 6.0235874e-09\n",
            "112 11 0.00024174414\n",
            "112 12 9.96032e-10\n",
            "112 13 9.9052514e-08\n",
            "112 14 1.8145394e-09\n",
            "112 15 1.2164924e-09\n",
            "112 16 2.9679325e-06\n",
            "112 17 0.0059305085\n",
            "112 18 2.2044189e-07\n"
          ],
          "name": "stdout"
        },
        {
          "output_type": "stream",
          "text": [
            "\r  3%|▎         | 113/4000 [07:26<4:35:57,  4.26s/it]"
          ],
          "name": "stderr"
        },
        {
          "output_type": "stream",
          "text": [
            "112 19 0.0006571129\n",
            "112 20 6.6052635e-06\n",
            "112 maxLoss=0.5189408659934998\n",
            "113 0 0.5188849\n",
            "113 1 1.2097686e-07\n",
            "113 2 0.0005379868\n",
            "113 3 0.053520087\n",
            "113 4 4.0373775e-09\n",
            "113 5 0.0002952428\n",
            "113 6 7.2806244e-05\n",
            "113 7 4.037239e-09\n",
            "113 8 0.019688461\n",
            "113 9 2.4297497e-06\n",
            "113 10 6.022895e-09\n",
            "113 11 0.00024171777\n",
            "113 12 9.95931e-10\n",
            "113 13 9.9040726e-08\n",
            "113 14 1.814332e-09\n",
            "113 15 1.216356e-09\n",
            "113 16 2.9676173e-06\n",
            "113 17 0.005929868\n",
            "113 18 2.2041745e-07\n"
          ],
          "name": "stdout"
        },
        {
          "output_type": "stream",
          "text": [
            "\r  3%|▎         | 114/4000 [07:29<4:03:53,  3.77s/it]"
          ],
          "name": "stderr"
        },
        {
          "output_type": "stream",
          "text": [
            "113 19 0.0006570467\n",
            "113 20 6.604583e-06\n",
            "113 maxLoss=0.5188848972320557\n",
            "114 0 0.5188232\n",
            "114 1 1.2096339e-07\n",
            "114 2 0.00053793396\n",
            "114 3 0.053514127\n",
            "114 4 4.0368904e-09\n",
            "114 5 0.0002952099\n",
            "114 6 7.279789e-05\n",
            "114 7 4.0367563e-09\n",
            "114 8 0.019686228\n",
            "114 9 2.4294625e-06\n",
            "114 10 6.0221765e-09\n",
            "114 11 0.00024169046\n",
            "114 12 9.958118e-10\n",
            "114 13 9.902926e-08\n",
            "114 14 1.8141378e-09\n",
            "114 15 1.2162271e-09\n",
            "114 16 2.967301e-06\n",
            "114 17 0.0059291753\n",
            "114 18 2.2039107e-07\n",
            "114 19 0.00065696606\n"
          ],
          "name": "stdout"
        },
        {
          "output_type": "stream",
          "text": [
            "\r  3%|▎         | 115/4000 [07:32<3:51:40,  3.58s/it]"
          ],
          "name": "stderr"
        },
        {
          "output_type": "stream",
          "text": [
            "114 20 6.6038124e-06\n",
            "114 maxLoss=0.5188232064247131\n",
            "115 0 0.51876724\n",
            "115 1 1.2095072e-07\n",
            "115 2 0.0005378654\n",
            "115 3 0.05350854\n",
            "115 4 4.036449e-09\n",
            "115 5 0.0002951741\n",
            "115 6 7.2790055e-05\n",
            "115 7 4.036327e-09\n",
            "115 8 0.019684043\n",
            "115 9 2.429185e-06\n",
            "115 10 6.0216143e-09\n",
            "115 11 0.0002416641\n",
            "115 12 9.957104e-10\n",
            "115 13 9.901873e-08\n",
            "115 14 1.8139287e-09\n",
            "115 15 1.2160798e-09\n",
            "115 16 2.9669711e-06\n",
            "115 17 0.005928534\n",
            "115 18 2.203672e-07\n",
            "115 19 0.0006568962\n"
          ],
          "name": "stdout"
        },
        {
          "output_type": "stream",
          "text": [
            "\r  3%|▎         | 116/4000 [07:35<3:50:05,  3.55s/it]"
          ],
          "name": "stderr"
        },
        {
          "output_type": "stream",
          "text": [
            "115 20 6.603072e-06\n",
            "115 maxLoss=0.518767237663269\n",
            "116 0 0.51871395\n",
            "116 1 1.2093767e-07\n",
            "116 2 0.0005377997\n",
            "116 3 0.05350208\n",
            "116 4 4.035967e-09\n",
            "116 5 0.0002951421\n",
            "116 6 7.278205e-05\n",
            "116 7 4.0359143e-09\n",
            "116 8 0.019681823\n",
            "116 9 2.4289163e-06\n",
            "116 10 6.020863e-09\n",
            "116 11 0.0002416362\n",
            "116 12 9.955926e-10\n",
            "116 13 9.900726e-08\n",
            "116 14 1.8137113e-09\n",
            "116 15 1.21594e-09\n",
            "116 16 2.9666185e-06\n",
            "116 17 0.0059278267\n",
            "116 18 2.2034251e-07\n",
            "116 19 0.00065682083\n"
          ],
          "name": "stdout"
        },
        {
          "output_type": "stream",
          "text": [
            "\r  3%|▎         | 117/4000 [07:39<3:49:33,  3.55s/it]"
          ],
          "name": "stderr"
        },
        {
          "output_type": "stream",
          "text": [
            "116 20 6.602337e-06\n",
            "116 maxLoss=0.5187139511108398\n",
            "117 0 0.5186524\n",
            "117 1 1.2092354e-07\n",
            "117 2 0.00053774496\n",
            "117 3 0.05349642\n",
            "117 4 4.03556e-09\n",
            "117 5 0.00029511\n",
            "117 6 7.2773735e-05\n",
            "117 7 4.0353862e-09\n",
            "117 8 0.019679582\n",
            "117 9 2.4286467e-06\n",
            "117 10 6.0202017e-09\n",
            "117 11 0.00024160906\n",
            "117 12 9.95481e-10\n",
            "117 13 9.899656e-08\n",
            "117 14 1.8135096e-09\n",
            "117 15 1.2158068e-09\n",
            "117 16 2.9662951e-06\n",
            "117 17 0.005927185\n",
            "117 18 2.2031702e-07\n"
          ],
          "name": "stdout"
        },
        {
          "output_type": "stream",
          "text": [
            "\r  3%|▎         | 118/4000 [07:43<3:56:22,  3.65s/it]"
          ],
          "name": "stderr"
        },
        {
          "output_type": "stream",
          "text": [
            "117 19 0.0006567434\n",
            "117 20 6.6015064e-06\n",
            "117 maxLoss=0.5186523795127869\n",
            "118 0 0.51859045\n",
            "118 1 1.209095e-07\n",
            "118 2 0.0005376823\n",
            "118 3 0.05348992\n",
            "118 4 4.0350874e-09\n",
            "118 5 0.00029507474\n",
            "118 6 7.276539e-05\n",
            "118 7 4.0349195e-09\n",
            "118 8 0.019677272\n",
            "118 9 2.428343e-06\n",
            "118 10 6.0195413e-09\n",
            "118 11 0.0002415798\n",
            "118 12 9.953595e-10\n",
            "118 13 9.8984266e-08\n",
            "118 14 1.8133086e-09\n",
            "118 15 1.2156606e-09\n",
            "118 16 2.9659202e-06\n",
            "118 17 0.0059264577\n",
            "118 18 2.202906e-07\n",
            "118 19 0.0006566705\n"
          ],
          "name": "stdout"
        },
        {
          "output_type": "stream",
          "text": [
            "\r  3%|▎         | 119/4000 [07:46<3:51:49,  3.58s/it]"
          ],
          "name": "stderr"
        },
        {
          "output_type": "stream",
          "text": [
            "118 20 6.6007387e-06\n",
            "118 maxLoss=0.5185904502868652\n",
            "119 0 0.51853323\n",
            "119 1 1.2089441e-07\n",
            "119 2 0.00053762033\n",
            "119 3 0.053484153\n",
            "119 4 4.0345878e-09\n",
            "119 5 0.00029504354\n",
            "119 6 7.275657e-05\n",
            "119 7 4.0344332e-09\n",
            "119 8 0.019674988\n",
            "119 9 2.42807e-06\n",
            "119 10 6.0187255e-09\n",
            "119 11 0.00024155117\n",
            "119 12 9.952483e-10\n",
            "119 13 9.8973395e-08\n",
            "119 14 1.8130885e-09\n",
            "119 15 1.2155156e-09\n",
            "119 16 2.9655948e-06\n",
            "119 17 0.0059257546\n",
            "119 18 2.2026549e-07\n",
            "119 19 0.00065658934\n"
          ],
          "name": "stdout"
        },
        {
          "output_type": "stream",
          "text": [
            "\r  3%|▎         | 120/4000 [07:50<3:53:50,  3.62s/it]"
          ],
          "name": "stderr"
        },
        {
          "output_type": "stream",
          "text": [
            "119 20 6.6000143e-06\n",
            "119 maxLoss=0.5185332298278809\n",
            "120 0 0.5184726\n",
            "120 1 1.2088006e-07\n",
            "120 2 0.0005375583\n",
            "120 3 0.05347716\n",
            "120 4 4.0341237e-09\n",
            "120 5 0.00029500577\n",
            "120 6 7.2747855e-05\n",
            "120 7 4.034018e-09\n",
            "120 8 0.019672545\n",
            "120 9 2.4277795e-06\n",
            "120 10 6.018104e-09\n",
            "120 11 0.00024152185\n",
            "120 12 9.951276e-10\n",
            "120 13 9.896143e-08\n",
            "120 14 1.8128671e-09\n",
            "120 15 1.215375e-09\n",
            "120 16 2.9652144e-06\n",
            "120 17 0.0059250616\n",
            "120 18 2.2023944e-07\n"
          ],
          "name": "stdout"
        },
        {
          "output_type": "stream",
          "text": [
            "\r  3%|▎         | 121/4000 [07:54<4:04:27,  3.78s/it]"
          ],
          "name": "stderr"
        },
        {
          "output_type": "stream",
          "text": [
            "120 19 0.00065651484\n",
            "120 20 6.5991794e-06\n",
            "120 maxLoss=0.5184726119041443\n",
            "121 0 0.51840615\n",
            "121 1 1.208654e-07\n",
            "121 2 0.000537495\n",
            "121 3 0.053470396\n",
            "121 4 4.0336436e-09\n",
            "121 5 0.00029497003\n",
            "121 6 7.273939e-05\n",
            "121 7 4.0334864e-09\n",
            "121 8 0.01967035\n",
            "121 9 2.4274775e-06\n",
            "121 10 6.0172995e-09\n",
            "121 11 0.00024149171\n",
            "121 12 9.950052e-10\n",
            "121 13 9.895018e-08\n",
            "121 14 1.8126702e-09\n",
            "121 15 1.2152244e-09\n",
            "121 16 2.9648716e-06\n",
            "121 17 0.005924332\n",
            "121 18 2.2021274e-07\n",
            "121 19 0.00065642875\n"
          ],
          "name": "stdout"
        },
        {
          "output_type": "stream",
          "text": [
            "\r  3%|▎         | 122/4000 [07:58<4:09:50,  3.87s/it]"
          ],
          "name": "stderr"
        },
        {
          "output_type": "stream",
          "text": [
            "121 20 6.598422e-06\n",
            "121 maxLoss=0.5184061527252197\n",
            "122 0 0.5183505\n",
            "122 1 1.2085158e-07\n",
            "122 2 0.0005374266\n",
            "122 3 0.05346462\n",
            "122 4 4.033124e-09\n",
            "122 5 0.000294937\n",
            "122 6 7.2730625e-05\n",
            "122 7 4.0329975e-09\n",
            "122 8 0.01966786\n",
            "122 9 2.4271826e-06\n",
            "122 10 6.016566e-09\n",
            "122 11 0.00024146373\n",
            "122 12 9.948857e-10\n",
            "122 13 9.8937456e-08\n",
            "122 14 1.8124433e-09\n",
            "122 15 1.2150897e-09\n",
            "122 16 2.9645269e-06\n",
            "122 17 0.0059235548\n",
            "122 18 2.2018541e-07\n"
          ],
          "name": "stdout"
        },
        {
          "output_type": "stream",
          "text": [
            "\r  3%|▎         | 123/4000 [08:01<3:54:46,  3.63s/it]"
          ],
          "name": "stderr"
        },
        {
          "output_type": "stream",
          "text": [
            "122 19 0.0006563523\n",
            "122 20 6.5976096e-06\n",
            "122 maxLoss=0.5183504819869995\n",
            "123 0 0.5182832\n",
            "123 1 1.2083723e-07\n",
            "123 2 0.0005373584\n",
            "123 3 0.053457282\n",
            "123 4 4.032627e-09\n",
            "123 5 0.00029489817\n",
            "123 6 7.272159e-05\n",
            "123 7 4.032519e-09\n",
            "123 8 0.019665306\n",
            "123 9 2.4268804e-06\n",
            "123 10 6.0159064e-09\n",
            "123 11 0.00024143406\n",
            "123 12 9.947614e-10\n",
            "123 13 9.8925774e-08\n",
            "123 14 1.8121978e-09\n",
            "123 15 1.2149322e-09\n",
            "123 16 2.9641412e-06\n",
            "123 17 0.0059229275\n",
            "123 18 2.2015941e-07\n"
          ],
          "name": "stdout"
        },
        {
          "output_type": "stream",
          "text": [
            "\r  3%|▎         | 124/4000 [08:06<4:22:30,  4.06s/it]"
          ],
          "name": "stderr"
        },
        {
          "output_type": "stream",
          "text": [
            "123 19 0.0006562696\n",
            "123 20 6.5968115e-06\n",
            "123 maxLoss=0.5182831883430481\n",
            "124 0 0.51821893\n",
            "124 1 1.2082246e-07\n",
            "124 2 0.00053729594\n",
            "124 3 0.05345112\n",
            "124 4 4.0321404e-09\n",
            "124 5 0.00029486156\n",
            "124 6 7.271198e-05\n",
            "124 7 4.0320045e-09\n",
            "124 8 0.019662868\n",
            "124 9 2.4265867e-06\n",
            "124 10 6.0151235e-09\n",
            "124 11 0.00024140369\n",
            "124 12 9.946312e-10\n",
            "124 13 9.891268e-08\n",
            "124 14 1.8119656e-09\n",
            "124 15 1.2147728e-09\n",
            "124 16 2.9637752e-06\n",
            "124 17 0.0059221173\n",
            "124 18 2.201299e-07\n"
          ],
          "name": "stdout"
        },
        {
          "output_type": "stream",
          "text": [
            "\r  3%|▎         | 125/4000 [08:10<4:18:57,  4.01s/it]"
          ],
          "name": "stderr"
        },
        {
          "output_type": "stream",
          "text": [
            "124 19 0.0006561846\n",
            "124 20 6.5959507e-06\n",
            "124 maxLoss=0.5182189345359802\n",
            "125 0 0.51815575\n",
            "125 1 1.2080618e-07\n",
            "125 2 0.0005372268\n",
            "125 3 0.053444237\n",
            "125 4 4.0316657e-09\n",
            "125 5 0.0002948246\n",
            "125 6 7.270288e-05\n",
            "125 7 4.0315102e-09\n",
            "125 8 0.019660443\n",
            "125 9 2.4262768e-06\n",
            "125 10 6.014381e-09\n",
            "125 11 0.00024137073\n",
            "125 12 9.945121e-10\n",
            "125 13 9.8899626e-08\n",
            "125 14 1.8117449e-09\n",
            "125 15 1.214618e-09\n",
            "125 16 2.963404e-06\n",
            "125 17 0.0059213853\n",
            "125 18 2.201003e-07\n"
          ],
          "name": "stdout"
        },
        {
          "output_type": "stream",
          "text": [
            "\r  3%|▎         | 126/4000 [08:14<4:15:17,  3.95s/it]"
          ],
          "name": "stderr"
        },
        {
          "output_type": "stream",
          "text": [
            "125 19 0.00065610243\n",
            "125 20 6.595081e-06\n",
            "125 maxLoss=0.5181557536125183\n",
            "126 0 0.51808864\n",
            "126 1 1.2079053e-07\n",
            "126 2 0.0005371551\n",
            "126 3 0.05343788\n",
            "126 4 4.031112e-09\n",
            "126 5 0.00029478697\n",
            "126 6 7.269352e-05\n",
            "126 7 4.030992e-09\n",
            "126 8 0.019657971\n",
            "126 9 2.4259414e-06\n",
            "126 10 6.0135306e-09\n",
            "126 11 0.00024134186\n",
            "126 12 9.943801e-10\n",
            "126 13 9.88877e-08\n",
            "126 14 1.811517e-09\n",
            "126 15 1.2144614e-09\n",
            "126 16 2.963047e-06\n",
            "126 17 0.005920634\n",
            "126 18 2.2007607e-07\n"
          ],
          "name": "stdout"
        },
        {
          "output_type": "stream",
          "text": [
            "\r  3%|▎         | 127/4000 [08:18<4:04:48,  3.79s/it]"
          ],
          "name": "stderr"
        },
        {
          "output_type": "stream",
          "text": [
            "126 19 0.0006560183\n",
            "126 20 6.594245e-06\n",
            "126 maxLoss=0.5180886387825012\n",
            "127 0 0.5180198\n",
            "127 1 1.2077487e-07\n",
            "127 2 0.00053709355\n",
            "127 3 0.053430498\n",
            "127 4 4.0306047e-09\n",
            "127 5 0.00029474797\n",
            "127 6 7.2684175e-05\n",
            "127 7 4.03044e-09\n",
            "127 8 0.019655364\n",
            "127 9 2.4256426e-06\n",
            "127 10 6.0128515e-09\n",
            "127 11 0.00024131077\n",
            "127 12 9.942478e-10\n",
            "127 13 9.8873855e-08\n",
            "127 14 1.8112875e-09\n",
            "127 15 1.2143e-09\n",
            "127 16 2.962612e-06\n",
            "127 17 0.0059198975\n",
            "127 18 2.2004507e-07\n"
          ],
          "name": "stdout"
        },
        {
          "output_type": "stream",
          "text": [
            "\r  3%|▎         | 128/4000 [08:22<4:09:03,  3.86s/it]"
          ],
          "name": "stderr"
        },
        {
          "output_type": "stream",
          "text": [
            "127 19 0.0006559314\n",
            "127 20 6.5933514e-06\n",
            "127 maxLoss=0.5180197954177856\n",
            "128 0 0.5179581\n",
            "128 1 1.207598e-07\n",
            "128 2 0.0005370158\n",
            "128 3 0.053423546\n",
            "128 4 4.030057e-09\n",
            "128 5 0.00029470766\n",
            "128 6 7.267488e-05\n",
            "128 7 4.0299124e-09\n",
            "128 8 0.019652814\n",
            "128 9 2.4253277e-06\n",
            "128 10 6.011985e-09\n",
            "128 11 0.00024127886\n",
            "128 12 9.941182e-10\n",
            "128 13 9.886153e-08\n",
            "128 14 1.8110501e-09\n",
            "128 15 1.2141316e-09\n",
            "128 16 2.9622229e-06\n",
            "128 17 0.0059190816\n",
            "128 18 2.2001561e-07\n"
          ],
          "name": "stdout"
        },
        {
          "output_type": "stream",
          "text": [
            "\r  3%|▎         | 129/4000 [08:26<4:24:34,  4.10s/it]"
          ],
          "name": "stderr"
        },
        {
          "output_type": "stream",
          "text": [
            "128 19 0.00065585086\n",
            "128 20 6.5924737e-06\n",
            "128 maxLoss=0.5179581046104431\n",
            "129 0 0.51788986\n",
            "129 1 1.2074354e-07\n",
            "129 2 0.00053694734\n",
            "129 3 0.053416837\n",
            "129 4 4.029523e-09\n",
            "129 5 0.0002946696\n",
            "129 6 7.266517e-05\n",
            "129 7 4.0294066e-09\n",
            "129 8 0.019650249\n",
            "129 9 2.425029e-06\n",
            "129 10 6.011254e-09\n",
            "129 11 0.00024124535\n",
            "129 12 9.939896e-10\n",
            "129 13 9.8849e-08\n",
            "129 14 1.8108034e-09\n",
            "129 15 1.2139869e-09\n",
            "129 16 2.9618275e-06\n",
            "129 17 0.0059183235\n",
            "129 18 2.1998729e-07\n"
          ],
          "name": "stdout"
        },
        {
          "output_type": "stream",
          "text": [
            "\r  3%|▎         | 130/4000 [08:30<4:27:35,  4.15s/it]"
          ],
          "name": "stderr"
        },
        {
          "output_type": "stream",
          "text": [
            "129 19 0.0006557605\n",
            "129 20 6.5916256e-06\n",
            "129 maxLoss=0.5178898572921753\n",
            "130 0 0.5178153\n",
            "130 1 1.2072829e-07\n",
            "130 2 0.0005368727\n",
            "130 3 0.053409327\n",
            "130 4 4.0290056e-09\n",
            "130 5 0.00029463324\n",
            "130 6 7.2655595e-05\n",
            "130 7 4.0287937e-09\n",
            "130 8 0.019647652\n",
            "130 9 2.424693e-06\n",
            "130 10 6.010358e-09\n",
            "130 11 0.00024121445\n",
            "130 12 9.93857e-10\n",
            "130 13 9.883452e-08\n",
            "130 14 1.8105732e-09\n",
            "130 15 1.2138143e-09\n",
            "130 16 2.9614603e-06\n",
            "130 17 0.00591747\n",
            "130 18 2.1995753e-07\n",
            "130 19 0.0006556739\n"
          ],
          "name": "stdout"
        },
        {
          "output_type": "stream",
          "text": [
            "\r  3%|▎         | 131/4000 [08:35<4:25:49,  4.12s/it]"
          ],
          "name": "stderr"
        },
        {
          "output_type": "stream",
          "text": [
            "130 20 6.590741e-06\n",
            "130 maxLoss=0.5178152918815613\n",
            "131 0 0.51775026\n",
            "131 1 1.2071077e-07\n",
            "131 2 0.00053680514\n",
            "131 3 0.05340234\n",
            "131 4 4.0284447e-09\n",
            "131 5 0.000294589\n",
            "131 6 7.2645584e-05\n",
            "131 7 4.028313e-09\n",
            "131 8 0.01964492\n",
            "131 9 2.4243363e-06\n",
            "131 10 6.00955e-09\n",
            "131 11 0.00024117932\n",
            "131 12 9.937247e-10\n",
            "131 13 9.882098e-08\n",
            "131 14 1.8103005e-09\n",
            "131 15 1.2136506e-09\n",
            "131 16 2.9610358e-06\n",
            "131 17 0.005916689\n",
            "131 18 2.1992678e-07\n"
          ],
          "name": "stdout"
        },
        {
          "output_type": "stream",
          "text": [
            "\r  3%|▎         | 132/4000 [08:38<4:06:55,  3.83s/it]"
          ],
          "name": "stderr"
        },
        {
          "output_type": "stream",
          "text": [
            "131 19 0.00065558264\n",
            "131 20 6.5898794e-06\n",
            "131 maxLoss=0.5177502632141113\n",
            "132 0 0.51767725\n",
            "132 1 1.2069533e-07\n",
            "132 2 0.0005367267\n",
            "132 3 0.053394888\n",
            "132 4 4.027882e-09\n",
            "132 5 0.00029455172\n",
            "132 6 7.26349e-05\n",
            "132 7 4.027726e-09\n",
            "132 8 0.019642193\n",
            "132 9 2.4240342e-06\n",
            "132 10 6.008763e-09\n",
            "132 11 0.00024114875\n",
            "132 12 9.935858e-10\n",
            "132 13 9.8807014e-08\n",
            "132 14 1.8100621e-09\n",
            "132 15 1.2134883e-09\n",
            "132 16 2.9606376e-06\n",
            "132 17 0.0059158583\n",
            "132 18 2.1989753e-07\n"
          ],
          "name": "stdout"
        },
        {
          "output_type": "stream",
          "text": [
            "\r  3%|▎         | 133/4000 [08:42<4:08:27,  3.86s/it]"
          ],
          "name": "stderr"
        },
        {
          "output_type": "stream",
          "text": [
            "132 19 0.0006555001\n",
            "132 20 6.588922e-06\n",
            "132 maxLoss=0.5176772475242615\n",
            "133 0 0.51760674\n",
            "133 1 1.2067886e-07\n",
            "133 2 0.00053665444\n",
            "133 3 0.05338757\n",
            "133 4 4.027336e-09\n",
            "133 5 0.00029451013\n",
            "133 6 7.262522e-05\n",
            "133 7 4.0271977e-09\n",
            "133 8 0.019639494\n",
            "133 9 2.4236745e-06\n",
            "133 10 6.00791e-09\n",
            "133 11 0.00024111259\n",
            "133 12 9.934493e-10\n",
            "133 13 9.8794025e-08\n",
            "133 14 1.8098053e-09\n",
            "133 15 1.2133226e-09\n",
            "133 16 2.9602147e-06\n",
            "133 17 0.0059150374\n",
            "133 18 2.1986595e-07\n"
          ],
          "name": "stdout"
        },
        {
          "output_type": "stream",
          "text": [
            "\r  3%|▎         | 134/4000 [08:45<4:00:32,  3.73s/it]"
          ],
          "name": "stderr"
        },
        {
          "output_type": "stream",
          "text": [
            "133 19 0.00065539445\n",
            "133 20 6.5880035e-06\n",
            "133 maxLoss=0.5176067352294922\n",
            "134 0 0.5175334\n",
            "134 1 1.2066134e-07\n",
            "134 2 0.0005365843\n",
            "134 3 0.053380225\n",
            "134 4 4.0267754e-09\n",
            "134 5 0.0002944676\n",
            "134 6 7.261497e-05\n",
            "134 7 4.026603e-09\n",
            "134 8 0.01963671\n",
            "134 9 2.4233311e-06\n",
            "134 10 6.00708e-09\n",
            "134 11 0.00024108155\n",
            "134 12 9.933074e-10\n",
            "134 13 9.877972e-08\n",
            "134 14 1.8095573e-09\n",
            "134 15 1.2131445e-09\n",
            "134 16 2.9598161e-06\n",
            "134 17 0.0059142015\n",
            "134 18 2.1983588e-07\n",
            "134 19 0.0006553065\n"
          ],
          "name": "stdout"
        },
        {
          "output_type": "stream",
          "text": [
            "\r  3%|▎         | 135/4000 [08:48<3:52:03,  3.60s/it]"
          ],
          "name": "stderr"
        },
        {
          "output_type": "stream",
          "text": [
            "134 20 6.58707e-06\n",
            "134 maxLoss=0.5175334215164185\n",
            "135 0 0.5174627\n",
            "135 1 1.206443e-07\n",
            "135 2 0.00053650554\n",
            "135 3 0.05337251\n",
            "135 4 4.02619e-09\n",
            "135 5 0.00029442622\n",
            "135 6 7.260509e-05\n",
            "135 7 4.02603e-09\n",
            "135 8 0.019633735\n",
            "135 9 2.4229846e-06\n",
            "135 10 6.006205e-09\n",
            "135 11 0.00024104519\n",
            "135 12 9.931654e-10\n",
            "135 13 9.8765625e-08\n",
            "135 14 1.8092801e-09\n",
            "135 15 1.2129664e-09\n",
            "135 16 2.9593753e-06\n",
            "135 17 0.0059134043\n",
            "135 18 2.1980533e-07\n"
          ],
          "name": "stdout"
        },
        {
          "output_type": "stream",
          "text": [
            "\r  3%|▎         | 136/4000 [08:52<3:51:39,  3.60s/it]"
          ],
          "name": "stderr"
        },
        {
          "output_type": "stream",
          "text": [
            "135 19 0.00065521814\n",
            "135 20 6.5861473e-06\n",
            "135 maxLoss=0.5174626708030701\n",
            "136 0 0.5173899\n",
            "136 1 1.2062638e-07\n",
            "136 2 0.0005364316\n",
            "136 3 0.053364854\n",
            "136 4 4.0256007e-09\n",
            "136 5 0.00029438088\n",
            "136 6 7.259449e-05\n",
            "136 7 4.0254684e-09\n",
            "136 8 0.01963103\n",
            "136 9 2.4226395e-06\n",
            "136 10 6.0053686e-09\n",
            "136 11 0.00024101205\n",
            "136 12 9.930207e-10\n",
            "136 13 9.8752466e-08\n",
            "136 14 1.8090299e-09\n",
            "136 15 1.2127951e-09\n",
            "136 16 2.9589478e-06\n",
            "136 17 0.0059124855\n",
            "136 18 2.1977192e-07\n"
          ],
          "name": "stdout"
        },
        {
          "output_type": "stream",
          "text": [
            "\r  3%|▎         | 137/4000 [08:55<3:37:30,  3.38s/it]"
          ],
          "name": "stderr"
        },
        {
          "output_type": "stream",
          "text": [
            "136 19 0.00065512036\n",
            "136 20 6.5851186e-06\n",
            "136 maxLoss=0.5173898935317993\n",
            "137 0 0.5173171\n",
            "137 1 1.2060828e-07\n",
            "137 2 0.00053635234\n",
            "137 3 0.05335698\n",
            "137 4 4.0250363e-09\n",
            "137 5 0.00029434374\n",
            "137 6 7.258363e-05\n",
            "137 7 4.024866e-09\n",
            "137 8 0.019628102\n",
            "137 9 2.4222759e-06\n",
            "137 10 6.0044507e-09\n",
            "137 11 0.00024097427\n",
            "137 12 9.928656e-10\n",
            "137 13 9.873678e-08\n",
            "137 14 1.8087702e-09\n",
            "137 15 1.2126163e-09\n",
            "137 16 2.9585115e-06\n",
            "137 17 0.005911716\n",
            "137 18 2.1974022e-07\n"
          ],
          "name": "stdout"
        },
        {
          "output_type": "stream",
          "text": [
            "\r  3%|▎         | 138/4000 [08:58<3:35:10,  3.34s/it]"
          ],
          "name": "stderr"
        },
        {
          "output_type": "stream",
          "text": [
            "137 19 0.0006550244\n",
            "137 20 6.5841987e-06\n",
            "137 maxLoss=0.5173171162605286\n",
            "138 0 0.5172394\n",
            "138 1 1.2059104e-07\n",
            "138 2 0.00053627073\n",
            "138 3 0.053348776\n",
            "138 4 4.0243995e-09\n",
            "138 5 0.0002942981\n",
            "138 6 7.257271e-05\n",
            "138 7 4.0242822e-09\n",
            "138 8 0.019625327\n",
            "138 9 2.4219191e-06\n",
            "138 10 6.0035226e-09\n",
            "138 11 0.0002409405\n",
            "138 12 9.927226e-10\n",
            "138 13 9.8721785e-08\n",
            "138 14 1.8084886e-09\n",
            "138 15 1.2124431e-09\n",
            "138 16 2.958081e-06\n",
            "138 17 0.0059107305\n",
            "138 18 2.1970529e-07\n",
            "138 19 0.0006549269\n"
          ],
          "name": "stdout"
        },
        {
          "output_type": "stream",
          "text": [
            "\r  3%|▎         | 139/4000 [09:02<3:48:30,  3.55s/it]"
          ],
          "name": "stderr"
        },
        {
          "output_type": "stream",
          "text": [
            "138 20 6.5832196e-06\n",
            "138 maxLoss=0.5172393918037415\n",
            "139 0 0.517165\n",
            "139 1 1.2057235e-07\n",
            "139 2 0.00053619675\n",
            "139 3 0.053341296\n",
            "139 4 4.0238355e-09\n",
            "139 5 0.0002942515\n",
            "139 6 7.2562056e-05\n",
            "139 7 4.023666e-09\n",
            "139 8 0.0196224\n",
            "139 9 2.4215722e-06\n",
            "139 10 6.002626e-09\n",
            "139 11 0.00024090536\n",
            "139 12 9.925734e-10\n",
            "139 13 9.8707616e-08\n",
            "139 14 1.8082211e-09\n",
            "139 15 1.2122469e-09\n",
            "139 16 2.9576408e-06\n",
            "139 17 0.005909827\n",
            "139 18 2.1967242e-07\n",
            "139 19 0.000654825\n"
          ],
          "name": "stdout"
        },
        {
          "output_type": "stream",
          "text": [
            "\r  4%|▎         | 140/4000 [09:06<3:52:47,  3.62s/it]"
          ],
          "name": "stderr"
        },
        {
          "output_type": "stream",
          "text": [
            "139 20 6.582181e-06\n",
            "139 maxLoss=0.5171650052070618\n",
            "140 0 0.51708174\n",
            "140 1 1.2055482e-07\n",
            "140 2 0.0005361099\n",
            "140 3 0.053332876\n",
            "140 4 4.023209e-09\n",
            "140 5 0.0002942092\n",
            "140 6 7.255139e-05\n",
            "140 7 4.0230757e-09\n",
            "140 8 0.019619351\n",
            "140 9 2.4211972e-06\n",
            "140 10 6.0017777e-09\n",
            "140 11 0.00024086777\n",
            "140 12 9.924278e-10\n",
            "140 13 9.8693036e-08\n",
            "140 14 1.8079499e-09\n",
            "140 15 1.2120683e-09\n",
            "140 16 2.9572002e-06\n",
            "140 17 0.005908975\n",
            "140 18 2.1964108e-07\n"
          ],
          "name": "stdout"
        },
        {
          "output_type": "stream",
          "text": [
            "\r  4%|▎         | 141/4000 [09:10<3:57:37,  3.69s/it]"
          ],
          "name": "stderr"
        },
        {
          "output_type": "stream",
          "text": [
            "140 19 0.00065472815\n",
            "140 20 6.5812446e-06\n",
            "140 maxLoss=0.5170817375183105\n",
            "141 0 0.51700646\n",
            "141 1 1.2053685e-07\n",
            "141 2 0.00053602614\n",
            "141 3 0.053324882\n",
            "141 4 4.0226067e-09\n",
            "141 5 0.00029416545\n",
            "141 6 7.254001e-05\n",
            "141 7 4.022458e-09\n",
            "141 8 0.019616276\n",
            "141 9 2.4208252e-06\n",
            "141 10 6.0008185e-09\n",
            "141 11 0.00024083178\n",
            "141 12 9.922696e-10\n",
            "141 13 9.867661e-08\n",
            "141 14 1.8076663e-09\n",
            "141 15 1.2118886e-09\n",
            "141 16 2.956715e-06\n",
            "141 17 0.005907998\n",
            "141 18 2.1960624e-07\n"
          ],
          "name": "stdout"
        },
        {
          "output_type": "stream",
          "text": [
            "\r  4%|▎         | 142/4000 [09:13<3:58:21,  3.71s/it]"
          ],
          "name": "stderr"
        },
        {
          "output_type": "stream",
          "text": [
            "141 19 0.00065462757\n",
            "141 20 6.580221e-06\n",
            "141 maxLoss=0.5170064568519592\n",
            "142 0 0.51692545\n",
            "142 1 1.2051866e-07\n",
            "142 2 0.0005359455\n",
            "142 3 0.05331677\n",
            "142 4 4.0219854e-09\n",
            "142 5 0.00029412\n",
            "142 6 7.252841e-05\n",
            "142 7 4.0218e-09\n",
            "142 8 0.019613322\n",
            "142 9 2.4204494e-06\n",
            "142 10 5.9999223e-09\n",
            "142 11 0.00024079278\n",
            "142 12 9.92111e-10\n",
            "142 13 9.8662646e-08\n",
            "142 14 1.8073945e-09\n",
            "142 15 1.2116941e-09\n",
            "142 16 2.9562573e-06\n",
            "142 17 0.0059071784\n",
            "142 18 2.1957386e-07\n",
            "142 19 0.0006545283\n"
          ],
          "name": "stdout"
        },
        {
          "output_type": "stream",
          "text": [
            "\r  4%|▎         | 143/4000 [09:16<3:41:33,  3.45s/it]"
          ],
          "name": "stderr"
        },
        {
          "output_type": "stream",
          "text": [
            "142 20 6.5792087e-06\n",
            "142 maxLoss=0.5169254541397095\n",
            "143 0 0.51684815\n",
            "143 1 1.2050148e-07\n",
            "143 2 0.0005358639\n",
            "143 3 0.053308304\n",
            "143 4 4.0213473e-09\n",
            "143 5 0.0002940717\n",
            "143 6 7.251747e-05\n",
            "143 7 4.0212007e-09\n",
            "143 8 0.019610252\n",
            "143 9 2.420064e-06\n",
            "143 10 5.998955e-09\n",
            "143 11 0.00024075489\n",
            "143 12 9.919626e-10\n",
            "143 13 9.864645e-08\n",
            "143 14 1.8070934e-09\n",
            "143 15 1.2115022e-09\n",
            "143 16 2.9557937e-06\n",
            "143 17 0.0059061577\n",
            "143 18 2.1953757e-07\n",
            "143 19 0.0006544171\n"
          ],
          "name": "stdout"
        },
        {
          "output_type": "stream",
          "text": [
            "\r  4%|▎         | 144/4000 [09:20<3:48:05,  3.55s/it]"
          ],
          "name": "stderr"
        },
        {
          "output_type": "stream",
          "text": [
            "143 20 6.5781455e-06\n",
            "143 maxLoss=0.5168481469154358\n",
            "144 0 0.51675636\n",
            "144 1 1.2048126e-07\n",
            "144 2 0.00053577486\n",
            "144 3 0.053300124\n",
            "144 4 4.020714e-09\n",
            "144 5 0.00029402526\n",
            "144 6 7.250534e-05\n",
            "144 7 4.020584e-09\n",
            "144 8 0.019607242\n",
            "144 9 2.4196968e-06\n",
            "144 10 5.9980287e-09\n",
            "144 11 0.00024071806\n",
            "144 12 9.918036e-10\n",
            "144 13 9.863112e-08\n",
            "144 14 1.8068503e-09\n",
            "144 15 1.2113189e-09\n",
            "144 16 2.9553082e-06\n",
            "144 17 0.005905263\n",
            "144 18 2.1950403e-07\n"
          ],
          "name": "stdout"
        },
        {
          "output_type": "stream",
          "text": [
            "\r  4%|▎         | 145/4000 [09:24<3:51:21,  3.60s/it]"
          ],
          "name": "stderr"
        },
        {
          "output_type": "stream",
          "text": [
            "144 19 0.00065431686\n",
            "144 20 6.577127e-06\n",
            "144 maxLoss=0.5167563557624817\n",
            "145 0 0.516689\n",
            "145 1 1.2046131e-07\n",
            "145 2 0.00053569156\n",
            "145 3 0.053291272\n",
            "145 4 4.02007e-09\n",
            "145 5 0.00029397797\n",
            "145 6 7.249411e-05\n",
            "145 7 4.0198977e-09\n",
            "145 8 0.019604003\n",
            "145 9 2.4193007e-06\n",
            "145 10 5.99699e-09\n",
            "145 11 0.00024067835\n",
            "145 12 9.916347e-10\n",
            "145 13 9.861476e-08\n",
            "145 14 1.8065267e-09\n",
            "145 15 1.2111042e-09\n",
            "145 16 2.9548294e-06\n",
            "145 17 0.0059042634\n",
            "145 18 2.1946498e-07\n"
          ],
          "name": "stdout"
        },
        {
          "output_type": "stream",
          "text": [
            "\r  4%|▎         | 146/4000 [09:28<4:04:41,  3.81s/it]"
          ],
          "name": "stderr"
        },
        {
          "output_type": "stream",
          "text": [
            "145 19 0.000654207\n",
            "145 20 6.576017e-06\n",
            "145 maxLoss=0.5166890025138855\n",
            "146 0 0.516584\n",
            "146 1 1.2044005e-07\n",
            "146 2 0.0005355977\n",
            "146 3 0.05328247\n",
            "146 4 4.019401e-09\n",
            "146 5 0.00029393082\n",
            "146 6 7.2482675e-05\n",
            "146 7 4.019263e-09\n",
            "146 8 0.019600913\n",
            "146 9 2.418896e-06\n",
            "146 10 5.996082e-09\n",
            "146 11 0.00024064048\n",
            "146 12 9.914884e-10\n",
            "146 13 9.8599834e-08\n",
            "146 14 1.8062575e-09\n",
            "146 15 1.2109306e-09\n",
            "146 16 2.9544183e-06\n",
            "146 17 0.005903389\n",
            "146 18 2.1943323e-07\n"
          ],
          "name": "stdout"
        },
        {
          "output_type": "stream",
          "text": [
            "\r  4%|▎         | 147/4000 [09:32<3:58:04,  3.71s/it]"
          ],
          "name": "stderr"
        },
        {
          "output_type": "stream",
          "text": [
            "146 19 0.00065411016\n",
            "146 20 6.5750246e-06\n",
            "146 maxLoss=0.5165839791297913\n",
            "147 0 0.51653296\n",
            "147 1 1.2042219e-07\n",
            "147 2 0.00053552195\n",
            "147 3 0.053274035\n",
            "147 4 4.018743e-09\n",
            "147 5 0.00029388236\n",
            "147 6 7.247062e-05\n",
            "147 7 4.0186245e-09\n",
            "147 8 0.01959738\n",
            "147 9 2.4184833e-06\n",
            "147 10 5.9949925e-09\n",
            "147 11 0.00024059622\n",
            "147 12 9.913175e-10\n",
            "147 13 9.858166e-08\n",
            "147 14 1.805918e-09\n",
            "147 15 1.2106962e-09\n",
            "147 16 2.9538426e-06\n",
            "147 17 0.005902328\n",
            "147 18 2.1939329e-07\n"
          ],
          "name": "stdout"
        },
        {
          "output_type": "stream",
          "text": [
            "\r  4%|▎         | 148/4000 [09:35<3:46:37,  3.53s/it]"
          ],
          "name": "stderr"
        },
        {
          "output_type": "stream",
          "text": [
            "147 19 0.0006539881\n",
            "147 20 6.5738236e-06\n",
            "147 maxLoss=0.5165329575538635\n",
            "148 0 0.51640445\n",
            "148 1 1.204012e-07\n",
            "148 2 0.0005354249\n",
            "148 3 0.05326454\n",
            "148 4 4.0180756e-09\n",
            "148 5 0.00029383405\n",
            "148 6 7.245856e-05\n",
            "148 7 4.0179393e-09\n",
            "148 8 0.019594472\n",
            "148 9 2.4181134e-06\n",
            "148 10 5.9941416e-09\n",
            "148 11 0.00024056339\n",
            "148 12 9.911723e-10\n",
            "148 13 9.8567725e-08\n",
            "148 14 1.8056676e-09\n",
            "148 15 1.2105336e-09\n",
            "148 16 2.9534335e-06\n",
            "148 17 0.0059015057\n",
            "148 18 2.1936174e-07\n"
          ],
          "name": "stdout"
        },
        {
          "output_type": "stream",
          "text": [
            "\r  4%|▎         | 149/4000 [09:39<4:05:45,  3.83s/it]"
          ],
          "name": "stderr"
        },
        {
          "output_type": "stream",
          "text": [
            "148 19 0.00065389194\n",
            "148 20 6.5729278e-06\n",
            "148 maxLoss=0.5164044499397278\n",
            "149 0 0.5163926\n",
            "149 1 1.203849e-07\n",
            "149 2 0.00053534744\n",
            "149 3 0.05325663\n",
            "149 4 4.017412e-09\n",
            "149 5 0.00029378457\n",
            "149 6 7.244626e-05\n",
            "149 7 4.017198e-09\n",
            "149 8 0.019590804\n",
            "149 9 2.4176768e-06\n",
            "149 10 5.992891e-09\n",
            "149 11 0.00024051208\n",
            "149 12 9.909636e-10\n",
            "149 13 9.854743e-08\n",
            "149 14 1.805272e-09\n",
            "149 15 1.2102753e-09\n",
            "149 16 2.952806e-06\n",
            "149 17 0.005900205\n",
            "149 18 2.193149e-07\n",
            "149 19 0.0006537605\n"
          ],
          "name": "stdout"
        },
        {
          "output_type": "stream",
          "text": [
            "\r  4%|▍         | 150/4000 [09:43<3:57:17,  3.70s/it]"
          ],
          "name": "stderr"
        },
        {
          "output_type": "stream",
          "text": [
            "149 20 6.5714776e-06\n",
            "149 maxLoss=0.5163925886154175\n",
            "150 0 0.5162108\n",
            "150 1 1.2035834e-07\n",
            "150 2 0.0005352372\n",
            "150 3 0.053246386\n",
            "150 4 4.0167456e-09\n",
            "150 5 0.0002937345\n",
            "150 6 7.243514e-05\n",
            "150 7 4.0166026e-09\n",
            "150 8 0.019588107\n",
            "150 9 2.417314e-06\n",
            "150 10 5.992169e-09\n",
            "150 11 0.0002404825\n",
            "150 12 9.908562e-10\n",
            "150 13 9.853574e-08\n",
            "150 14 1.8050844e-09\n",
            "150 15 1.210144e-09\n",
            "150 16 2.9525047e-06\n",
            "150 17 0.005899646\n",
            "150 18 2.1929209e-07\n",
            "150 19 0.0006536982\n"
          ],
          "name": "stdout"
        },
        {
          "output_type": "stream",
          "text": [
            "\r  4%|▍         | 151/4000 [09:46<3:48:55,  3.57s/it]"
          ],
          "name": "stderr"
        },
        {
          "output_type": "stream",
          "text": [
            "150 20 6.570867e-06\n",
            "150 maxLoss=0.5162107944488525\n",
            "151 0 0.5163185\n",
            "151 1 1.2034661e-07\n",
            "151 2 0.0005351644\n",
            "151 3 0.053238925\n",
            "151 4 4.016057e-09\n",
            "151 5 0.0002936851\n",
            "151 6 7.242004e-05\n",
            "151 7 4.015812e-09\n",
            "151 8 0.019583758\n",
            "151 9 2.4167955e-06\n",
            "151 10 5.9907275e-09\n",
            "151 11 0.00024042721\n",
            "151 12 9.905892e-10\n",
            "151 13 9.851023e-08\n",
            "151 14 1.8045946e-09\n",
            "151 15 1.2098278e-09\n",
            "151 16 2.951659e-06\n",
            "151 17 0.005897984\n",
            "151 18 2.1923053e-07\n"
          ],
          "name": "stdout"
        },
        {
          "output_type": "stream",
          "text": [
            "\r  4%|▍         | 152/4000 [09:50<3:58:49,  3.72s/it]"
          ],
          "name": "stderr"
        },
        {
          "output_type": "stream",
          "text": [
            "151 19 0.0006535067\n",
            "151 20 6.568955e-06\n",
            "151 maxLoss=0.5163185000419617\n",
            "152 0 0.5160503\n",
            "152 1 1.203117e-07\n",
            "152 2 0.0005350413\n",
            "152 3 0.053226955\n",
            "152 4 4.015367e-09\n",
            "152 5 0.00029363224\n",
            "152 6 7.2411145e-05\n",
            "152 7 4.015273e-09\n",
            "152 8 0.019581739\n",
            "152 9 2.416558e-06\n",
            "152 10 5.9903313e-09\n",
            "152 11 0.00024040883\n",
            "152 12 9.905452e-10\n",
            "152 13 9.850659e-08\n",
            "152 14 1.8045437e-09\n",
            "152 15 1.2097825e-09\n",
            "152 16 2.951598e-06\n",
            "152 17 0.0058978274\n",
            "152 18 2.1923071e-07\n"
          ],
          "name": "stdout"
        },
        {
          "output_type": "stream",
          "text": [
            "\r  4%|▍         | 153/4000 [09:53<3:51:53,  3.62s/it]"
          ],
          "name": "stderr"
        },
        {
          "output_type": "stream",
          "text": [
            "152 19 0.00065350573\n",
            "152 20 6.569051e-06\n",
            "152 maxLoss=0.5160502791404724\n",
            "153 0 0.5165049\n",
            "153 1 1.2030935e-07\n",
            "153 2 0.00053498667\n",
            "153 3 0.053220596\n",
            "153 4 4.0145642e-09\n",
            "153 5 0.00029357264\n",
            "153 6 7.23925e-05\n",
            "153 7 4.0142e-09\n",
            "153 8 0.019575804\n",
            "153 9 2.4157869e-06\n",
            "153 10 5.9882486e-09\n",
            "153 11 0.00024032497\n",
            "153 12 9.901592e-10\n",
            "153 13 9.84675e-08\n",
            "153 14 1.8038026e-09\n",
            "153 15 1.209278e-09\n",
            "153 16 2.9503415e-06\n",
            "153 17 0.00589533\n",
            "153 18 2.191312e-07\n",
            "153 19 0.0006532061\n"
          ],
          "name": "stdout"
        },
        {
          "output_type": "stream",
          "text": [
            "\r  4%|▍         | 154/4000 [09:57<3:43:16,  3.48s/it]"
          ],
          "name": "stderr"
        },
        {
          "output_type": "stream",
          "text": [
            "153 20 6.5659183e-06\n",
            "153 maxLoss=0.5165048837661743\n",
            "154 0 0.5162853\n",
            "154 1 1.2025751e-07\n",
            "154 2 0.0005348281\n",
            "154 3 0.05320584\n",
            "154 4 4.0139225e-09\n",
            "154 5 0.00029353003\n",
            "154 6 7.238796e-05\n",
            "154 7 4.0139985e-09\n",
            "154 8 0.019576132\n",
            "154 9 2.415862e-06\n",
            "154 10 5.988731e-09\n",
            "154 11 0.0002403463\n",
            "154 12 9.903087e-10\n",
            "154 13 9.848095e-08\n",
            "154 14 1.8041437e-09\n",
            "154 15 1.2095127e-09\n",
            "154 16 2.9509938e-06\n",
            "154 17 0.0058965907\n",
            "154 18 2.1918586e-07\n",
            "154 19 0.00065337255\n"
          ],
          "name": "stdout"
        },
        {
          "output_type": "stream",
          "text": [
            "\r  4%|▍         | 155/4000 [10:00<3:51:15,  3.61s/it]"
          ],
          "name": "stderr"
        },
        {
          "output_type": "stream",
          "text": [
            "154 20 6.5676936e-06\n",
            "154 maxLoss=0.5162853002548218\n",
            "155 0 0.5182321\n",
            "155 1 1.2027502e-07\n",
            "155 2 0.0005347964\n",
            "155 3 0.05319808\n",
            "155 4 4.0126187e-09\n",
            "155 5 0.00029341137\n",
            "155 6 7.234884e-05\n",
            "155 7 4.0116475e-09\n",
            "155 8 0.019562367\n",
            "155 9 2.4140338e-06\n",
            "155 10 5.9836993e-09\n",
            "155 11 0.00024013566\n",
            "155 12 9.893617e-10\n",
            "155 13 9.838401e-08\n",
            "155 14 1.8022377e-09\n",
            "155 15 1.2082173e-09\n",
            "155 16 2.9476848e-06\n",
            "155 17 0.005889836\n",
            "155 18 2.1892679e-07\n"
          ],
          "name": "stdout"
        },
        {
          "output_type": "stream",
          "text": [
            "\r  4%|▍         | 156/4000 [10:05<4:15:26,  3.99s/it]"
          ],
          "name": "stderr"
        },
        {
          "output_type": "stream",
          "text": [
            "155 19 0.0006525891\n",
            "155 20 6.5596205e-06\n",
            "155 maxLoss=0.5182321071624756\n",
            "156 0 0.5243778\n",
            "156 1 1.2017969e-07\n",
            "156 2 0.00053459324\n",
            "156 3 0.053187955\n",
            "156 4 4.012967e-09\n",
            "156 5 0.0002934805\n",
            "156 6 7.238234e-05\n",
            "156 7 4.0139216e-09\n",
            "156 8 0.019577159\n",
            "156 9 2.4161047e-06\n",
            "156 10 5.989681e-09\n",
            "156 11 0.00024038892\n",
            "156 12 9.905448e-10\n",
            "156 13 9.8506476e-08\n",
            "156 14 1.8046619e-09\n",
            "156 15 1.2098811e-09\n",
            "156 16 2.9520397e-06\n",
            "156 17 0.0058987066\n",
            "156 18 2.1926901e-07\n",
            "156 19 0.0006536344\n"
          ],
          "name": "stdout"
        },
        {
          "output_type": "stream",
          "text": [
            "\r  4%|▍         | 157/4000 [10:10<4:25:10,  4.14s/it]"
          ],
          "name": "stderr"
        },
        {
          "output_type": "stream",
          "text": [
            "156 20 6.570443e-06\n",
            "156 maxLoss=0.5243778228759766\n",
            "157 0 0.54778606\n",
            "157 1 1.2028356e-07\n",
            "157 2 0.00053465745\n",
            "157 3 0.053168863\n",
            "157 4 4.0093364e-09\n",
            "157 5 0.0002931038\n",
            "157 6 7.2256065e-05\n",
            "157 7 4.005666e-09\n",
            "157 8 0.01952964\n",
            "157 9 2.4096414e-06\n",
            "157 10 5.97189e-09\n",
            "157 11 0.00023962981\n",
            "157 12 9.871666e-10\n",
            "157 13 9.8156214e-08\n",
            "157 14 1.7978605e-09\n",
            "157 15 1.2051788e-09\n",
            "157 16 2.940052e-06\n",
            "157 17 0.005874216\n",
            "157 18 2.1832723e-07\n",
            "157 19 0.0006507672\n"
          ],
          "name": "stdout"
        },
        {
          "output_type": "stream",
          "text": [
            "\r  4%|▍         | 158/4000 [10:13<3:57:57,  3.72s/it]"
          ],
          "name": "stderr"
        },
        {
          "output_type": "stream",
          "text": [
            "157 20 6.5410177e-06\n",
            "157 maxLoss=0.5477860569953918\n",
            "158 0 0.66966254\n",
            "158 1 1.1985819e-07\n",
            "158 2 0.0005332391\n",
            "158 3 0.053069096\n",
            "158 4 4.0046686e-09\n",
            "158 5 0.00029294007\n",
            "158 6 7.2257586e-05\n",
            "158 7 4.0077537e-09\n",
            "158 8 0.019548504\n",
            "158 9 2.4129201e-06\n",
            "158 10 5.9821184e-09\n",
            "158 11 0.00024011564\n",
            "158 12 9.894502e-10\n",
            "158 13 9.840802e-08\n",
            "158 14 1.8029116e-09\n",
            "158 15 1.2088067e-09\n",
            "158 16 2.9494383e-06\n",
            "158 17 0.005893969\n",
            "158 18 2.1909624e-07\n"
          ],
          "name": "stdout"
        },
        {
          "output_type": "stream",
          "text": [
            "\r  4%|▍         | 159/4000 [10:16<3:44:56,  3.51s/it]"
          ],
          "name": "stderr"
        },
        {
          "output_type": "stream",
          "text": [
            "158 19 0.00065314694\n",
            "158 20 6.565621e-06\n",
            "158 maxLoss=0.6696625351905823\n",
            "159 0 0.558215\n",
            "159 1 1.2021323e-07\n",
            "159 2 0.0005344061\n",
            "159 3 0.0531491\n",
            "159 4 4.0082497e-09\n",
            "159 5 0.0002930495\n",
            "159 6 7.22488e-05\n",
            "159 7 4.0055648e-09\n",
            "159 8 0.019530792\n",
            "159 9 2.409884e-06\n",
            "159 10 5.9728857e-09\n",
            "159 11 0.00023968099\n",
            "159 12 9.874225e-10\n",
            "159 13 9.818615e-08\n",
            "159 14 1.7984929e-09\n",
            "159 15 1.2056328e-09\n",
            "159 16 2.9412708e-06\n",
            "159 17 0.005876813\n",
            "159 18 2.1843032e-07\n"
          ],
          "name": "stdout"
        },
        {
          "output_type": "stream",
          "text": [
            "\r  4%|▍         | 160/4000 [10:19<3:41:58,  3.47s/it]"
          ],
          "name": "stderr"
        },
        {
          "output_type": "stream",
          "text": [
            "159 19 0.00065109023\n",
            "159 20 6.5443674e-06\n",
            "159 maxLoss=0.5582150220870972\n",
            "160 0 0.5531469\n",
            "160 1 1.1989246e-07\n",
            "160 2 0.0005332845\n",
            "160 3 0.05306473\n",
            "160 4 4.0037476e-09\n",
            "160 5 0.00029284155\n",
            "160 6 7.22255e-05\n",
            "160 7 4.0056527e-09\n",
            "160 8 0.019536862\n",
            "160 9 2.4113185e-06\n",
            "160 10 5.977843e-09\n",
            "160 11 0.0002399344\n",
            "160 12 9.886457e-10\n",
            "160 13 9.832538e-08\n",
            "160 14 1.8013477e-09\n",
            "160 15 1.2077189e-09\n",
            "160 16 2.9467249e-06\n",
            "160 17 0.005888312\n",
            "160 18 2.1888313e-07\n",
            "160 19 0.0006525041\n"
          ],
          "name": "stdout"
        },
        {
          "output_type": "stream",
          "text": [
            "\r  4%|▍         | 161/4000 [10:22<3:36:50,  3.39s/it]"
          ],
          "name": "stderr"
        },
        {
          "output_type": "stream",
          "text": [
            "160 20 6.5590434e-06\n",
            "160 maxLoss=0.5531468987464905\n",
            "161 0 0.5344997\n",
            "161 1 1.2011527e-07\n",
            "161 2 0.00053405174\n",
            "161 3 0.053121023\n",
            "161 4 4.0066097e-09\n",
            "161 5 0.00029296175\n",
            "161 6 7.22358e-05\n",
            "161 7 4.0051567e-09\n",
            "161 8 0.019530201\n",
            "161 9 2.4100136e-06\n",
            "161 10 5.9735563e-09\n",
            "161 11 0.00023972143\n",
            "161 12 9.87641e-10\n",
            "161 13 9.821189e-08\n",
            "161 14 1.799045e-09\n",
            "161 15 1.2060523e-09\n",
            "161 16 2.9423795e-06\n",
            "161 17 0.005879227\n",
            "161 18 2.1852807e-07\n",
            "161 19 0.0006513918\n"
          ],
          "name": "stdout"
        },
        {
          "output_type": "stream",
          "text": [
            "\r  4%|▍         | 162/4000 [10:26<3:38:25,  3.41s/it]"
          ],
          "name": "stderr"
        },
        {
          "output_type": "stream",
          "text": [
            "161 20 6.5475638e-06\n",
            "161 maxLoss=0.5344997048377991\n",
            "162 0 0.5209011\n",
            "162 1 1.1993347e-07\n",
            "162 2 0.0005333924\n",
            "162 3 0.053069122\n",
            "162 4 4.0036023e-09\n",
            "162 5 0.00029280205\n",
            "162 6 7.220872e-05\n",
            "162 7 4.00441e-09\n",
            "162 8 0.01952939\n",
            "162 9 2.410229e-06\n",
            "162 10 5.974812e-09\n",
            "162 11 0.00023980087\n",
            "162 12 9.880615e-10\n",
            "162 13 9.826209e-08\n",
            "162 14 1.8001091e-09\n",
            "162 15 1.2068577e-09\n",
            "162 16 2.944522e-06\n",
            "162 17 0.0058838422\n",
            "162 18 2.1871021e-07\n",
            "162 19 0.00065196044\n"
          ],
          "name": "stdout"
        },
        {
          "output_type": "stream",
          "text": [
            "\r  4%|▍         | 163/4000 [10:30<3:51:18,  3.62s/it]"
          ],
          "name": "stderr"
        },
        {
          "output_type": "stream",
          "text": [
            "162 20 6.553586e-06\n",
            "162 maxLoss=0.520901083946228\n",
            "163 0 0.51925176\n",
            "163 1 1.2002525e-07\n",
            "163 2 0.0005337077\n",
            "163 3 0.053091604\n",
            "163 4 4.004766e-09\n",
            "163 5 0.00029284586\n",
            "163 6 7.221057e-05\n",
            "163 7 4.004049e-09\n",
            "163 8 0.019525798\n",
            "163 9 2.4096225e-06\n",
            "163 10 5.9727543e-09\n",
            "163 11 0.00023969992\n",
            "163 12 9.875845e-10\n",
            "163 13 9.821006e-08\n",
            "163 14 1.7990531e-09\n",
            "163 15 1.2061029e-09\n",
            "163 16 2.9425275e-06\n",
            "163 17 0.0058796364\n",
            "163 18 2.1854703e-07\n"
          ],
          "name": "stdout"
        },
        {
          "output_type": "stream",
          "text": [
            "\r  4%|▍         | 164/4000 [10:34<3:56:30,  3.70s/it]"
          ],
          "name": "stderr"
        },
        {
          "output_type": "stream",
          "text": [
            "163 19 0.0006514667\n",
            "163 20 6.5483255e-06\n",
            "163 maxLoss=0.5192517638206482\n",
            "164 0 0.5149606\n",
            "164 1 1.1994172e-07\n",
            "164 2 0.0005333909\n",
            "164 3 0.05306483\n",
            "164 4 4.0031063e-09\n",
            "164 5 0.00029275016\n",
            "164 6 7.219275e-05\n",
            "164 7 4.0033385e-09\n",
            "164 8 0.01952343\n",
            "164 9 2.4094427e-06\n",
            "164 10 5.972571e-09\n",
            "164 11 0.00023970415\n",
            "164 12 9.876334e-10\n",
            "164 13 9.821821e-08\n",
            "164 14 1.7992914e-09\n",
            "164 15 1.2062803e-09\n",
            "164 16 2.9430535e-06\n",
            "164 17 0.00588077\n",
            "164 18 2.1859387e-07\n"
          ],
          "name": "stdout"
        },
        {
          "output_type": "stream",
          "text": [
            "\r  4%|▍         | 165/4000 [10:38<4:11:08,  3.93s/it]"
          ],
          "name": "stderr"
        },
        {
          "output_type": "stream",
          "text": [
            "164 19 0.0006516204\n",
            "164 20 6.5499976e-06\n",
            "164 maxLoss=0.5149605870246887\n",
            "165 0 0.515504\n",
            "165 1 1.1996501e-07\n",
            "165 2 0.0005334623\n",
            "165 3 0.05306902\n",
            "165 4 4.003157e-09\n",
            "165 5 0.0002927391\n",
            "165 6 7.2186755e-05\n",
            "165 7 4.002849e-09\n",
            "165 8 0.019520318\n",
            "165 9 2.408961e-06\n",
            "165 10 5.9713265e-09\n",
            "165 11 0.00023964852\n",
            "165 12 9.873798e-10\n",
            "165 13 9.8190235e-08\n",
            "165 14 1.7987168e-09\n",
            "165 15 1.2058828e-09\n",
            "165 16 2.9420682e-06\n",
            "165 17 0.0058787507\n",
            "165 18 2.1851633e-07\n",
            "165 19 0.0006513687\n"
          ],
          "name": "stdout"
        },
        {
          "output_type": "stream",
          "text": [
            "\r  4%|▍         | 166/4000 [10:43<4:30:43,  4.24s/it]"
          ],
          "name": "stderr"
        },
        {
          "output_type": "stream",
          "text": [
            "165 20 6.5475783e-06\n",
            "165 maxLoss=0.515504002571106\n",
            "166 0 0.5143343\n",
            "166 1 1.1992257e-07\n",
            "166 2 0.00053329644\n",
            "166 3 0.05305429\n",
            "166 4 4.0022035e-09\n",
            "166 5 0.00029267932\n",
            "166 6 7.217314e-05\n",
            "166 7 4.002224e-09\n",
            "166 8 0.019517528\n",
            "166 9 2.4086778e-06\n",
            "166 10 5.970715e-09\n",
            "166 11 0.00023962348\n",
            "166 12 9.87307e-10\n",
            "166 13 9.8183996e-08\n",
            "166 14 1.7986468e-09\n",
            "166 15 1.2058398e-09\n",
            "166 16 2.9419755e-06\n",
            "166 17 0.005878595\n",
            "166 18 2.1851238e-07\n"
          ],
          "name": "stdout"
        },
        {
          "output_type": "stream",
          "text": [
            "\r  4%|▍         | 167/4000 [10:47<4:32:47,  4.27s/it]"
          ],
          "name": "stderr"
        },
        {
          "output_type": "stream",
          "text": [
            "166 19 0.00065136486\n",
            "166 20 6.5474915e-06\n",
            "166 maxLoss=0.5143343210220337\n",
            "167 0 0.514665\n",
            "167 1 1.1991962e-07\n",
            "167 2 0.00053327007\n",
            "167 3 0.053050674\n",
            "167 4 4.001821e-09\n",
            "167 5 0.00029264553\n",
            "167 6 7.216492e-05\n",
            "167 7 4.001646e-09\n",
            "167 8 0.019514414\n",
            "167 9 2.4082892e-06\n",
            "167 10 5.9695564e-09\n",
            "167 11 0.00023957835\n",
            "167 12 9.87097e-10\n",
            "167 13 9.816392e-08\n",
            "167 14 1.7982424e-09\n",
            "167 15 1.2055595e-09\n",
            "167 16 2.9412738e-06\n",
            "167 17 0.0058772233\n",
            "167 18 2.1845774e-07\n"
          ],
          "name": "stdout"
        },
        {
          "output_type": "stream",
          "text": [
            "\r  4%|▍         | 168/4000 [10:52<4:31:20,  4.25s/it]"
          ],
          "name": "stderr"
        },
        {
          "output_type": "stream",
          "text": [
            "167 19 0.00065120397\n",
            "167 20 6.545792e-06\n",
            "167 maxLoss=0.5146650075912476\n",
            "168 0 0.51421756\n",
            "168 1 1.1988779e-07\n",
            "168 2 0.0005331313\n",
            "168 3 0.053037297\n",
            "168 4 4.000904e-09\n",
            "168 5 0.00029257388\n",
            "168 6 7.214743e-05\n",
            "168 7 4.0007095e-09\n",
            "168 8 0.019510161\n",
            "168 9 2.4077326e-06\n",
            "168 10 5.968327e-09\n",
            "168 11 0.00023952666\n",
            "168 12 9.868851e-10\n",
            "168 13 9.8142365e-08\n",
            "168 14 1.7978772e-09\n",
            "168 15 1.2053095e-09\n",
            "168 16 2.9406779e-06\n",
            "168 17 0.0058760317\n",
            "168 18 2.1841542e-07\n"
          ],
          "name": "stdout"
        },
        {
          "output_type": "stream",
          "text": [
            "\r  4%|▍         | 169/4000 [10:56<4:34:21,  4.30s/it]"
          ],
          "name": "stderr"
        },
        {
          "output_type": "stream",
          "text": [
            "168 19 0.0006510716\n",
            "168 20 6.544481e-06\n",
            "168 maxLoss=0.5142175555229187\n",
            "169 0 0.5141088\n",
            "169 1 1.1986329e-07\n",
            "169 2 0.0005330347\n",
            "169 3 0.05302762\n",
            "169 4 4.0000967e-09\n",
            "169 5 0.000292521\n",
            "169 6 7.213373e-05\n",
            "169 7 3.9998924e-09\n",
            "169 8 0.019506495\n",
            "169 9 2.4072567e-06\n",
            "169 10 5.9671996e-09\n",
            "169 11 0.00023948138\n",
            "169 12 9.867043e-10\n",
            "169 13 9.8123785e-08\n",
            "169 14 1.7975398e-09\n",
            "169 15 1.2050837e-09\n",
            "169 16 2.940133e-06\n",
            "169 17 0.005874905\n",
            "169 18 2.1837293e-07\n",
            "169 19 0.00065095635\n"
          ],
          "name": "stdout"
        },
        {
          "output_type": "stream",
          "text": [
            "\r  4%|▍         | 170/4000 [10:59<4:10:14,  3.92s/it]"
          ],
          "name": "stderr"
        },
        {
          "output_type": "stream",
          "text": [
            "169 20 6.543268e-06\n",
            "169 maxLoss=0.5141087770462036\n",
            "170 0 0.514033\n",
            "170 1 1.1984146e-07\n",
            "170 2 0.0005329323\n",
            "170 3 0.053016733\n",
            "170 4 3.9993293e-09\n",
            "170 5 0.0002924643\n",
            "170 6 7.212046e-05\n",
            "170 7 3.9991463e-09\n",
            "170 8 0.019502576\n",
            "170 9 2.4068047e-06\n",
            "170 10 5.966068e-09\n",
            "170 11 0.00023943569\n",
            "170 12 9.865142e-10\n",
            "170 13 9.810431e-08\n",
            "170 14 1.7971848e-09\n",
            "170 15 1.2048468e-09\n",
            "170 16 2.9395549e-06\n",
            "170 17 0.0058736806\n",
            "170 18 2.183311e-07\n",
            "170 19 0.0006508211\n"
          ],
          "name": "stdout"
        },
        {
          "output_type": "stream",
          "text": [
            "\r  4%|▍         | 171/4000 [11:03<4:14:09,  3.98s/it]"
          ],
          "name": "stderr"
        },
        {
          "output_type": "stream",
          "text": [
            "170 20 6.541919e-06\n",
            "170 maxLoss=0.5140330195426941\n",
            "171 0 0.51392746\n",
            "171 1 1.1981692e-07\n",
            "171 2 0.00053282164\n",
            "171 3 0.05300644\n",
            "171 4 3.998548e-09\n",
            "171 5 0.00029240455\n",
            "171 6 7.210562e-05\n",
            "171 7 3.998365e-09\n",
            "171 8 0.019498682\n",
            "171 9 2.4063172e-06\n",
            "171 10 5.964875e-09\n",
            "171 11 0.00023938564\n",
            "171 12 9.863154e-10\n",
            "171 13 9.8085096e-08\n",
            "171 14 1.7968304e-09\n",
            "171 15 1.2046062e-09\n",
            "171 16 2.9389685e-06\n",
            "171 17 0.0058725807\n",
            "171 18 2.1828694e-07\n",
            "171 19 0.00065069314\n"
          ],
          "name": "stdout"
        },
        {
          "output_type": "stream",
          "text": [
            "\r  4%|▍         | 172/4000 [11:07<4:04:41,  3.84s/it]"
          ],
          "name": "stderr"
        },
        {
          "output_type": "stream",
          "text": [
            "171 20 6.5406507e-06\n",
            "171 maxLoss=0.5139274597167969\n",
            "172 0 0.5138169\n",
            "172 1 1.1979313e-07\n",
            "172 2 0.0005327219\n",
            "172 3 0.05299602\n",
            "172 4 3.9977275e-09\n",
            "172 5 0.0002923472\n",
            "172 6 7.20909e-05\n",
            "172 7 3.9975396e-09\n",
            "172 8 0.019494766\n",
            "172 9 2.4058195e-06\n",
            "172 10 5.9635967e-09\n",
            "172 11 0.00023933708\n",
            "172 12 9.861181e-10\n",
            "172 13 9.806483e-08\n",
            "172 14 1.7964386e-09\n",
            "172 15 1.204363e-09\n",
            "172 16 2.9383748e-06\n",
            "172 17 0.0058713667\n",
            "172 18 2.1824299e-07\n"
          ],
          "name": "stdout"
        },
        {
          "output_type": "stream",
          "text": [
            "\r  4%|▍         | 173/4000 [11:10<3:51:48,  3.63s/it]"
          ],
          "name": "stderr"
        },
        {
          "output_type": "stream",
          "text": [
            "172 19 0.00065056427\n",
            "172 20 6.539274e-06\n",
            "172 maxLoss=0.5138168931007385\n",
            "173 0 0.5137204\n",
            "173 1 1.1976958e-07\n",
            "173 2 0.00053261063\n",
            "173 3 0.05298478\n",
            "173 4 3.9969272e-09\n",
            "173 5 0.00029228567\n",
            "173 6 7.207697e-05\n",
            "173 7 3.9967345e-09\n",
            "173 8 0.019490832\n",
            "173 9 2.405351e-06\n",
            "173 10 5.962385e-09\n",
            "173 11 0.0002392895\n",
            "173 12 9.859124e-10\n",
            "173 13 9.804561e-08\n",
            "173 14 1.7960822e-09\n",
            "173 15 1.2041197e-09\n",
            "173 16 2.9377609e-06\n",
            "173 17 0.00587017\n",
            "173 18 2.1819729e-07\n"
          ],
          "name": "stdout"
        },
        {
          "output_type": "stream",
          "text": [
            "\r  4%|▍         | 174/4000 [11:12<3:33:22,  3.35s/it]"
          ],
          "name": "stderr"
        },
        {
          "output_type": "stream",
          "text": [
            "173 19 0.00065041654\n",
            "173 20 6.537953e-06\n",
            "173 maxLoss=0.5137203931808472\n",
            "174 0 0.51360524\n",
            "174 1 1.1974406e-07\n",
            "174 2 0.00053249876\n",
            "174 3 0.05297372\n",
            "174 4 3.9960963e-09\n",
            "174 5 0.0002922242\n",
            "174 6 7.206194e-05\n",
            "174 7 3.995892e-09\n",
            "174 8 0.01948696\n",
            "174 9 2.4048459e-06\n",
            "174 10 5.961208e-09\n",
            "174 11 0.0002392371\n",
            "174 12 9.857034e-10\n",
            "174 13 9.8024564e-08\n",
            "174 14 1.7957076e-09\n",
            "174 15 1.2038591e-09\n",
            "174 16 2.9371383e-06\n",
            "174 17 0.005868933\n",
            "174 18 2.1815265e-07\n"
          ],
          "name": "stdout"
        },
        {
          "output_type": "stream",
          "text": [
            "\r  4%|▍         | 175/4000 [11:16<3:31:41,  3.32s/it]"
          ],
          "name": "stderr"
        },
        {
          "output_type": "stream",
          "text": [
            "174 19 0.00065028813\n",
            "174 20 6.536593e-06\n",
            "174 maxLoss=0.5136052370071411\n",
            "175 0 0.5135022\n",
            "175 1 1.197193e-07\n",
            "175 2 0.00053239014\n",
            "175 3 0.05296329\n",
            "175 4 3.9952446e-09\n",
            "175 5 0.00029216122\n",
            "175 6 7.204638e-05\n",
            "175 7 3.9950487e-09\n",
            "175 8 0.019482791\n",
            "175 9 2.4043075e-06\n",
            "175 10 5.9598753e-09\n",
            "175 11 0.00023918573\n",
            "175 12 9.854977e-10\n",
            "175 13 9.8002864e-08\n",
            "175 14 1.7953228e-09\n",
            "175 15 1.203607e-09\n",
            "175 16 2.9365142e-06\n",
            "175 17 0.0058677136\n",
            "175 18 2.1810573e-07\n"
          ],
          "name": "stdout"
        },
        {
          "output_type": "stream",
          "text": [
            "\r  4%|▍         | 176/4000 [11:20<3:53:12,  3.66s/it]"
          ],
          "name": "stderr"
        },
        {
          "output_type": "stream",
          "text": [
            "175 19 0.000650154\n",
            "175 20 6.5352456e-06\n",
            "175 maxLoss=0.5135021805763245\n",
            "176 0 0.51339257\n",
            "176 1 1.1969315e-07\n",
            "176 2 0.0005322726\n",
            "176 3 0.052951507\n",
            "176 4 3.9944053e-09\n",
            "176 5 0.00029210025\n",
            "176 6 7.2030445e-05\n",
            "176 7 3.994201e-09\n",
            "176 8 0.019478614\n",
            "176 9 2.4038088e-06\n",
            "176 10 5.9586256e-09\n",
            "176 11 0.00023913647\n",
            "176 12 9.852881e-10\n",
            "176 13 9.798264e-08\n",
            "176 14 1.7949441e-09\n",
            "176 15 1.203346e-09\n",
            "176 16 2.9358637e-06\n",
            "176 17 0.005866397\n",
            "176 18 2.1805809e-07\n"
          ],
          "name": "stdout"
        },
        {
          "output_type": "stream",
          "text": [
            "\r  4%|▍         | 177/4000 [11:24<4:00:38,  3.78s/it]"
          ],
          "name": "stderr"
        },
        {
          "output_type": "stream",
          "text": [
            "176 19 0.00065001746\n",
            "176 20 6.5337767e-06\n",
            "176 maxLoss=0.5133925676345825\n",
            "177 0 0.51328254\n",
            "177 1 1.1966789e-07\n",
            "177 2 0.0005321598\n",
            "177 3 0.052940153\n",
            "177 4 3.9935517e-09\n",
            "177 5 0.00029203997\n",
            "177 6 7.201529e-05\n",
            "177 7 3.993329e-09\n",
            "177 8 0.019474382\n",
            "177 9 2.403316e-06\n",
            "177 10 5.9572622e-09\n",
            "177 11 0.00023908414\n",
            "177 12 9.850748e-10\n",
            "177 13 9.796154e-08\n",
            "177 14 1.7945382e-09\n",
            "177 15 1.2030856e-09\n",
            "177 16 2.9352584e-06\n",
            "177 17 0.005865128\n",
            "177 18 2.1801019e-07\n"
          ],
          "name": "stdout"
        },
        {
          "output_type": "stream",
          "text": [
            "\r  4%|▍         | 178/4000 [11:28<3:59:22,  3.76s/it]"
          ],
          "name": "stderr"
        },
        {
          "output_type": "stream",
          "text": [
            "177 19 0.0006498699\n",
            "177 20 6.532317e-06\n",
            "177 maxLoss=0.5132825374603271\n",
            "178 0 0.513168\n",
            "178 1 1.1964165e-07\n",
            "178 2 0.0005320414\n",
            "178 3 0.05292843\n",
            "178 4 3.992647e-09\n",
            "178 5 0.00029197012\n",
            "178 6 7.199921e-05\n",
            "178 7 3.992476e-09\n",
            "178 8 0.019470016\n",
            "178 9 2.4027415e-06\n",
            "178 10 5.9560668e-09\n",
            "178 11 0.00023903199\n",
            "178 12 9.848576e-10\n",
            "178 13 9.794079e-08\n",
            "178 14 1.7941539e-09\n",
            "178 15 1.2028156e-09\n",
            "178 16 2.9345863e-06\n",
            "178 17 0.005863857\n",
            "178 18 2.1796326e-07\n",
            "178 19 0.0006497317\n"
          ],
          "name": "stdout"
        },
        {
          "output_type": "stream",
          "text": [
            "\r  4%|▍         | 179/4000 [11:32<3:57:00,  3.72s/it]"
          ],
          "name": "stderr"
        },
        {
          "output_type": "stream",
          "text": [
            "178 20 6.5309428e-06\n",
            "178 maxLoss=0.5131679773330688\n",
            "179 0 0.51305115\n",
            "179 1 1.196162e-07\n",
            "179 2 0.00053192495\n",
            "179 3 0.052916635\n",
            "179 4 3.991761e-09\n",
            "179 5 0.00029190825\n",
            "179 6 7.198348e-05\n",
            "179 7 3.9915515e-09\n",
            "179 8 0.01946551\n",
            "179 9 2.4022404e-06\n",
            "179 10 5.954712e-09\n",
            "179 11 0.00023897797\n",
            "179 12 9.846391e-10\n",
            "179 13 9.79184e-08\n",
            "179 14 1.7937586e-09\n",
            "179 15 1.202549e-09\n",
            "179 16 2.9339406e-06\n",
            "179 17 0.0058624744\n",
            "179 18 2.1791402e-07\n"
          ],
          "name": "stdout"
        },
        {
          "output_type": "stream",
          "text": [
            "\r  4%|▍         | 180/4000 [11:35<3:46:52,  3.56s/it]"
          ],
          "name": "stderr"
        },
        {
          "output_type": "stream",
          "text": [
            "179 19 0.00064958184\n",
            "179 20 6.529491e-06\n",
            "179 maxLoss=0.5130511522293091\n",
            "180 0 0.51293516\n",
            "180 1 1.1958741e-07\n",
            "180 2 0.0005317984\n",
            "180 3 0.052904975\n",
            "180 4 3.9908516e-09\n",
            "180 5 0.000291845\n",
            "180 6 7.196771e-05\n",
            "180 7 3.9906394e-09\n",
            "180 8 0.01946132\n",
            "180 9 2.4017031e-06\n",
            "180 10 5.9533787e-09\n",
            "180 11 0.00023892206\n",
            "180 12 9.844136e-10\n",
            "180 13 9.7896006e-08\n",
            "180 14 1.793335e-09\n",
            "180 15 1.2022775e-09\n",
            "180 16 2.9332864e-06\n",
            "180 17 0.005861158\n",
            "180 18 2.1786484e-07\n",
            "180 19 0.00064943143\n"
          ],
          "name": "stdout"
        },
        {
          "output_type": "stream",
          "text": [
            "\r  5%|▍         | 181/4000 [11:39<3:50:16,  3.62s/it]"
          ],
          "name": "stderr"
        },
        {
          "output_type": "stream",
          "text": [
            "180 20 6.527987e-06\n",
            "180 maxLoss=0.5129351615905762\n",
            "181 0 0.51282007\n",
            "181 1 1.1956142e-07\n",
            "181 2 0.0005316836\n",
            "181 3 0.05289213\n",
            "181 4 3.989989e-09\n",
            "181 5 0.00029177178\n",
            "181 6 7.195038e-05\n",
            "181 7 3.9897246e-09\n",
            "181 8 0.01945673\n",
            "181 9 2.4011274e-06\n",
            "181 10 5.9519842e-09\n",
            "181 11 0.00023886978\n",
            "181 12 9.841887e-10\n",
            "181 13 9.787224e-08\n",
            "181 14 1.7929259e-09\n",
            "181 15 1.2019966e-09\n",
            "181 16 2.9325895e-06\n",
            "181 17 0.0058598137\n",
            "181 18 2.1781425e-07\n"
          ],
          "name": "stdout"
        },
        {
          "output_type": "stream",
          "text": [
            "\r  5%|▍         | 182/4000 [11:42<3:38:50,  3.44s/it]"
          ],
          "name": "stderr"
        },
        {
          "output_type": "stream",
          "text": [
            "181 19 0.0006492835\n",
            "181 20 6.526534e-06\n",
            "181 maxLoss=0.5128200650215149\n",
            "182 0 0.51270074\n",
            "182 1 1.1953377e-07\n",
            "182 2 0.00053156476\n",
            "182 3 0.05288025\n",
            "182 4 3.9890002e-09\n",
            "182 5 0.0002917073\n",
            "182 6 7.1933355e-05\n",
            "182 7 3.9888257e-09\n",
            "182 8 0.0194522\n",
            "182 9 2.4005622e-06\n",
            "182 10 5.950542e-09\n",
            "182 11 0.00023881366\n",
            "182 12 9.839655e-10\n",
            "182 13 9.784975e-08\n",
            "182 14 1.7925207e-09\n",
            "182 15 1.201726e-09\n",
            "182 16 2.9319183e-06\n",
            "182 17 0.0058584674\n",
            "182 18 2.177622e-07\n"
          ],
          "name": "stdout"
        },
        {
          "output_type": "stream",
          "text": [
            "\r  5%|▍         | 183/4000 [11:45<3:31:30,  3.32s/it]"
          ],
          "name": "stderr"
        },
        {
          "output_type": "stream",
          "text": [
            "182 19 0.00064912514\n",
            "182 20 6.5249774e-06\n",
            "182 maxLoss=0.5127007365226746\n",
            "183 0 0.51258177\n",
            "183 1 1.1950576e-07\n",
            "183 2 0.00053143414\n",
            "183 3 0.052868012\n",
            "183 4 3.9881063e-09\n",
            "183 5 0.00029163758\n",
            "183 6 7.1916336e-05\n",
            "183 7 3.9878887e-09\n",
            "183 8 0.019447714\n",
            "183 9 2.4000087e-06\n",
            "183 10 5.949169e-09\n",
            "183 11 0.0002387565\n",
            "183 12 9.837255e-10\n",
            "183 13 9.782813e-08\n",
            "183 14 1.7920866e-09\n",
            "183 15 1.201426e-09\n",
            "183 16 2.9312175e-06\n",
            "183 17 0.0058571\n",
            "183 18 2.1771e-07\n",
            "183 19 0.0006489746\n"
          ],
          "name": "stdout"
        },
        {
          "output_type": "stream",
          "text": [
            "\r  5%|▍         | 184/4000 [11:49<3:42:54,  3.50s/it]"
          ],
          "name": "stderr"
        },
        {
          "output_type": "stream",
          "text": [
            "183 20 6.52347e-06\n",
            "183 maxLoss=0.5125817656517029\n",
            "184 0 0.5124622\n",
            "184 1 1.1947614e-07\n",
            "184 2 0.00053130894\n",
            "184 3 0.052855488\n",
            "184 4 3.987143e-09\n",
            "184 5 0.00029157056\n",
            "184 6 7.189971e-05\n",
            "184 7 3.9869437e-09\n",
            "184 8 0.019442962\n",
            "184 9 2.3994291e-06\n",
            "184 10 5.947737e-09\n",
            "184 11 0.00023869869\n",
            "184 12 9.834915e-10\n",
            "184 13 9.780358e-08\n",
            "184 14 1.7916593e-09\n",
            "184 15 1.2011379e-09\n",
            "184 16 2.9305343e-06\n",
            "184 17 0.005855702\n",
            "184 18 2.1766026e-07\n",
            "184 19 0.0006488205\n"
          ],
          "name": "stdout"
        },
        {
          "output_type": "stream",
          "text": [
            "\r  5%|▍         | 185/4000 [11:53<3:54:04,  3.68s/it]"
          ],
          "name": "stderr"
        },
        {
          "output_type": "stream",
          "text": [
            "184 20 6.521862e-06\n",
            "184 maxLoss=0.5124621987342834\n",
            "185 0 0.5123358\n",
            "185 1 1.1944705e-07\n",
            "185 2 0.00053118577\n",
            "185 3 0.052843098\n",
            "185 4 3.9861585e-09\n",
            "185 5 0.0002914994\n",
            "185 6 7.188254e-05\n",
            "185 7 3.98598e-09\n",
            "185 8 0.019438377\n",
            "185 9 2.3988343e-06\n",
            "185 10 5.946356e-09\n",
            "185 11 0.00023864214\n",
            "185 12 9.832462e-10\n",
            "185 13 9.77795e-08\n",
            "185 14 1.7912348e-09\n",
            "185 15 1.2008553e-09\n",
            "185 16 2.9298049e-06\n"
          ],
          "name": "stdout"
        },
        {
          "output_type": "stream",
          "text": [
            "\r  5%|▍         | 186/4000 [11:56<3:57:28,  3.74s/it]"
          ],
          "name": "stderr"
        },
        {
          "output_type": "stream",
          "text": [
            "185 17 0.005854248\n",
            "185 18 2.176038e-07\n",
            "185 19 0.0006486624\n",
            "185 20 6.5202817e-06\n",
            "185 maxLoss=0.5123357772827148\n",
            "186 0 0.5122132\n",
            "186 1 1.19419e-07\n",
            "186 2 0.00053105457\n",
            "186 3 0.05282968\n",
            "186 4 3.985223e-09\n",
            "186 5 0.0002914283\n",
            "186 6 7.1865565e-05\n",
            "186 7 3.9849852e-09\n",
            "186 8 0.019433567\n",
            "186 9 2.3982568e-06\n",
            "186 10 5.944847e-09\n",
            "186 11 0.00023858283\n",
            "186 12 9.830055e-10\n",
            "186 13 9.775581e-08\n",
            "186 14 1.7907761e-09\n",
            "186 15 1.200549e-09\n",
            "186 16 2.9290725e-06\n",
            "186 17 0.0058527626\n",
            "186 18 2.1755265e-07\n",
            "186 19 0.00064850325\n"
          ],
          "name": "stdout"
        },
        {
          "output_type": "stream",
          "text": [
            "\r  5%|▍         | 187/4000 [12:00<3:58:27,  3.75s/it]"
          ],
          "name": "stderr"
        },
        {
          "output_type": "stream",
          "text": [
            "186 20 6.518675e-06\n",
            "186 maxLoss=0.5122131705284119\n",
            "187 0 0.51208365\n",
            "187 1 1.1938886e-07\n",
            "187 2 0.0005309205\n",
            "187 3 0.052816626\n",
            "187 4 3.9842067e-09\n",
            "187 5 0.00029135373\n",
            "187 6 7.184709e-05\n",
            "187 7 3.9839807e-09\n",
            "187 8 0.019428713\n",
            "187 9 2.3976722e-06\n",
            "187 10 5.9433303e-09\n",
            "187 11 0.00023852369\n",
            "187 12 9.827634e-10\n",
            "187 13 9.7729874e-08\n",
            "187 14 1.7903188e-09\n",
            "187 15 1.2002432e-09\n",
            "187 16 2.9283347e-06\n",
            "187 17 0.0058513544\n",
            "187 18 2.175008e-07\n",
            "187 19 0.0006483356\n"
          ],
          "name": "stdout"
        },
        {
          "output_type": "stream",
          "text": [
            "\r  5%|▍         | 188/4000 [12:04<3:52:19,  3.66s/it]"
          ],
          "name": "stderr"
        },
        {
          "output_type": "stream",
          "text": [
            "187 20 6.517027e-06\n",
            "187 maxLoss=0.5120836496353149\n",
            "188 0 0.51195675\n",
            "188 1 1.1935937e-07\n",
            "188 2 0.0005307874\n",
            "188 3 0.052802682\n",
            "188 4 3.983184e-09\n",
            "188 5 0.00029127992\n",
            "188 6 7.182849e-05\n",
            "188 7 3.9829784e-09\n",
            "188 8 0.019423846\n",
            "188 9 2.3970413e-06\n",
            "188 10 5.9417857e-09\n",
            "188 11 0.00023846456\n",
            "188 12 9.825112e-10\n",
            "188 13 9.770748e-08\n",
            "188 14 1.789896e-09\n",
            "188 15 1.1999477e-09\n",
            "188 16 2.9275977e-06\n",
            "188 17 0.0058498564\n",
            "188 18 2.1744209e-07\n"
          ],
          "name": "stdout"
        },
        {
          "output_type": "stream",
          "text": [
            "\r  5%|▍         | 189/4000 [12:08<3:58:02,  3.75s/it]"
          ],
          "name": "stderr"
        },
        {
          "output_type": "stream",
          "text": [
            "188 19 0.00064817345\n",
            "188 20 6.515375e-06\n",
            "188 maxLoss=0.5119567513465881\n",
            "189 0 0.51182234\n",
            "189 1 1.1932741e-07\n",
            "189 2 0.00053065\n",
            "189 3 0.052789543\n",
            "189 4 3.982174e-09\n",
            "189 5 0.00029120484\n",
            "189 6 7.1810086e-05\n",
            "189 7 3.981935e-09\n",
            "189 8 0.01941877\n",
            "189 9 2.396428e-06\n",
            "189 10 5.940301e-09\n",
            "189 11 0.00023840107\n",
            "189 12 9.822662e-10\n",
            "189 13 9.768153e-08\n",
            "189 14 1.7894192e-09\n",
            "189 15 1.1996432e-09\n",
            "189 16 2.9268358e-06\n",
            "189 17 0.0058483086\n",
            "189 18 2.1738562e-07\n"
          ],
          "name": "stdout"
        },
        {
          "output_type": "stream",
          "text": [
            "\r  5%|▍         | 190/4000 [12:11<3:56:49,  3.73s/it]"
          ],
          "name": "stderr"
        },
        {
          "output_type": "stream",
          "text": [
            "189 19 0.0006480071\n",
            "189 20 6.5136783e-06\n",
            "189 maxLoss=0.5118223428726196\n",
            "190 0 0.51169306\n",
            "190 1 1.1929758e-07\n",
            "190 2 0.0005305182\n",
            "190 3 0.05277593\n",
            "190 4 3.9811274e-09\n",
            "190 5 0.00029112975\n",
            "190 6 7.179073e-05\n",
            "190 7 3.9809156e-09\n",
            "190 8 0.019413756\n",
            "190 9 2.3957843e-06\n",
            "190 10 5.9388072e-09\n",
            "190 11 0.00023833993\n",
            "190 12 9.820059e-10\n",
            "190 13 9.765522e-08\n",
            "190 14 1.7889341e-09\n",
            "190 15 1.1993296e-09\n",
            "190 16 2.926062e-06\n",
            "190 17 0.005846816\n",
            "190 18 2.1732906e-07\n",
            "190 19 0.0006478362\n"
          ],
          "name": "stdout"
        },
        {
          "output_type": "stream",
          "text": [
            "\r  5%|▍         | 191/4000 [12:15<3:53:28,  3.68s/it]"
          ],
          "name": "stderr"
        },
        {
          "output_type": "stream",
          "text": [
            "190 20 6.5119457e-06\n",
            "190 maxLoss=0.5116930603981018\n",
            "191 0 0.5115587\n",
            "191 1 1.1926713e-07\n",
            "191 2 0.00053037185\n",
            "191 3 0.05276199\n",
            "191 4 3.980096e-09\n",
            "191 5 0.00029105414\n",
            "191 6 7.1772214e-05\n",
            "191 7 3.979893e-09\n",
            "191 8 0.019408694\n",
            "191 9 2.3951743e-06\n",
            "191 10 5.9371805e-09\n",
            "191 11 0.00023827636\n",
            "191 12 9.81748e-10\n",
            "191 13 9.762901e-08\n",
            "191 14 1.7884687e-09\n",
            "191 15 1.1990193e-09\n",
            "191 16 2.9252856e-06\n",
            "191 17 0.005845276\n",
            "191 18 2.172713e-07\n",
            "191 19 0.00064766157\n"
          ],
          "name": "stdout"
        },
        {
          "output_type": "stream",
          "text": [
            "\r  5%|▍         | 192/4000 [12:18<3:52:02,  3.66s/it]"
          ],
          "name": "stderr"
        },
        {
          "output_type": "stream",
          "text": [
            "191 20 6.510236e-06\n",
            "191 maxLoss=0.5115587115287781\n",
            "192 0 0.51141816\n",
            "192 1 1.1923676e-07\n",
            "192 2 0.00053022883\n",
            "192 3 0.052747965\n",
            "192 4 3.9790287e-09\n",
            "192 5 0.00029097707\n",
            "192 6 7.1753435e-05\n",
            "192 7 3.978775e-09\n",
            "192 8 0.019403417\n",
            "192 9 2.3945488e-06\n",
            "192 10 5.935629e-09\n",
            "192 11 0.00023821251\n",
            "192 12 9.814837e-10\n",
            "192 13 9.7602786e-08\n",
            "192 14 1.7879881e-09\n",
            "192 15 1.1986848e-09\n",
            "192 16 2.9244907e-06\n",
            "192 17 0.005843681\n",
            "192 18 2.1721617e-07\n",
            "192 19 0.0006474961\n"
          ],
          "name": "stdout"
        },
        {
          "output_type": "stream",
          "text": [
            "\r  5%|▍         | 193/4000 [12:21<3:38:18,  3.44s/it]"
          ],
          "name": "stderr"
        },
        {
          "output_type": "stream",
          "text": [
            "192 20 6.5084314e-06\n",
            "192 maxLoss=0.5114181637763977\n",
            "193 0 0.5112792\n",
            "193 1 1.1920264e-07\n",
            "193 2 0.00053008547\n",
            "193 3 0.052733656\n",
            "193 4 3.977919e-09\n",
            "193 5 0.00029089622\n",
            "193 6 7.173327e-05\n",
            "193 7 3.9777235e-09\n",
            "193 8 0.019398062\n",
            "193 9 2.3938667e-06\n",
            "193 10 5.933998e-09\n",
            "193 11 0.00023814697\n",
            "193 12 9.812179e-10\n",
            "193 13 9.7577704e-08\n",
            "193 14 1.7874883e-09\n",
            "193 15 1.1983581e-09\n",
            "193 16 2.9237024e-06\n",
            "193 17 0.0058420813\n",
            "193 18 2.1715333e-07\n"
          ],
          "name": "stdout"
        },
        {
          "output_type": "stream",
          "text": [
            "\r  5%|▍         | 194/4000 [12:26<3:54:39,  3.70s/it]"
          ],
          "name": "stderr"
        },
        {
          "output_type": "stream",
          "text": [
            "193 19 0.00064731453\n",
            "193 20 6.5066897e-06\n",
            "193 maxLoss=0.5112792253494263\n",
            "194 0 0.5111363\n",
            "194 1 1.19170224e-07\n",
            "194 2 0.0005299411\n",
            "194 3 0.052718986\n",
            "194 4 3.976866e-09\n",
            "194 5 0.0002908172\n",
            "194 6 7.171473e-05\n",
            "194 7 3.9766164e-09\n",
            "194 8 0.01939278\n",
            "194 9 2.3931939e-06\n",
            "194 10 5.9323666e-09\n",
            "194 11 0.00023808212\n",
            "194 12 9.809394e-10\n",
            "194 13 9.755059e-08\n",
            "194 14 1.7870226e-09\n",
            "194 15 1.1980257e-09\n",
            "194 16 2.9228875e-06\n",
            "194 17 0.005840399\n"
          ],
          "name": "stdout"
        },
        {
          "output_type": "stream",
          "text": [
            "\r  5%|▍         | 195/4000 [12:30<4:12:21,  3.98s/it]"
          ],
          "name": "stderr"
        },
        {
          "output_type": "stream",
          "text": [
            "194 18 2.1709364e-07\n",
            "194 19 0.0006471359\n",
            "194 20 6.504905e-06\n",
            "194 maxLoss=0.5111362934112549\n",
            "195 0 0.5109992\n",
            "195 1 1.19137944e-07\n",
            "195 2 0.0005297927\n",
            "195 3 0.05270458\n",
            "195 4 3.9757895e-09\n",
            "195 5 0.00029073367\n",
            "195 6 7.169389e-05\n",
            "195 7 3.9754515e-09\n",
            "195 8 0.01938721\n",
            "195 9 2.3925545e-06\n",
            "195 10 5.9307075e-09\n",
            "195 11 0.00023801127\n",
            "195 12 9.806527e-10\n",
            "195 13 9.7522715e-08\n",
            "195 14 1.7865106e-09\n",
            "195 15 1.1976884e-09\n",
            "195 16 2.922066e-06\n",
            "195 17 0.005838797\n",
            "195 18 2.170322e-07\n",
            "195 19 0.0006469487\n"
          ],
          "name": "stdout"
        },
        {
          "output_type": "stream",
          "text": [
            "\r  5%|▍         | 196/4000 [12:34<4:02:56,  3.83s/it]"
          ],
          "name": "stderr"
        },
        {
          "output_type": "stream",
          "text": [
            "195 20 6.5030627e-06\n",
            "195 maxLoss=0.5109992027282715\n",
            "196 0 0.5108524\n",
            "196 1 1.191032e-07\n",
            "196 2 0.00052965246\n",
            "196 3 0.052689526\n",
            "196 4 3.974629e-09\n",
            "196 5 0.00029065533\n",
            "196 6 7.167382e-05\n",
            "196 7 3.9743644e-09\n",
            "196 8 0.01938182\n",
            "196 9 2.391853e-06\n",
            "196 10 5.929004e-09\n",
            "196 11 0.00023794579\n",
            "196 12 9.803858e-10\n",
            "196 13 9.749396e-08\n",
            "196 14 1.7859897e-09\n",
            "196 15 1.1973521e-09\n",
            "196 16 2.9212185e-06\n",
            "196 17 0.00583716\n",
            "196 18 2.1697214e-07\n"
          ],
          "name": "stdout"
        },
        {
          "output_type": "stream",
          "text": [
            "\r  5%|▍         | 197/4000 [12:38<4:18:08,  4.07s/it]"
          ],
          "name": "stderr"
        },
        {
          "output_type": "stream",
          "text": [
            "196 19 0.0006467661\n",
            "196 20 6.501245e-06\n",
            "196 maxLoss=0.5108523964881897\n",
            "197 0 0.51070195\n",
            "197 1 1.19068986e-07\n",
            "197 2 0.00052949315\n",
            "197 3 0.052674234\n",
            "197 4 3.973446e-09\n",
            "197 5 0.00029056842\n",
            "197 6 7.1653405e-05\n",
            "197 7 3.9732035e-09\n",
            "197 8 0.019376127\n",
            "197 9 2.3911696e-06\n",
            "197 10 5.927317e-09\n",
            "197 11 0.00023787632\n",
            "197 12 9.800986e-10\n",
            "197 13 9.74668e-08\n",
            "197 14 1.785487e-09\n",
            "197 15 1.1970015e-09\n",
            "197 16 2.9203907e-06\n",
            "197 17 0.0058354298\n",
            "197 18 2.1690535e-07\n",
            "197 19 0.00064657844\n"
          ],
          "name": "stdout"
        },
        {
          "output_type": "stream",
          "text": [
            "\r  5%|▍         | 198/4000 [12:43<4:30:09,  4.26s/it]"
          ],
          "name": "stderr"
        },
        {
          "output_type": "stream",
          "text": [
            "197 20 6.499308e-06\n",
            "197 maxLoss=0.5107019543647766\n",
            "198 0 0.5105569\n",
            "198 1 1.190363e-07\n",
            "198 2 0.0005293392\n",
            "198 3 0.05265916\n",
            "198 4 3.9723287e-09\n",
            "198 5 0.00029048443\n",
            "198 6 7.1632596e-05\n",
            "198 7 3.9720924e-09\n",
            "198 8 0.019370424\n",
            "198 9 2.3904815e-06\n",
            "198 10 5.9255147e-09\n",
            "198 11 0.00023780695\n",
            "198 12 9.798131e-10\n",
            "198 13 9.74377e-08\n",
            "198 14 1.7849459e-09\n",
            "198 15 1.1966487e-09\n",
            "198 16 2.9195369e-06\n",
            "198 17 0.005833723\n",
            "198 18 2.1684185e-07\n"
          ],
          "name": "stdout"
        },
        {
          "output_type": "stream",
          "text": [
            "\r  5%|▍         | 199/4000 [12:47<4:30:10,  4.26s/it]"
          ],
          "name": "stderr"
        },
        {
          "output_type": "stream",
          "text": [
            "198 19 0.00064638664\n",
            "198 20 6.497346e-06\n",
            "198 maxLoss=0.5105568766593933\n",
            "199 0 0.51040167\n",
            "199 1 1.1899855e-07\n",
            "199 2 0.000529184\n",
            "199 3 0.052643258\n",
            "199 4 3.9711474e-09\n",
            "199 5 0.0002903974\n",
            "199 6 7.161065e-05\n",
            "199 7 3.970863e-09\n",
            "199 8 0.019364718\n",
            "199 9 2.3897487e-06\n",
            "199 10 5.9237677e-09\n",
            "199 11 0.00023773666\n",
            "199 12 9.795208e-10\n",
            "199 13 9.740798e-08\n",
            "199 14 1.78443e-09\n",
            "199 15 1.1962973e-09\n",
            "199 16 2.9186865e-06\n",
            "199 17 0.005832017\n",
            "199 18 2.1677941e-07\n"
          ],
          "name": "stdout"
        },
        {
          "output_type": "stream",
          "text": [
            "\r  5%|▌         | 200/4000 [12:51<4:15:57,  4.04s/it]"
          ],
          "name": "stderr"
        },
        {
          "output_type": "stream",
          "text": [
            "199 19 0.0006461948\n",
            "199 20 6.4954374e-06\n",
            "199 maxLoss=0.5104016661643982\n",
            "200 0 0.5102487\n",
            "200 1 1.1896294e-07\n",
            "200 2 0.00052902685\n",
            "200 3 0.052627217\n",
            "200 4 3.9699772e-09\n",
            "200 5 0.00029031123\n",
            "200 6 7.158889e-05\n",
            "200 7 3.969695e-09\n",
            "200 8 0.01935899\n",
            "200 9 2.3890009e-06\n",
            "200 10 5.9219856e-09\n",
            "200 11 0.00023766336\n",
            "200 12 9.792264e-10\n",
            "200 13 9.737811e-08\n",
            "200 14 1.7838911e-09\n",
            "200 15 1.1959289e-09\n",
            "200 16 2.9177768e-06\n",
            "200 17 0.005830173\n",
            "200 18 2.1671337e-07\n"
          ],
          "name": "stdout"
        },
        {
          "output_type": "stream",
          "text": [
            "\r  5%|▌         | 201/4000 [12:55<4:16:51,  4.06s/it]"
          ],
          "name": "stderr"
        },
        {
          "output_type": "stream",
          "text": [
            "200 19 0.00064599473\n",
            "200 20 6.4934716e-06\n",
            "200 maxLoss=0.5102487206459045\n",
            "201 0 0.51009166\n",
            "201 1 1.18926316e-07\n",
            "201 2 0.00052886544\n",
            "201 3 0.05261248\n",
            "201 4 3.968743e-09\n",
            "201 5 0.000290222\n",
            "201 6 7.1567665e-05\n",
            "201 7 3.968422e-09\n",
            "201 8 0.01935291\n",
            "201 9 2.388319e-06\n",
            "201 10 5.9201097e-09\n",
            "201 11 0.00023758993\n",
            "201 12 9.789198e-10\n",
            "201 13 9.7349776e-08\n",
            "201 14 1.7833199e-09\n",
            "201 15 1.1955538e-09\n",
            "201 16 2.9168582e-06\n",
            "201 17 0.0058284765\n",
            "201 18 2.1664633e-07\n"
          ],
          "name": "stdout"
        },
        {
          "output_type": "stream",
          "text": [
            "\r  5%|▌         | 202/4000 [12:59<4:08:11,  3.92s/it]"
          ],
          "name": "stderr"
        },
        {
          "output_type": "stream",
          "text": [
            "201 19 0.00064580556\n",
            "201 20 6.491415e-06\n",
            "201 maxLoss=0.5100916624069214\n",
            "202 0 0.50993305\n",
            "202 1 1.18891364e-07\n",
            "202 2 0.0005286961\n",
            "202 3 0.05259543\n",
            "202 4 3.967506e-09\n",
            "202 5 0.00029012826\n",
            "202 6 7.154561e-05\n",
            "202 7 3.967241e-09\n",
            "202 8 0.019346891\n",
            "202 9 2.3875452e-06\n",
            "202 10 5.9183494e-09\n",
            "202 11 0.00023751633\n",
            "202 12 9.786156e-10\n",
            "202 13 9.731764e-08\n",
            "202 14 1.7827625e-09\n",
            "202 15 1.1951826e-09\n",
            "202 16 2.9159676e-06\n",
            "202 17 0.005826511\n",
            "202 18 2.1657787e-07\n",
            "202 19 0.00064559316\n"
          ],
          "name": "stdout"
        },
        {
          "output_type": "stream",
          "text": [
            "\r  5%|▌         | 203/4000 [13:03<4:16:20,  4.05s/it]"
          ],
          "name": "stderr"
        },
        {
          "output_type": "stream",
          "text": [
            "202 20 6.4894202e-06\n",
            "202 maxLoss=0.5099330544471741\n",
            "203 0 0.5097835\n",
            "203 1 1.1885404e-07\n",
            "203 2 0.000528533\n",
            "203 3 0.052578755\n",
            "203 4 3.9662673e-09\n",
            "203 5 0.0002900382\n",
            "203 6 7.152218e-05\n",
            "203 7 3.965952e-09\n",
            "203 8 0.01934071\n",
            "203 9 2.386785e-06\n",
            "203 10 5.9165015e-09\n",
            "203 11 0.00023744135\n",
            "203 12 9.783017e-10\n",
            "203 13 9.7287526e-08\n",
            "203 14 1.7822198e-09\n",
            "203 15 1.1947969e-09\n",
            "203 16 2.9150617e-06\n",
            "203 17 0.0058246837\n",
            "203 18 2.1650744e-07\n"
          ],
          "name": "stdout"
        },
        {
          "output_type": "stream",
          "text": [
            "\r  5%|▌         | 204/4000 [13:07<4:10:27,  3.96s/it]"
          ],
          "name": "stderr"
        },
        {
          "output_type": "stream",
          "text": [
            "203 19 0.0006453866\n",
            "203 20 6.4873884e-06\n",
            "203 maxLoss=0.5097835063934326\n",
            "204 0 0.50961095\n",
            "204 1 1.1881432e-07\n",
            "204 2 0.0005283636\n",
            "204 3 0.05256194\n",
            "204 4 3.964973e-09\n",
            "204 5 0.00028994735\n",
            "204 6 7.149884e-05\n",
            "204 7 3.964682e-09\n",
            "204 8 0.019334465\n",
            "204 9 2.3860136e-06\n",
            "204 10 5.9145218e-09\n",
            "204 11 0.00023736399\n",
            "204 12 9.779856e-10\n",
            "204 13 9.7256034e-08\n",
            "204 14 1.7816324e-09\n",
            "204 15 1.1944195e-09\n",
            "204 16 2.9140742e-06\n",
            "204 17 0.00582283\n",
            "204 18 2.1643879e-07\n",
            "204 19 0.0006451799\n"
          ],
          "name": "stdout"
        },
        {
          "output_type": "stream",
          "text": [
            "\r  5%|▌         | 205/4000 [13:10<4:00:45,  3.81s/it]"
          ],
          "name": "stderr"
        },
        {
          "output_type": "stream",
          "text": [
            "204 20 6.4852934e-06\n",
            "204 maxLoss=0.5096109509468079\n",
            "205 0 0.5094422\n",
            "205 1 1.18774786e-07\n",
            "205 2 0.0005281932\n",
            "205 3 0.052544862\n",
            "205 4 3.9636743e-09\n",
            "205 5 0.0002898527\n",
            "205 6 7.147614e-05\n",
            "205 7 3.9633408e-09\n",
            "205 8 0.019328175\n",
            "205 9 2.3852583e-06\n",
            "205 10 5.9125838e-09\n",
            "205 11 0.0002372881\n",
            "205 12 9.776715e-10\n",
            "205 13 9.722377e-08\n",
            "205 14 1.7810545e-09\n",
            "205 15 1.1940199e-09\n",
            "205 16 2.9131695e-06\n",
            "205 17 0.005820855\n",
            "205 18 2.1636833e-07\n"
          ],
          "name": "stdout"
        },
        {
          "output_type": "stream",
          "text": [
            "\r  5%|▌         | 206/4000 [13:15<4:14:30,  4.02s/it]"
          ],
          "name": "stderr"
        },
        {
          "output_type": "stream",
          "text": [
            "205 19 0.0006449702\n",
            "205 20 6.4831374e-06\n",
            "205 maxLoss=0.5094422101974487\n",
            "206 0 0.5092816\n",
            "206 1 1.1873787e-07\n",
            "206 2 0.00052802044\n",
            "206 3 0.052527267\n",
            "206 4 3.962394e-09\n",
            "206 5 0.00028975742\n",
            "206 6 7.145196e-05\n",
            "206 7 3.9620867e-09\n",
            "206 8 0.019321982\n",
            "206 9 2.384466e-06\n",
            "206 10 5.9106147e-09\n",
            "206 11 0.00023720751\n",
            "206 12 9.773454e-10\n",
            "206 13 9.7192576e-08\n",
            "206 14 1.7804345e-09\n",
            "206 15 1.1936273e-09\n",
            "206 16 2.9121636e-06\n",
            "206 17 0.005818974\n",
            "206 18 2.1629533e-07\n",
            "206 19 0.00064475404\n"
          ],
          "name": "stdout"
        },
        {
          "output_type": "stream",
          "text": [
            "\r  5%|▌         | 207/4000 [13:18<4:05:35,  3.88s/it]"
          ],
          "name": "stderr"
        },
        {
          "output_type": "stream",
          "text": [
            "206 20 6.4810474e-06\n",
            "206 maxLoss=0.509281575679779\n",
            "207 0 0.50910544\n",
            "207 1 1.1869713e-07\n",
            "207 2 0.00052784325\n",
            "207 3 0.05250973\n",
            "207 4 3.961061e-09\n",
            "207 5 0.0002896573\n",
            "207 6 7.1428214e-05\n",
            "207 7 3.960713e-09\n",
            "207 8 0.019315263\n",
            "207 9 2.383664e-06\n",
            "207 10 5.9086216e-09\n",
            "207 11 0.00023712667\n",
            "207 12 9.770116e-10\n",
            "207 13 9.7158804e-08\n",
            "207 14 1.7798456e-09\n",
            "207 15 1.193236e-09\n",
            "207 16 2.9111893e-06\n",
            "207 17 0.005816979\n",
            "207 18 2.1622179e-07\n"
          ],
          "name": "stdout"
        },
        {
          "output_type": "stream",
          "text": [
            "\r  5%|▌         | 208/4000 [13:23<4:13:31,  4.01s/it]"
          ],
          "name": "stderr"
        },
        {
          "output_type": "stream",
          "text": [
            "207 19 0.0006445252\n",
            "207 20 6.478784e-06\n",
            "207 maxLoss=0.5091054439544678\n",
            "208 0 0.5089315\n",
            "208 1 1.1865614e-07\n",
            "208 2 0.0005276621\n",
            "208 3 0.052491624\n",
            "208 4 3.9597445e-09\n",
            "208 5 0.0002895592\n",
            "208 6 7.140353e-05\n",
            "208 7 3.9594097e-09\n",
            "208 8 0.019308647\n",
            "208 9 2.3828213e-06\n",
            "208 10 5.9065663e-09\n",
            "208 11 0.00023704811\n",
            "208 12 9.766732e-10\n",
            "208 13 9.7125984e-08\n",
            "208 14 1.7792396e-09\n",
            "208 15 1.1928109e-09\n",
            "208 16 2.9101861e-06\n",
            "208 17 0.0058149933\n",
            "208 18 2.1614593e-07\n",
            "208 19 0.0006443129\n"
          ],
          "name": "stdout"
        },
        {
          "output_type": "stream",
          "text": [
            "\r  5%|▌         | 209/4000 [13:27<4:14:06,  4.02s/it]"
          ],
          "name": "stderr"
        },
        {
          "output_type": "stream",
          "text": [
            "208 20 6.476492e-06\n",
            "208 maxLoss=0.5089315176010132\n",
            "209 0 0.50875837\n",
            "209 1 1.1861501e-07\n",
            "209 2 0.0005274726\n",
            "209 3 0.052473553\n",
            "209 4 3.9583172e-09\n",
            "209 5 0.00028945904\n",
            "209 6 7.137917e-05\n",
            "209 7 3.958005e-09\n",
            "209 8 0.019302001\n",
            "209 9 2.381979e-06\n",
            "209 10 5.9045298e-09\n",
            "209 11 0.00023696307\n",
            "209 12 9.763325e-10\n",
            "209 13 9.7090926e-08\n",
            "209 14 1.7785984e-09\n",
            "209 15 1.1923964e-09\n",
            "209 16 2.9091677e-06\n",
            "209 17 0.005813037\n",
            "209 18 2.1607113e-07\n"
          ],
          "name": "stdout"
        },
        {
          "output_type": "stream",
          "text": [
            "\r  5%|▌         | 210/4000 [13:30<3:51:50,  3.67s/it]"
          ],
          "name": "stderr"
        },
        {
          "output_type": "stream",
          "text": [
            "209 19 0.0006440853\n",
            "209 20 6.4742712e-06\n",
            "209 maxLoss=0.5087583661079407\n",
            "210 0 0.5085819\n",
            "210 1 1.1857435e-07\n",
            "210 2 0.00052728766\n",
            "210 3 0.052454736\n",
            "210 4 3.956948e-09\n",
            "210 5 0.0002893562\n",
            "210 6 7.135358e-05\n",
            "210 7 3.9565995e-09\n",
            "210 8 0.019295165\n",
            "210 9 2.381161e-06\n",
            "210 10 5.9024208e-09\n",
            "210 11 0.00023687656\n",
            "210 12 9.759826e-10\n",
            "210 13 9.705743e-08\n",
            "210 14 1.7779799e-09\n",
            "210 15 1.1919694e-09\n",
            "210 16 2.908121e-06\n",
            "210 17 0.0058108694\n",
            "210 18 2.1599571e-07\n"
          ],
          "name": "stdout"
        },
        {
          "output_type": "stream",
          "text": [
            "\r  5%|▌         | 211/4000 [13:34<4:00:54,  3.81s/it]"
          ],
          "name": "stderr"
        },
        {
          "output_type": "stream",
          "text": [
            "210 19 0.0006438621\n",
            "210 20 6.47197e-06\n",
            "210 maxLoss=0.5085818767547607\n",
            "211 0 0.5083956\n",
            "211 1 1.1853113e-07\n",
            "211 2 0.00052710215\n",
            "211 3 0.052436147\n",
            "211 4 3.9555075e-09\n",
            "211 5 0.00028925095\n",
            "211 6 7.1328424e-05\n",
            "211 7 3.955196e-09\n",
            "211 8 0.019288037\n",
            "211 9 2.3803027e-06\n",
            "211 10 5.900282e-09\n",
            "211 11 0.0002367934\n",
            "211 12 9.756311e-10\n",
            "211 13 9.7022124e-08\n",
            "211 14 1.7773347e-09\n",
            "211 15 1.19154e-09\n",
            "211 16 2.9070802e-06\n",
            "211 17 0.0058088233\n",
            "211 18 2.1591595e-07\n",
            "211 19 0.00064362225\n"
          ],
          "name": "stdout"
        },
        {
          "output_type": "stream",
          "text": [
            "\r  5%|▌         | 212/4000 [13:37<3:54:00,  3.71s/it]"
          ],
          "name": "stderr"
        },
        {
          "output_type": "stream",
          "text": [
            "211 20 6.4696333e-06\n",
            "211 maxLoss=0.5083956122398376\n",
            "212 0 0.5082082\n",
            "212 1 1.18488934e-07\n",
            "212 2 0.00052691466\n",
            "212 3 0.052417368\n",
            "212 4 3.9540224e-09\n",
            "212 5 0.00028914696\n",
            "212 6 7.1302835e-05\n",
            "212 7 3.9537476e-09\n",
            "212 8 0.019281004\n",
            "212 9 2.3794348e-06\n",
            "212 10 5.89812e-09\n",
            "212 11 0.00023670754\n",
            "212 12 9.752696e-10\n",
            "212 13 9.698637e-08\n",
            "212 14 1.776665e-09\n",
            "212 15 1.19111e-09\n",
            "212 16 2.9060004e-06\n",
            "212 17 0.005806592\n",
            "212 18 2.1583756e-07\n"
          ],
          "name": "stdout"
        },
        {
          "output_type": "stream",
          "text": [
            "\r  5%|▌         | 213/4000 [13:41<3:52:13,  3.68s/it]"
          ],
          "name": "stderr"
        },
        {
          "output_type": "stream",
          "text": [
            "212 19 0.0006433917\n",
            "212 20 6.467245e-06\n",
            "212 maxLoss=0.5082082152366638\n",
            "213 0 0.50802153\n",
            "213 1 1.1844435e-07\n",
            "213 2 0.0005267187\n",
            "213 3 0.05239796\n",
            "213 4 3.9525965e-09\n",
            "213 5 0.00028904108\n",
            "213 6 7.1275244e-05\n",
            "213 7 3.9522474e-09\n",
            "213 8 0.019274581\n",
            "213 9 2.3786495e-06\n",
            "213 10 5.8963505e-09\n",
            "213 11 0.00023663636\n",
            "213 12 9.750107e-10\n",
            "213 13 9.6959035e-08\n",
            "213 14 1.7762402e-09\n",
            "213 15 1.1907977e-09\n",
            "213 16 2.905301e-06\n",
            "213 17 0.0058052586\n",
            "213 18 2.1578933e-07\n"
          ],
          "name": "stdout"
        },
        {
          "output_type": "stream",
          "text": [
            "\r  5%|▌         | 214/4000 [13:45<4:04:58,  3.88s/it]"
          ],
          "name": "stderr"
        },
        {
          "output_type": "stream",
          "text": [
            "213 19 0.0006432413\n",
            "213 20 6.465863e-06\n",
            "213 maxLoss=0.5080215334892273\n",
            "214 0 0.50791806\n",
            "214 1 1.18428694e-07\n",
            "214 2 0.0005266433\n",
            "214 3 0.052392893\n",
            "214 4 3.9522585e-09\n",
            "214 5 0.0002890299\n",
            "214 6 7.1273054e-05\n",
            "214 7 3.9523065e-09\n",
            "214 8 0.01927402\n",
            "214 9 2.3786179e-06\n",
            "214 10 5.896203e-09\n",
            "214 11 0.00023663616\n",
            "214 12 9.749758e-10\n",
            "214 13 9.695878e-08\n",
            "214 14 1.7761801e-09\n",
            "214 15 1.1907904e-09\n",
            "214 16 2.9052328e-06\n",
            "214 17 0.0058052256\n",
            "214 18 2.1578444e-07\n"
          ],
          "name": "stdout"
        },
        {
          "output_type": "stream",
          "text": [
            "\r  5%|▌         | 215/4000 [13:48<3:48:01,  3.61s/it]"
          ],
          "name": "stderr"
        },
        {
          "output_type": "stream",
          "text": [
            "214 19 0.00064324273\n",
            "214 20 6.4657465e-06\n",
            "214 maxLoss=0.5079180598258972\n",
            "215 0 0.50791717\n",
            "215 1 1.1842648e-07\n",
            "215 2 0.00052663335\n",
            "215 3 0.052392352\n",
            "215 4 3.9522092e-09\n",
            "215 5 0.0002890204\n",
            "215 6 7.127161e-05\n",
            "215 7 3.9521795e-09\n",
            "215 8 0.019273506\n",
            "215 9 2.3785633e-06\n",
            "215 10 5.896058e-09\n",
            "215 11 0.00023662928\n",
            "215 12 9.749525e-10\n",
            "215 13 9.695648e-08\n",
            "215 14 1.7761472e-09\n",
            "215 15 1.1907514e-09\n",
            "215 16 2.9051819e-06\n",
            "215 17 0.00580511\n",
            "215 18 2.1577792e-07\n"
          ],
          "name": "stdout"
        },
        {
          "output_type": "stream",
          "text": [
            "\r  5%|▌         | 216/4000 [13:53<4:04:41,  3.88s/it]"
          ],
          "name": "stderr"
        },
        {
          "output_type": "stream",
          "text": [
            "215 19 0.00064321776\n",
            "215 20 6.4655555e-06\n",
            "215 maxLoss=0.5079171657562256\n",
            "216 0 0.50789773\n",
            "216 1 1.1842348e-07\n",
            "216 2 0.0005266195\n",
            "216 3 0.052391086\n",
            "216 4 3.952088e-09\n",
            "216 5 0.0002890173\n",
            "216 6 7.1270406e-05\n",
            "216 7 3.9520587e-09\n",
            "216 8 0.019272897\n",
            "216 9 2.3785153e-06\n",
            "216 10 5.895873e-09\n",
            "216 11 0.00023662273\n",
            "216 12 9.749241e-10\n",
            "216 13 9.6954e-08\n",
            "216 14 1.7760833e-09\n",
            "216 15 1.1907453e-09\n",
            "216 16 2.905093e-06\n",
            "216 17 0.005804911\n",
            "216 18 2.1577398e-07\n"
          ],
          "name": "stdout"
        },
        {
          "output_type": "stream",
          "text": [
            "\r  5%|▌         | 217/4000 [13:57<4:05:24,  3.89s/it]"
          ],
          "name": "stderr"
        },
        {
          "output_type": "stream",
          "text": [
            "216 19 0.00064320845\n",
            "216 20 6.465427e-06\n",
            "216 maxLoss=0.5078977346420288\n",
            "217 0 0.50789136\n",
            "217 1 1.1842019e-07\n",
            "217 2 0.00052660855\n",
            "217 3 0.052389536\n",
            "217 4 3.9520067e-09\n",
            "217 5 0.00028901064\n",
            "217 6 7.1268194e-05\n",
            "217 7 3.9520454e-09\n",
            "217 8 0.019272598\n",
            "217 9 2.3784755e-06\n",
            "217 10 5.895823e-09\n",
            "217 11 0.00023662008\n",
            "217 12 9.749079e-10\n",
            "217 13 9.695261e-08\n",
            "217 14 1.7760542e-09\n",
            "217 15 1.1907071e-09\n",
            "217 16 2.9050364e-06\n",
            "217 17 0.005804789\n",
            "217 18 2.1576908e-07\n"
          ],
          "name": "stdout"
        },
        {
          "output_type": "stream",
          "text": [
            "\r  5%|▌         | 218/4000 [14:00<3:57:37,  3.77s/it]"
          ],
          "name": "stderr"
        },
        {
          "output_type": "stream",
          "text": [
            "217 19 0.0006431896\n",
            "217 20 6.4652168e-06\n",
            "217 maxLoss=0.5078913569450378\n",
            "218 0 0.5078762\n",
            "218 1 1.1841656e-07\n",
            "218 2 0.0005265897\n",
            "218 3 0.052388195\n",
            "218 4 3.951934e-09\n",
            "218 5 0.0002890013\n",
            "218 6 7.126631e-05\n",
            "218 7 3.9519685e-09\n",
            "218 8 0.019272253\n",
            "218 9 2.3784155e-06\n",
            "218 10 5.895587e-09\n",
            "218 11 0.00023661095\n",
            "218 12 9.748854e-10\n",
            "218 13 9.6949066e-08\n",
            "218 14 1.7760178e-09\n",
            "218 15 1.1906752e-09\n",
            "218 16 2.9049363e-06\n"
          ],
          "name": "stdout"
        }
      ]
    },
    {
      "cell_type": "code",
      "metadata": {
        "id": "26kDv2M3HQwc"
      },
      "source": [
        "print(len(ParamsList))\n",
        "print(len(LossList))\n",
        "#import pickle\n",
        "#with open('/content/drive/MyDrive/Colab Notebooks/RINN-master/Lorenz_63/LearnedParameters/ParamsList_checked', 'wb') as f1:\n",
        "    # pickle.dump(ParamsList,f1)\n",
        "#with open('/content/drive/MyDrive/Colab Notebooks/RINN-master/Lorenz_63/LearnedParameters/LossList_checked', 'wb') as f2:\n",
        "   #  pickle.dump(LossList,f2)  \n",
        "\n",
        "\n"
      ],
      "execution_count": null,
      "outputs": []
    },
    {
      "cell_type": "code",
      "metadata": {
        "id": "RQjAPClTBA4B",
        "outputId": "d64da151-3ccb-41df-e46f-613812434ab4"
      },
      "source": [
        "\n",
        "torch.save(modelRINN.state_dict(), '/content/drive/MyDrive/Colab Notebooks/RINN-master/Implicit_On_Linear_Stiff.pt')\n",
        "\n",
        " "
      ],
      "execution_count": null,
      "outputs": [
        {
          "output_type": "error",
          "ename": "NameError",
          "evalue": "name 'modelRINN' is not defined",
          "traceback": [
            "\u001b[0;31m---------------------------------------------------------------------------\u001b[0m",
            "\u001b[0;31mNameError\u001b[0m                                 Traceback (most recent call last)",
            "\u001b[0;32m<ipython-input-13-b3ef76c318b0>\u001b[0m in \u001b[0;36m<module>\u001b[0;34m\u001b[0m\n\u001b[0;32m----> 1\u001b[0;31m \u001b[0mtorch\u001b[0m\u001b[0;34m.\u001b[0m\u001b[0msave\u001b[0m\u001b[0;34m(\u001b[0m\u001b[0mmodelRINN\u001b[0m\u001b[0;34m.\u001b[0m\u001b[0mstate_dict\u001b[0m\u001b[0;34m(\u001b[0m\u001b[0;34m)\u001b[0m\u001b[0;34m,\u001b[0m \u001b[0;34m'/content/drive/MyDrive/Colab Notebooks/RINN-master/Implicit_On_Linear_Stiff.pt'\u001b[0m\u001b[0;34m)\u001b[0m\u001b[0;34m\u001b[0m\u001b[0;34m\u001b[0m\u001b[0m\n\u001b[0m\u001b[1;32m      2\u001b[0m \u001b[0;34m\u001b[0m\u001b[0m\n\u001b[1;32m      3\u001b[0m \u001b[0;34m\u001b[0m\u001b[0m\n",
            "\u001b[0;31mNameError\u001b[0m: name 'modelRINN' is not defined"
          ]
        }
      ]
    },
    {
      "cell_type": "code",
      "metadata": {
        "colab": {
          "base_uri": "https://localhost:8080/"
        },
        "id": "aNMVKUyZHQwc",
        "outputId": "ee9e473e-24ae-4d8a-f006-63cf420ec1a9"
      },
      "source": [
        "modelRINN.b.sum()"
      ],
      "execution_count": null,
      "outputs": [
        {
          "output_type": "execute_result",
          "data": {
            "text/plain": [
              "tensor(1.0000, grad_fn=<SumBackward0>)"
            ]
          },
          "metadata": {
            "tags": []
          },
          "execution_count": 31
        }
      ]
    },
    {
      "cell_type": "code",
      "metadata": {
        "id": "VnNSoksZpheR"
      },
      "source": [
        "\n",
        "import pickle\n",
        "with open('/content/drive/MyDrive/Colab Notebooks/RINN-master/Lorenz_63/LearnedParameters/ParamsList_checked', 'rb') as f1:\n",
        "     ParamsList=pickle.load(f1)\n",
        "with open('/content/drive/MyDrive/Colab Notebooks/RINN-master/Lorenz_63/LearnedParameters/LossList_checked', 'rb') as f2:\n",
        "     LossList=pickle.load(f2)      "
      ],
      "execution_count": null,
      "outputs": []
    },
    {
      "cell_type": "code",
      "metadata": {
        "id": "J50UgmxveUW1"
      },
      "source": [
        "def pred(n):\n",
        "  #net=INT_net(params,params['order'])\n",
        "  #net.a=torch.nn.Parameter(ParamsList[n][0])\n",
        "  #net.b=torch.nn.Parameter(ParamsList[n][1])\n",
        "  #net.c=torch.nn.Parameter(ParamsList[n][2])\n",
        "  nb_steps_pred = 100\n",
        "  t_pred = nb_steps_pred * GD.dt_integration\n",
        "  y_pred_init=np.zeros((nb_steps_pred,params['dim_output']))\n",
        "  tmp = np.reshape(X_train[0,0,:],(1,params['dim_output']))\n",
        "  tmp = Variable(torch.from_numpy(tmp).float())\n",
        "  y_pred_init[0,:] = X_train[0,0,:]\n",
        "  for i in range(1,nb_steps_pred):\n",
        "      tmp.requires_grad = True\n",
        "      y_pred_init[i,:] = modelRINN(tmp,params['dt_integration'],params['order'])[0].data.numpy()\n",
        "      tmp = Variable(torch.from_numpy(np.reshape(y_pred_init[i,:] ,(1,params['dim_output']))).float())\n",
        "  return y_pred_init\n",
        "\n",
        "Prediction=pred(100)\n",
        "#plt.plot(pred(2000))"
      ],
      "execution_count": null,
      "outputs": []
    },
    {
      "cell_type": "code",
      "metadata": {
        "id": "6suCpF3efPWG"
      },
      "source": [
        "import numpy as np\n",
        "from tqdm import tqdm\n",
        "length_h = 1000\n",
        "import matplotlib as mpl\n",
        "import matplotlib.pyplot as plt\n",
        "plt.rcParams[\"mathtext.fontset\"] = \"cm\"\n",
        "import matplotlib.pyplot as plt\n",
        "plt.rcParams.update({'font.size': 42})\n",
        "plt.rcParams.update({\n",
        "    \"text.usetex\": True,\n",
        "    \"font.family\": \"sans-serif\",\n",
        "    \"font.sans-serif\": [\"Helvetica\"]})\n",
        "## for Palatino and other serif fonts use:\n",
        "plt.rcParams.update({\n",
        "    \"text.usetex\": True,\n",
        "    \"font.family\": \"serif\",\n",
        "     \"font.sans-serif\": [\"Helvetica\"]})\n",
        "plt.rcParams['axes.titlepad'] = 20 \n",
        "import matplotlib.cm as cm\n",
        "plt.rcParams['axes.labelpad'] = 30\n",
        "\n",
        "\n",
        "\n",
        "\n",
        "\n",
        "plt.figure(figsize=(10,10))\n",
        "plt.plot(Prediction[:,0],color='orange',label=r'$x(t)$')\n",
        "plt.plot(Prediction[:,1],color='darkred',label=r'$y(t)$')\n",
        "plt.xlabel(r'$t$')\n",
        "plt.ylabel(r'$x(t),y(t)$')\n",
        "plt.legend(loc='best')\n",
        "plt.tight_layout()\n",
        "plt.title('Prediction')\n",
        "plt.savefig('stiffSystemInt_pred.pdf',dpi=300,bbox_inches='tight')\n",
        "\n",
        "plt.figure(figsize=(10,10))\n",
        "plt.plot(LossList,color='dodgerblue')\n",
        "plt.xlabel(r'$\\mathrm{epochs}$')\n",
        "plt.ylabel(r'$MSE$ (in log scale)')\n",
        "plt.legend(loc='best')\n",
        "plt.tight_layout()\n",
        "plt.title('Mean squared error')\n",
        "plt.yscale('log')\n",
        "plt.savefig('stiffSystemInt_MSE.pdf',dpi=300,bbox_inches='tight')\n"
      ],
      "execution_count": null,
      "outputs": []
    },
    {
      "cell_type": "code",
      "metadata": {
        "id": "FZMqpwmaSWAj"
      },
      "source": [
        "\n",
        "\n",
        "def plt_u_0(n):\n",
        "    Y=pred(n)\n",
        "    plt.figure(figsize=(14,10))\n",
        "    plt.subplot(221)\n",
        "    plt.title(r'Résultats pour $t={},\\rho={}$'.format(n,params['lr']),fontsize=15)\n",
        "    plt.ylabel(r\"$\\hat{X_i}(t)$ et $X_i(t)$\", fontsize=15)\n",
        "    plt.xlabel(r'$t$',fontsize=15)\n",
        "    plt.plot(S[:50,0],color='blue',label=r'$X_1(t)$ (odeint)',linestyle='--')\n",
        "    plt.plot(S[:50,1],color='red',label=r'$X_2(t)$ (odeint)',linestyle='--')\n",
        "    plt.plot(Y[:50,0],color='blue',label=r'$\\hat{X}_1(t)$ (RINN)')\n",
        "    plt.plot(Y[:50,1],color='red',label=r'$\\hat{X}_2(t)$ (RINN)')\n",
        "    plt.legend(loc='best')\n",
        "    plt.subplot(222)\n",
        "    plt.ylabel(r\"$max(MSE)$\", fontsize=15)\n",
        "    plt.xlabel(r'$n$',fontsize=15)\n",
        "  \n",
        "    plt.plot(np.linspace(0,len(LossList),len(LossList)),LossList,color='blue',label=r'$max(MSE)$',linewidth=0.5)\n",
        "    plt.scatter(n,LossList[n],color='red',label=r'Erreur actuelle ($n={}$)'.format(n))\n",
        "    plt.legend(loc='best')\n",
        "    plt.ylim(0,LossList[n]*10)\n",
        "    plt.title(\"Erreur (zoom)\",fontsize=15)\n",
        "    plt.subplot(223)\n",
        "    plt.plot(X_train[0,:,0],X_train[0,:,1],label=r'Portrait de phase odeint $X_2(t)=f(X_1(t))$',color='orange',linestyle='--')\n",
        "    plt.plot(Y[:,0],Y[:,1],label=r'Portrait de phase RINN $\\hat{X}_2(t)=f(\\hat{X}_1(t))$',color='brown')\n",
        "    plt.xlabel(r'$\\hat{X}_1(t)$ et $X_1(t)$',fontsize=15)\n",
        "    plt.ylabel(r'$\\hat{X}_2(t)$ et $X_2(t)$',fontsize=15)\n",
        "    plt.legend(loc='best')\n",
        "    plt.subplot(224)\n",
        "    plt.ylabel(r\"$max(MSE)$\", fontsize=15)\n",
        "    plt.xlabel(r'$n$',fontsize=15)\n",
        "    plt.ylim(0,100)\n",
        "    plt.plot(np.linspace(0,len(LossList),len(LossList)),LossList,color='blue',label=r'$max(MSE)$',linewidth=0.5)\n",
        "    plt.scatter(n,LossList[n],color='red',label=r'Erreur actuelle ($n={}$)'.format(n))\n",
        "    plt.legend(loc='best')\n",
        "    plt.savefig('/content/drive/MyDrive/Colab Notebooks/RINN-master/graphes/resultsRINN',dpi=300)"
      ],
      "execution_count": null,
      "outputs": []
    },
    {
      "cell_type": "code",
      "metadata": {
        "id": "apXpcBmuSddy"
      },
      "source": [
        "interact_manual(plt_u_0, n=(0,len(LossList)-1))"
      ],
      "execution_count": null,
      "outputs": []
    },
    {
      "cell_type": "code",
      "metadata": {
        "id": "Bp90nI6AHQwc"
      },
      "source": [
        "y=pred(len(LossList)-1)\n",
        "plt.figure(figsize=(25,10))\n",
        "plt.subplot(121)\n",
        "plt.plot(X_train[0,:,0],color='blue',label=r'$X_1(t)$',linestyle='--')\n",
        "plt.plot(X_train[0,:,1],color='red',label=r'$X_2(t)$',linestyle='--')\n",
        "plt.plot(y[:,0],color='b')\n",
        "plt.plot(y[:,1],color='b')\n",
        "plt.xlabel(r'$t$')\n",
        "plt.ylabel(r'$X_1(t),X_2(t)$')\n",
        "plt.legend(loc='best')\n",
        "plt.subplot(122)\n",
        "plt.plot(X_train[0,:,0],X_train[0,:,1],label=r'$X_2(t)=f(X_1(t))$',color='orange',linestyle='--')\n",
        "plt.plot(y[:,0],y[:,1],label=r'$X_2(t)=f(X_1(t))$',color='brown')\n",
        "plt.xlabel(r'$X_1(t)$')\n",
        "plt.ylabel(r'$X_2(t)$')\n",
        "plt.legend(loc='best')\n",
        "plt.savefig('/content/drive/MyDrive/Colab Notebooks/RINN-master/graphes/VDO_solution_RINN',dpi=300)"
      ],
      "execution_count": null,
      "outputs": []
    },
    {
      "cell_type": "code",
      "metadata": {
        "id": "rVcz2NMDHQwd"
      },
      "source": [
        "rz = np.arange(-10,10,0.1)\n",
        "iz = np.arange(-10,10,0.1)\n",
        "rz, iz = np.meshgrid(rz,iz)\n",
        "z  = rz+iz*1.j\n",
        "print(z)\n",
        "\n",
        "\n",
        "a=modelRINN.a.detach().clone().data.numpy()[0,:,:]\n",
        "b=modelRINN.b.detach().clone().data.numpy()[0,:]\n",
        "c=modelRINN.c.detach().clone().data.numpy()[0,:]"
      ],
      "execution_count": null,
      "outputs": []
    },
    {
      "cell_type": "code",
      "metadata": {
        "id": "6S6-FkryCRrm"
      },
      "source": [
        "#import pickle\n",
        "\n",
        "#with open('/content/drive/MyDrive/Colab Notebooks/RINN-master/Lorenz_63/LearnedParameters/ParamsList', 'rb') as f1:\n",
        "     #ParamsListSaved=pickle.load(f1)\n",
        "#LastParams=ParamsListSaved[-1]\n",
        "#print(ParamsListSaved)\n",
        "#a=LastParams.a.detach().clone().data.numpy()[0,:,:]\n",
        "#b=LastParams.b.detach().clone().data.numpy()[0,:]\n",
        "#c=LastParams.c.detach().clone().data.numpy()[0,:]\n"
      ],
      "execution_count": null,
      "outputs": []
    },
    {
      "cell_type": "code",
      "metadata": {
        "id": "zGrB4pWoHQwd"
      },
      "source": [
        "import sympy as sp\n",
        "lamh = sp.symbols('h\\lambda')\n",
        "b = sp.Matrix(b)\n",
        "\n",
        "from tqdm import tqdm\n",
        "import pickle"
      ],
      "execution_count": null,
      "outputs": []
    },
    {
      "cell_type": "code",
      "metadata": {
        "id": "girWtBk7HQwd"
      },
      "source": [
        "ones_b = sp.ones(b.shape[0])[:,0]\n"
      ],
      "execution_count": null,
      "outputs": []
    },
    {
      "cell_type": "code",
      "metadata": {
        "id": "zin1BQDfp00S"
      },
      "source": [
        "!pip install -q latextable"
      ],
      "execution_count": null,
      "outputs": []
    },
    {
      "cell_type": "code",
      "metadata": {
        "id": "berftV2yp00S",
        "outputId": "c9e9a435-8b4a-4eaf-c0fa-72d0764a9bd0"
      },
      "source": [
        "print(c)\n",
        "from tabulate import tabulate\n",
        "from texttable import Texttable\n",
        "\n",
        "import latextable\n",
        "\n",
        "rows = a\n",
        "\n",
        "table = Texttable()\n",
        "table.set_cols_align([\"c\"] * 4)\n",
        "table.set_deco(Texttable.HEADER | Texttable.VLINES)\n",
        "table.add_rows(rows)\n",
        "\n",
        "\n",
        "\n",
        "print('\\nTabulate Latex:')\n",
        "print(tabulate(rows, headers='firstrow', tablefmt='latex'))\n",
        "\n"
      ],
      "execution_count": null,
      "outputs": [
        {
          "output_type": "stream",
          "text": [
            "[0.         0.20284419 0.5182793  1.        ]\n"
          ],
          "name": "stdout"
        },
        {
          "output_type": "error",
          "ename": "ModuleNotFoundError",
          "evalue": "No module named 'tabulate'",
          "traceback": [
            "\u001b[0;31m---------------------------------------------------------------------------\u001b[0m",
            "\u001b[0;31mModuleNotFoundError\u001b[0m                       Traceback (most recent call last)",
            "\u001b[0;32m<ipython-input-190-f908a5388475>\u001b[0m in \u001b[0;36m<module>\u001b[0;34m\u001b[0m\n\u001b[1;32m      1\u001b[0m \u001b[0mprint\u001b[0m\u001b[0;34m(\u001b[0m\u001b[0mc\u001b[0m\u001b[0;34m)\u001b[0m\u001b[0;34m\u001b[0m\u001b[0;34m\u001b[0m\u001b[0m\n\u001b[0;32m----> 2\u001b[0;31m \u001b[0;32mfrom\u001b[0m \u001b[0mtabulate\u001b[0m \u001b[0;32mimport\u001b[0m \u001b[0mtabulate\u001b[0m\u001b[0;34m\u001b[0m\u001b[0;34m\u001b[0m\u001b[0m\n\u001b[0m\u001b[1;32m      3\u001b[0m \u001b[0;32mfrom\u001b[0m \u001b[0mtexttable\u001b[0m \u001b[0;32mimport\u001b[0m \u001b[0mTexttable\u001b[0m\u001b[0;34m\u001b[0m\u001b[0;34m\u001b[0m\u001b[0m\n\u001b[1;32m      4\u001b[0m \u001b[0;34m\u001b[0m\u001b[0m\n\u001b[1;32m      5\u001b[0m \u001b[0;32mimport\u001b[0m \u001b[0mlatextable\u001b[0m\u001b[0;34m\u001b[0m\u001b[0;34m\u001b[0m\u001b[0m\n",
            "\u001b[0;31mModuleNotFoundError\u001b[0m: No module named 'tabulate'"
          ]
        }
      ]
    },
    {
      "cell_type": "code",
      "metadata": {
        "id": "i-8qZJ2EHQwd"
      },
      "source": [
        "#Implicit RINN\n",
        "\n",
        "\n",
        "GRINN = np.zeros_like(z)*np.nan\n",
        "list_x = []\n",
        "list_y = []\n",
        "\n",
        "GRINNImShow=np.zeros((rz.shape[0],iz.shape[0]),dtype=np.complex)*np.nan\n",
        "\n",
        "\n",
        "\n",
        "from tqdm import tqdm\n",
        "GRINN = np.zeros_like(z)*np.nan\n",
        "list_g = []\n",
        "list_x = []\n",
        "list_y = []\n",
        "for i in tqdm(range(z.shape[0])):\n",
        "    for j in range(z.shape[1]):\n",
        "        tmp = 1+z[i,j]*np.dot(np.dot(b.T,np.linalg.inv(np.eye(a.shape[0])-z[i,j]*a)),np.ones_like(b))\n",
        "        if np.abs(tmp)<1:\n",
        "            GRINN[i,j] = 1+z[i,j]*np.dot(np.dot(b.T,np.linalg.inv(np.eye(a.shape[0])-z[i,j]*a)),np.ones_like(b))\n",
        "            list_g.append(GRINN[i,j].real)\n",
        "            list_x.append(z[i,j].real)\n",
        "            list_y.append(z[i,j].imag)\n"
      ],
      "execution_count": null,
      "outputs": []
    },
    {
      "cell_type": "code",
      "metadata": {
        "id": "ix9oYimKUD29"
      },
      "source": [
        "import pickle\n",
        "\n",
        "with open('/content/drive/MyDrive/Colab Notebooks/RINN-master/Lorenz_63/LearnedParameters/list_x', 'wb') as f1:\n",
        "     pickle.dump(list_x,f1)\n",
        "\n",
        "with open('/content/drive/MyDrive/Colab Notebooks/RINN-master/Lorenz_63/LearnedParameters/list_y', 'wb') as f2:\n",
        "     pickle.dump(list_y,f2)\n",
        "\n",
        "with open('/content/drive/MyDrive/Colab Notebooks/RINN-master/Lorenz_63/LearnedParameters/list_g', 'wb') as f3:\n",
        "     pickle.dump(list_g,f3)\n",
        "\n",
        "with open('/content/drive/MyDrive/Colab Notebooks/RINN-master/Lorenz_63/LearnedParameters/list_gImShow', 'wb') as f4:\n",
        "     pickle.dump(GRINN,f4)"
      ],
      "execution_count": null,
      "outputs": []
    },
    {
      "cell_type": "code",
      "metadata": {
        "id": "cMWOaOljm33Q",
        "outputId": "05cc4e15-a57b-43a0-db08-a20e1572fde2"
      },
      "source": [
        "import pickle\n",
        "\n",
        "with open('/content/drive/MyDrive/Colab Notebooks/RINN-master/Lorenz_63/LearnedParameters/list_g', 'rb') as f1:\n",
        "     list_g=pickle.load(f1)\n",
        "\n",
        "with open('/content/drive/MyDrive/Colab Notebooks/RINN-master/Lorenz_63/LearnedParameters/list_x', 'rb') as f1:\n",
        "     list_x=pickle.load(f1)\n",
        "\n",
        "with open('/content/drive/MyDrive/Colab Notebooks/RINN-master/Lorenz_63/LearnedParameters/list_y', 'rb') as f1:\n",
        "     list_y=pickle.load(f1)\n",
        "\n",
        "with open('/content/drive/MyDrive/Colab Notebooks/RINN-master/Lorenz_63/LearnedParameters/list_gImShow', 'rb') as f4:\n",
        "     list_g=pickle.load(f4)\n",
        "\n"
      ],
      "execution_count": null,
      "outputs": [
        {
          "output_type": "error",
          "ename": "FileNotFoundError",
          "evalue": "[Errno 2] No such file or directory: '/content/drive/MyDrive/Colab Notebooks/RINN-master/Lorenz_63/LearnedParameters/list_g'",
          "traceback": [
            "\u001b[0;31m---------------------------------------------------------------------------\u001b[0m",
            "\u001b[0;31mFileNotFoundError\u001b[0m                         Traceback (most recent call last)",
            "\u001b[0;32m<ipython-input-61-498998627477>\u001b[0m in \u001b[0;36m<module>\u001b[0;34m\u001b[0m\n\u001b[1;32m      1\u001b[0m \u001b[0;32mimport\u001b[0m \u001b[0mpickle\u001b[0m\u001b[0;34m\u001b[0m\u001b[0;34m\u001b[0m\u001b[0m\n\u001b[1;32m      2\u001b[0m \u001b[0;34m\u001b[0m\u001b[0m\n\u001b[0;32m----> 3\u001b[0;31m \u001b[0;32mwith\u001b[0m \u001b[0mopen\u001b[0m\u001b[0;34m(\u001b[0m\u001b[0;34m'/content/drive/MyDrive/Colab Notebooks/RINN-master/Lorenz_63/LearnedParameters/list_g'\u001b[0m\u001b[0;34m,\u001b[0m \u001b[0;34m'rb'\u001b[0m\u001b[0;34m)\u001b[0m \u001b[0;32mas\u001b[0m \u001b[0mf1\u001b[0m\u001b[0;34m:\u001b[0m\u001b[0;34m\u001b[0m\u001b[0;34m\u001b[0m\u001b[0m\n\u001b[0m\u001b[1;32m      4\u001b[0m      \u001b[0mlist_g\u001b[0m\u001b[0;34m=\u001b[0m\u001b[0mpickle\u001b[0m\u001b[0;34m.\u001b[0m\u001b[0mload\u001b[0m\u001b[0;34m(\u001b[0m\u001b[0mf1\u001b[0m\u001b[0;34m)\u001b[0m\u001b[0;34m\u001b[0m\u001b[0;34m\u001b[0m\u001b[0m\n\u001b[1;32m      5\u001b[0m \u001b[0;34m\u001b[0m\u001b[0m\n",
            "\u001b[0;31mFileNotFoundError\u001b[0m: [Errno 2] No such file or directory: '/content/drive/MyDrive/Colab Notebooks/RINN-master/Lorenz_63/LearnedParameters/list_g'"
          ]
        }
      ]
    },
    {
      "cell_type": "code",
      "metadata": {
        "colab": {
          "base_uri": "https://localhost:8080/"
        },
        "id": "B561R6ssdvMC",
        "outputId": "4354b8e6-d031-4b3d-e91d-208277c58a03"
      },
      "source": [
        "#Gain EULER\n",
        "\n",
        "GE = np.zeros_like(z)*np.nan\n",
        "list_gE = []\n",
        "list_xE = []\n",
        "list_yE = []\n",
        "for i in tqdm(range(z.shape[0])):\n",
        "    for j in range(z.shape[1]):\n",
        "        tmp = np.abs(1+z[i,j])\n",
        "        if tmp<1:\n",
        "            GE[i,j] = tmp\n",
        "            list_gE.append(GE[i,j].real)\n",
        "            list_xE.append(z[i,j].real)\n",
        "            list_yE.append(z[i,j].imag)\n",
        "\n",
        "with open('/content/drive/MyDrive/Colab Notebooks/RINN-master/Lorenz_63/LearnedParameters/list_xE', 'wb') as f1:\n",
        "     pickle.dump(list_xE,f1)\n",
        "\n",
        "with open('/content/drive/MyDrive/Colab Notebooks/RINN-master/Lorenz_63/LearnedParameters/list_yE', 'wb') as f2:\n",
        "     pickle.dump(list_yE,f2)\n",
        "\n",
        "with open('/content/drive/MyDrive/Colab Notebooks/RINN-master/Lorenz_63/LearnedParameters/list_gE', 'wb') as f3:\n",
        "     pickle.dump(list_gE,f3)"
      ],
      "execution_count": null,
      "outputs": [
        {
          "output_type": "stream",
          "text": [
            "\n",
            "\n",
            "\n",
            "  0%|          | 0/201 [00:00<?, ?it/s]\u001b[A\u001b[A\u001b[A\n",
            "\n",
            "\n",
            "100%|██████████| 201/201 [00:00<00:00, 1809.69it/s]\u001b[A\u001b[A\u001b[A\n"
          ],
          "name": "stderr"
        },
        {
          "output_type": "error",
          "ename": "FileNotFoundError",
          "evalue": "[Errno 2] No such file or directory: '/content/drive/MyDrive/Colab Notebooks/RINN-master/Lorenz_63/LearnedParameters/list_xE'",
          "traceback": [
            "\u001b[0;31m---------------------------------------------------------------------------\u001b[0m",
            "\u001b[0;31mFileNotFoundError\u001b[0m                         Traceback (most recent call last)",
            "\u001b[0;32m<ipython-input-123-6a1d3fbae926>\u001b[0m in \u001b[0;36m<module>\u001b[0;34m\u001b[0m\n\u001b[1;32m     14\u001b[0m             \u001b[0mlist_yE\u001b[0m\u001b[0;34m.\u001b[0m\u001b[0mappend\u001b[0m\u001b[0;34m(\u001b[0m\u001b[0mz\u001b[0m\u001b[0;34m[\u001b[0m\u001b[0mi\u001b[0m\u001b[0;34m,\u001b[0m\u001b[0mj\u001b[0m\u001b[0;34m]\u001b[0m\u001b[0;34m.\u001b[0m\u001b[0mimag\u001b[0m\u001b[0;34m)\u001b[0m\u001b[0;34m\u001b[0m\u001b[0;34m\u001b[0m\u001b[0m\n\u001b[1;32m     15\u001b[0m \u001b[0;34m\u001b[0m\u001b[0m\n\u001b[0;32m---> 16\u001b[0;31m \u001b[0;32mwith\u001b[0m \u001b[0mopen\u001b[0m\u001b[0;34m(\u001b[0m\u001b[0;34m'/content/drive/MyDrive/Colab Notebooks/RINN-master/Lorenz_63/LearnedParameters/list_xE'\u001b[0m\u001b[0;34m,\u001b[0m \u001b[0;34m'wb'\u001b[0m\u001b[0;34m)\u001b[0m \u001b[0;32mas\u001b[0m \u001b[0mf1\u001b[0m\u001b[0;34m:\u001b[0m\u001b[0;34m\u001b[0m\u001b[0;34m\u001b[0m\u001b[0m\n\u001b[0m\u001b[1;32m     17\u001b[0m      \u001b[0mpickle\u001b[0m\u001b[0;34m.\u001b[0m\u001b[0mdump\u001b[0m\u001b[0;34m(\u001b[0m\u001b[0mlist_xE\u001b[0m\u001b[0;34m,\u001b[0m\u001b[0mf1\u001b[0m\u001b[0;34m)\u001b[0m\u001b[0;34m\u001b[0m\u001b[0;34m\u001b[0m\u001b[0m\n\u001b[1;32m     18\u001b[0m \u001b[0;34m\u001b[0m\u001b[0m\n",
            "\u001b[0;31mFileNotFoundError\u001b[0m: [Errno 2] No such file or directory: '/content/drive/MyDrive/Colab Notebooks/RINN-master/Lorenz_63/LearnedParameters/list_xE'"
          ]
        }
      ]
    },
    {
      "cell_type": "code",
      "metadata": {
        "colab": {
          "base_uri": "https://localhost:8080/"
        },
        "id": "hw1CIM4Ldzw9",
        "outputId": "90fa1973-393f-4fdd-ad5c-3ee9835e3f66"
      },
      "source": [
        "#RK4\n",
        "from tqdm import tqdm\n",
        "GRK4 = np.zeros_like(z)*np.nan\n",
        "ark4 = np.array([[0,0,0,0],[1/2,0,0,0],[0,1/2,0,0],[0,0,1,0]])\n",
        "brk4 = np.array([1/6,1/3,1/3,1/6])\n",
        "\n",
        "list_gRK4 = []\n",
        "list_xRK4 = []\n",
        "list_yRK4 = []\n",
        "for i in tqdm(range(z.shape[0])):\n",
        "    for j in range(z.shape[1]):\n",
        "        tmp = np.abs(1+z[i,j]*np.dot(np.dot(brk4.T,np.linalg.inv(np.eye(ark4.shape[0])-z[i,j]*ark4)),np.ones_like(brk4)))\n",
        "        if tmp<1:\n",
        "            GRK4[i,j] = tmp\n",
        "            list_gRK4.append(GRK4[i,j].real)\n",
        "            list_xRK4.append(z[i,j].real)\n",
        "            list_yRK4.append(z[i,j].imag)\n",
        "\n",
        "with open('/Lorenz_63/LearnedParameters/list_gRK4', 'wb') as f1:\n",
        "     pickle.dump(list_gRK4,f1)\n",
        "\n",
        "with open('/Lorenz_63/LearnedParameters/list_xRK4', 'wb') as f2:\n",
        "     pickle.dump(list_xRK4,f2)\n",
        "\n",
        "with open('/Lorenz_63/LearnedParameters/list_YRK4', 'wb') as f3:\n",
        "     pickle.dump(list_yRK4,f3)"
      ],
      "execution_count": null,
      "outputs": [
        {
          "output_type": "stream",
          "text": [
            "\n",
            "\n",
            "\n",
            "  0%|          | 0/201 [00:00<?, ?it/s]\u001b[A\u001b[A\u001b[A\n",
            "\n",
            "\n",
            "  4%|▍         | 9/201 [00:00<00:02, 87.72it/s]\u001b[A\u001b[A\u001b[A\n",
            "\n",
            "\n",
            " 10%|▉         | 20/201 [00:00<00:01, 91.94it/s]\u001b[A\u001b[A\u001b[A\n",
            "\n",
            "\n",
            " 15%|█▌        | 31/201 [00:00<00:01, 96.27it/s]\u001b[A\u001b[A\u001b[A\n",
            "\n",
            "\n",
            " 21%|██        | 42/201 [00:00<00:01, 98.51it/s]\u001b[A\u001b[A\u001b[A\n",
            "\n",
            "\n",
            " 26%|██▋       | 53/201 [00:00<00:01, 99.66it/s]\u001b[A\u001b[A\u001b[A\n",
            "\n",
            "\n",
            " 31%|███▏      | 63/201 [00:00<00:01, 99.51it/s]\u001b[A\u001b[A\u001b[A\n",
            "\n",
            "\n",
            " 37%|███▋      | 74/201 [00:00<00:01, 102.04it/s]\u001b[A\u001b[A\u001b[A\n",
            "\n",
            "\n",
            " 42%|████▏     | 85/201 [00:00<00:01, 103.57it/s]\u001b[A\u001b[A\u001b[A\n",
            "\n",
            "\n",
            " 48%|████▊     | 96/201 [00:00<00:01, 103.90it/s]\u001b[A\u001b[A\u001b[A\n",
            "\n",
            "\n",
            " 53%|█████▎    | 107/201 [00:01<00:00, 103.86it/s]\u001b[A\u001b[A\u001b[A\n",
            "\n",
            "\n",
            " 59%|█████▊    | 118/201 [00:01<00:00, 105.52it/s]\u001b[A\u001b[A\u001b[A\n",
            "\n",
            "\n",
            " 64%|██████▍   | 129/201 [00:01<00:00, 105.75it/s]\u001b[A\u001b[A\u001b[A\n",
            "\n",
            "\n",
            " 70%|██████▉   | 140/201 [00:01<00:00, 103.17it/s]\u001b[A\u001b[A\u001b[A\n",
            "\n",
            "\n",
            " 75%|███████▌  | 151/201 [00:01<00:00, 104.90it/s]\u001b[A\u001b[A\u001b[A\n",
            "\n",
            "\n",
            " 81%|████████  | 162/201 [00:01<00:00, 105.12it/s]\u001b[A\u001b[A\u001b[A\n",
            "\n",
            "\n",
            " 86%|████████▌ | 173/201 [00:01<00:00, 104.56it/s]\u001b[A\u001b[A\u001b[A\n",
            "\n",
            "\n",
            " 92%|█████████▏| 184/201 [00:01<00:00, 102.60it/s]\u001b[A\u001b[A\u001b[A\n",
            "\n",
            "\n",
            "100%|██████████| 201/201 [00:01<00:00, 103.46it/s]\u001b[A\u001b[A\u001b[A\n"
          ],
          "name": "stderr"
        },
        {
          "output_type": "error",
          "ename": "FileNotFoundError",
          "evalue": "[Errno 2] No such file or directory: '/Lorenz_63/LearnedParameters/list_gRK4'",
          "traceback": [
            "\u001b[0;31m---------------------------------------------------------------------------\u001b[0m",
            "\u001b[0;31mFileNotFoundError\u001b[0m                         Traceback (most recent call last)",
            "\u001b[0;32m<ipython-input-135-d59477ab6317>\u001b[0m in \u001b[0;36m<module>\u001b[0;34m\u001b[0m\n\u001b[1;32m     17\u001b[0m             \u001b[0mlist_yRK4\u001b[0m\u001b[0;34m.\u001b[0m\u001b[0mappend\u001b[0m\u001b[0;34m(\u001b[0m\u001b[0mz\u001b[0m\u001b[0;34m[\u001b[0m\u001b[0mi\u001b[0m\u001b[0;34m,\u001b[0m\u001b[0mj\u001b[0m\u001b[0;34m]\u001b[0m\u001b[0;34m.\u001b[0m\u001b[0mimag\u001b[0m\u001b[0;34m)\u001b[0m\u001b[0;34m\u001b[0m\u001b[0;34m\u001b[0m\u001b[0m\n\u001b[1;32m     18\u001b[0m \u001b[0;34m\u001b[0m\u001b[0m\n\u001b[0;32m---> 19\u001b[0;31m \u001b[0;32mwith\u001b[0m \u001b[0mopen\u001b[0m\u001b[0;34m(\u001b[0m\u001b[0;34m'/Lorenz_63/LearnedParameters/list_gRK4'\u001b[0m\u001b[0;34m,\u001b[0m \u001b[0;34m'wb'\u001b[0m\u001b[0;34m)\u001b[0m \u001b[0;32mas\u001b[0m \u001b[0mf1\u001b[0m\u001b[0;34m:\u001b[0m\u001b[0;34m\u001b[0m\u001b[0;34m\u001b[0m\u001b[0m\n\u001b[0m\u001b[1;32m     20\u001b[0m      \u001b[0mpickle\u001b[0m\u001b[0;34m.\u001b[0m\u001b[0mdump\u001b[0m\u001b[0;34m(\u001b[0m\u001b[0mlist_gRK4\u001b[0m\u001b[0;34m,\u001b[0m\u001b[0mf1\u001b[0m\u001b[0;34m)\u001b[0m\u001b[0;34m\u001b[0m\u001b[0;34m\u001b[0m\u001b[0m\n\u001b[1;32m     21\u001b[0m \u001b[0;34m\u001b[0m\u001b[0m\n",
            "\u001b[0;31mFileNotFoundError\u001b[0m: [Errno 2] No such file or directory: '/Lorenz_63/LearnedParameters/list_gRK4'"
          ]
        }
      ]
    },
    {
      "cell_type": "code",
      "metadata": {
        "colab": {
          "base_uri": "https://localhost:8080/"
        },
        "id": "ZSnSBKwxd1HQ",
        "outputId": "2b00aa9e-b950-4853-f3e8-7fb6451f76ef"
      },
      "source": [
        "# RINN Explicit\n",
        "import pickle\n",
        "with open('Lorenz_63/LearnedParameters/a', 'rb') as f1:\n",
        "     aRINNEx=pickle.load(f1)\n",
        "with open('Lorenz_63/LearnedParameters/b', 'rb') as f2:\n",
        "     bRINNEx=pickle.load(f2)\n",
        "with open('Lorenz_63/LearnedParameters/c', 'rb') as f3:\n",
        "     cRINNEx=pickle.load(f3)\n",
        "aRinnEx=aRINNEx.clone().data.numpy()[0,:,:]\n",
        "bRinnEx=bRINNEx.clone().data.numpy()[0,:]\n",
        "cRinnEx=cRINNEx.clone().data.numpy()[0,:]\n",
        "\n",
        "\n",
        "\n",
        "aRinnEx[:,0] = cRinnEx[:] - aRinnEx[:,:].sum(axis = 1)\n",
        "GRINNEX = np.zeros_like(z)*np.nan\n",
        "GRINNEXImShow = np.zeros_like(z)*np.nan\n",
        "list_gRINNEX = []\n",
        "list_xRINNEX = []\n",
        "list_yRINNEX = []\n",
        "for i in tqdm(range(z.shape[0])):\n",
        "    for j in range(z.shape[1]):\n",
        "        tmp = np.abs(1+z[i,j]*np.dot(np.dot(bRinnEx.T,np.linalg.inv(np.eye(aRinnEx.shape[0])-z[i,j]*aRinnEx)),np.ones_like(bRinnEx)))\n",
        "        if tmp<1:\n",
        "            GRINNEX[i,j] = 1+z[i,j]*np.dot(np.dot(bRinnEx.T,np.linalg.inv(np.eye(aRinnEx.shape[0])-z[i,j]*aRinnEx)),np.ones_like(bRinnEx))\n",
        "            GRINNEXImShow[i,j]=GRINNEX[i,j]\n",
        "            list_gRINNEX.append(GRINNEX[i,j].real)\n",
        "            list_xRINNEX.append(z[i,j].real)\n",
        "            list_yRINNEX.append(z[i,j].imag)\n",
        "\n",
        "with open('Lorenz_63/LearnedParameters/list_xRINNEX', 'wb') as f1:\n",
        "     pickle.dump(list_xRINNEX,f1)\n",
        "\n",
        "with open('Lorenz_63/LearnedParameters/list_yRINNEX', 'wb') as f2:\n",
        "     pickle.dump(list_yRINNEX,f2)\n",
        "\n",
        "with open('Lorenz_63/LearnedParameters/list_gRINNEX', 'wb') as f3:\n",
        "     pickle.dump(list_gRINNEX,f3)\n"
      ],
      "execution_count": null,
      "outputs": [
        {
          "output_type": "stream",
          "text": [
            "\n",
            "\n",
            "\n",
            "  0%|          | 0/201 [00:00<?, ?it/s]\u001b[A\u001b[A\u001b[A\n",
            "\n",
            "\n",
            "  2%|▏         | 5/201 [00:00<00:04, 47.63it/s]\u001b[A\u001b[A\u001b[A\n",
            "\n",
            "\n",
            "  6%|▋         | 13/201 [00:00<00:03, 53.23it/s]\u001b[A\u001b[A\u001b[A\n",
            "\n",
            "\n",
            " 10%|█         | 21/201 [00:00<00:03, 59.12it/s]\u001b[A\u001b[A\u001b[A\n",
            "\n",
            "\n",
            " 14%|█▍        | 29/201 [00:00<00:02, 63.90it/s]\u001b[A\u001b[A\u001b[A\n",
            "\n",
            "\n",
            " 18%|█▊        | 37/201 [00:00<00:02, 67.93it/s]\u001b[A\u001b[A\u001b[A\n",
            "\n",
            "\n",
            " 22%|██▏       | 45/201 [00:00<00:02, 70.70it/s]\u001b[A\u001b[A\u001b[A\n",
            "\n",
            "\n",
            " 26%|██▋       | 53/201 [00:00<00:02, 71.83it/s]\u001b[A\u001b[A\u001b[A\n",
            "\n",
            "\n",
            " 30%|███       | 61/201 [00:00<00:01, 71.43it/s]\u001b[A\u001b[A\u001b[A\n",
            "\n",
            "\n",
            " 34%|███▍      | 68/201 [00:00<00:01, 70.08it/s]\u001b[A\u001b[A\u001b[A\n",
            "\n",
            "\n",
            " 37%|███▋      | 75/201 [00:01<00:01, 69.08it/s]\u001b[A\u001b[A\u001b[A\n",
            "\n",
            "\n",
            " 41%|████      | 82/201 [00:01<00:01, 68.23it/s]\u001b[A\u001b[A\u001b[A\n",
            "\n",
            "\n",
            " 44%|████▍     | 89/201 [00:01<00:01, 66.54it/s]\u001b[A\u001b[A\u001b[A\n",
            "\n",
            "\n",
            " 48%|████▊     | 96/201 [00:01<00:01, 66.59it/s]\u001b[A\u001b[A\u001b[A\n",
            "\n",
            "\n",
            " 51%|█████     | 103/201 [00:01<00:01, 66.14it/s]\u001b[A\u001b[A\u001b[A\n",
            "\n",
            "\n",
            " 55%|█████▍    | 110/201 [00:01<00:01, 65.56it/s]\u001b[A\u001b[A\u001b[A\n",
            "\n",
            "\n",
            " 58%|█████▊    | 117/201 [00:01<00:01, 65.02it/s]\u001b[A\u001b[A\u001b[A\n",
            "\n",
            "\n",
            " 62%|██████▏   | 124/201 [00:01<00:01, 64.98it/s]\u001b[A\u001b[A\u001b[A\n",
            "\n",
            "\n",
            " 65%|██████▌   | 131/201 [00:01<00:01, 62.93it/s]\u001b[A\u001b[A\u001b[A\n",
            "\n",
            "\n",
            " 69%|██████▊   | 138/201 [00:02<00:00, 63.91it/s]\u001b[A\u001b[A\u001b[A\n",
            "\n",
            "\n",
            " 72%|███████▏  | 145/201 [00:02<00:00, 65.32it/s]\u001b[A\u001b[A\u001b[A\n",
            "\n",
            "\n",
            " 76%|███████▌  | 153/201 [00:02<00:00, 67.56it/s]\u001b[A\u001b[A\u001b[A\n",
            "\n",
            "\n",
            " 80%|████████  | 161/201 [00:02<00:00, 69.97it/s]\u001b[A\u001b[A\u001b[A\n",
            "\n",
            "\n",
            " 84%|████████▍ | 169/201 [00:02<00:00, 72.39it/s]\u001b[A\u001b[A\u001b[A\n",
            "\n",
            "\n",
            " 89%|████████▊ | 178/201 [00:02<00:00, 74.47it/s]\u001b[A\u001b[A\u001b[A\n",
            "\n",
            "\n",
            " 93%|█████████▎| 186/201 [00:02<00:00, 75.80it/s]\u001b[A\u001b[A\u001b[A\n",
            "\n",
            "\n",
            "100%|██████████| 201/201 [00:02<00:00, 70.48it/s]\u001b[A\u001b[A\u001b[A\n"
          ],
          "name": "stderr"
        }
      ]
    },
    {
      "cell_type": "code",
      "metadata": {
        "id": "oLwvhZTtp00V"
      },
      "source": [
        "import pickle\n",
        "import numpy as np\n",
        "import matplotlib.pyplot as plt\n",
        "import matplotlib \n",
        "length_h = 1000\n",
        "import matplotlib as mpl\n",
        "plt.rcParams[\"mathtext.fontset\"] = \"cm\"\n",
        "import matplotlib.pyplot as plt\n",
        "plt.rcParams.update({'font.size': 42})\n",
        "plt.rcParams.update({\n",
        "    \"text.usetex\": True,\n",
        "    \"font.family\": \"sans-serif\",\n",
        "    \"font.sans-serif\": [\"Helvetica\"]})\n",
        "## for Palatino and other serif fonts use:\n",
        "plt.rcParams.update({\n",
        "    \"text.usetex\": True,\n",
        "    \"font.family\": \"serif\",\n",
        "    \"font.serif\": [\"Palatino\"],\n",
        "})\n",
        "plt.rcParams['axes.titlepad'] = 20 \n",
        "import matplotlib.cm as cm\n",
        "plt.rcParams['axes.labelpad'] = 30\n",
        "\n",
        "\n",
        "\n",
        "plt.figure(figsize=(15,15))\n",
        "plt.xlabel(r'$\\mathrm{Re}(h\\lambda)$')\n",
        "plt.ylabel(r'$\\mathrm{Im}(h\\lambda)$')\n",
        "plt.xlim([50,150])\n",
        "plt.ylim([50,150])\n",
        "plt.xticks([50,100,150],[-10,0,10])\n",
        "plt.yticks([50,100,150],[-10,0,10])\n",
        "\n",
        "plt.title(\"Stabilty region, Explicit RINN 11\")\n",
        "plt.tight_layout()\n",
        "\n",
        "im1=plt.imshow(\n",
        "    np.abs(GRINNEX),\n",
        "           cmap='magma',interpolation='gaussian')\n",
        "plt.colorbar(im1)\n",
        "plt.axhline(100, color='black')\n",
        "plt.axvline(100, color='black')\n",
        "plt.savefig('StabilityRegionOfExplicitRinnIntegrationOnly.png',dpi=300)\n",
        "\n",
        "\n",
        "plt.figure(figsize=(15,15))\n",
        "plt.xlabel(r'$\\mathrm{Re}(h\\lambda)$')\n",
        "plt.ylabel(r'$\\mathrm{Im}(h\\lambda)$')\n",
        "plt.xlim([50,150])\n",
        "plt.ylim([50,150])\n",
        "plt.xticks([50,100,150],[-10,0,10])\n",
        "plt.yticks([50,100,150],[-10,0,10])\n",
        "\n",
        "plt.title(\"Phase plot, Explicit RINN 11\")\n",
        "plt.tight_layout()\n",
        "\n",
        "im1=plt.imshow(\n",
        "    np.angle(GRINNEX),\n",
        "           cmap='magma',interpolation='gaussian')\n",
        "cbar = plt.colorbar(im1,ticks=[-np.pi,-np.pi/2,0,np.pi/2,np.pi],orientation=\"vertical\")\n",
        "cbar.ax.set_yticklabels([r'$-\\pi$',r'$-\\frac{\\pi}{2}$',0,r'$\\frac{\\pi}{2}$',r'$\\pi$'])  # vertically oriented colorbar\n",
        "plt.axhline(100, color='black')\n",
        "plt.axvline(100, color='black')\n",
        "plt.savefig('PhasePlotOfExplicitRinnIntegrationOnly.png',dpi=300)\n"
      ],
      "execution_count": null,
      "outputs": []
    },
    {
      "cell_type": "code",
      "metadata": {
        "colab": {
          "base_uri": "https://localhost:8080/",
          "height": 235
        },
        "id": "TgsUUm7SHQwd",
        "outputId": "e3f46694-1129-4518-b7a4-2d134e900869"
      },
      "source": [
        "\n",
        "\n",
        "length_h = 1000\n",
        "\n",
        "\n",
        "\n",
        "plt.figure(figsize=(15,15))\n",
        "plt.scatter(np.array(list_x),np.array(list_y),label='Implicit RINN 11',alpha=1,color='lightcoral',s=200)\n",
        "plt.scatter(np.array(list_xRINNEX),np.array(list_yRINNEX), label = 'Explicit RINN 4',color='darkred',s=200)\n",
        "plt.scatter(np.array(list_xRK4),np.array(list_yRK4), label = 'Explicit RUNGE-KUTTA 4',color='saddlebrown',s=200)\n",
        "plt.scatter(np.array(list_xE),np.array(list_yE), label = 'Explicit EULER',color='goldenrod',s=200)\n",
        "\n",
        "\n",
        "\n",
        "plt.xlabel(r'$\\mathrm{Re}(h\\lambda)$')\n",
        "plt.ylabel(r'$\\mathrm{Im}(h\\lambda)$')\n",
        "plt.axhline(100, color='black')\n",
        "plt.axvline(100, color='black')\n",
        "plt.title(\"Stability regions\")\n",
        "plt.legend(loc=1)\n",
        "plt.tight_layout()\n",
        "plt.xlim([-10,10])\n",
        "plt.ylim([-10,10])\n",
        "plt.savefig('ComparaisonOfStbailityRegions',dpi=300)\n",
        "plt.tight_layout()\n",
        "plt.show()\n",
        "\n",
        "\n",
        "\n"
      ],
      "execution_count": null,
      "outputs": [
        {
          "output_type": "display_data",
          "data": {
            "image/png": "[encoded data removed]",
            "text/plain": [
              "<Figure size 1500x1500 with 1 Axes>"
            ]
          },
          "metadata": {
            "tags": []
          }
        }
      ]
    },
    {
      "cell_type": "code",
      "metadata": {
        "id": "dANOZP1np00W"
      },
      "source": [
        ""
      ],
      "execution_count": null,
      "outputs": []
    },
    {
      "cell_type": "code",
      "metadata": {
        "colab": {
          "base_uri": "https://localhost:8080/",
          "height": 1000
        },
        "id": "BK43WlMUHQwe",
        "outputId": "c6e65321-408b-4756-b81c-99c0545d0de4"
      },
      "source": [
        "\n",
        "\n",
        "\n",
        "\n",
        "import pickle\n",
        "import numpy as np\n",
        "import matplotlib.pyplot as plt\n",
        "import matplotlib \n",
        "length_h = 1000\n",
        "import matplotlib as mpl\n",
        "plt.rcParams[\"mathtext.fontset\"] = \"cm\"\n",
        "import matplotlib.pyplot as plt\n",
        "plt.rcParams.update({'font.size': 42})\n",
        "plt.rcParams.update({\n",
        "    \"text.usetex\": True,\n",
        "    \"font.family\": \"sans-serif\",\n",
        "    \"font.sans-serif\": [\"Helvetica\"]})\n",
        "## for Palatino and other serif fonts use:\n",
        "plt.rcParams.update({\n",
        "    \"text.usetex\": True,\n",
        "    \"font.family\": \"serif\",\n",
        "    \"font.serif\": [\"Palatino\"],\n",
        "})\n",
        "plt.rcParams['axes.titlepad'] = 20 \n",
        "import matplotlib.cm as cm\n",
        "plt.rcParams['axes.labelpad'] = 30\n",
        "\n",
        "\n",
        "\n",
        "plt.figure(figsize=(15,15))\n",
        "plt.xlabel(r'$\\mathrm{Re}(h\\lambda)$')\n",
        "plt.ylabel(r'$\\mathrm{Im}(h\\lambda)$')\n",
        "plt.xlim([50,150])\n",
        "plt.ylim([50,150])\n",
        "plt.xticks([50,100,150],[-10,0,10])\n",
        "plt.yticks([50,100,150],[-10,0,10])\n",
        "\n",
        "plt.title(\"Stabilty region, Implicit RINN\")\n",
        "plt.tight_layout()\n",
        "\n",
        "im1=plt.imshow(\n",
        "    np.abs(GRINN),\n",
        "           cmap='magma',interpolation='gaussian')\n",
        "plt.colorbar(im1)\n",
        "plt.axhline(100, color='black')\n",
        "plt.axvline(100, color='black')\n",
        "plt.savefig('StabilityRegionOfImplicitRinnIntegrationOnly.png',dpi=300)\n",
        "\n",
        "\n",
        "plt.figure(figsize=(15,15))\n",
        "plt.xlabel(r'$\\mathrm{Re}(h\\lambda)$')\n",
        "plt.ylabel(r'$\\mathrm{Im}(h\\lambda)$')\n",
        "plt.xlim([50,150])\n",
        "plt.ylim([50,150])\n",
        "plt.xticks([50,100,150],[-10,0,10])\n",
        "plt.yticks([50,100,150],[-10,0,10])\n",
        "\n",
        "plt.title(\"Phase plot, Implicit RINN\")\n",
        "plt.tight_layout()\n",
        "\n",
        "im1=plt.imshow(\n",
        "    np.angle(GRINN),\n",
        "           cmap='magma',interpolation='gaussian')\n",
        "cbar = plt.colorbar(im1,ticks=[-np.pi,-np.pi/2,0,np.pi/2,np.pi],orientation=\"vertical\")\n",
        "cbar.ax.set_yticklabels([r'$-\\pi$',r'$-\\frac{\\pi}{2}$',0,r'$\\frac{\\pi}{2}$',r'$\\pi$'])  # vertically oriented colorbar\n",
        "plt.axhline(100, color='black')\n",
        "plt.axvline(100, color='black')\n",
        "plt.savefig('PhasePlotOfImplicitRinnIntegrationOnly.png',dpi=300)\n",
        "\n"
      ],
      "execution_count": null,
      "outputs": [
        {
          "output_type": "display_data",
          "data": {
            "image/png": "[encoded data removed]",
            "text/plain": [
              "<Figure size 1500x1500 with 2 Axes>"
            ]
          },
          "metadata": {
            "tags": []
          }
        },
        {
          "output_type": "display_data",
          "data": {
            "image/png": "[encoded data removed]",
            "text/plain": [
              "<Figure size 1500x1500 with 2 Axes>"
            ]
          },
          "metadata": {
            "tags": []
          }
        }
      ]
    },
    {
      "cell_type": "code",
      "metadata": {
        "id": "RP2AYBOMuJw_"
      },
      "source": [
        "from tqdm import tqdm\n",
        "GRINN = np.zeros_like(z)*np.nan\n",
        "list_g = []\n",
        "list_x = []\n",
        "list_y = []\n",
        "for i in tqdm(range(z.shape[0])):\n",
        "    for j in range(z.shape[1]):\n",
        "        tmp = np.abs(1+z[i,j]*np.dot(np.dot(b.T,np.linalg.inv(np.eye(a.shape[0])-z[i,j]*a)),np.ones_like(b)))\n",
        "        if tmp<1:\n",
        "            GRINN[i,j] = np.abs(1+z[i,j]*np.dot(np.dot(b.T,np.linalg.inv(np.eye(a.shape[0])-z[i,j]*a)),np.ones_like(b)))\n",
        "            list_g.append(GRINN[i,j].real)\n",
        "            list_x.append(z[i,j].real)\n",
        "            list_y.append(z[i,j].imag)"
      ],
      "execution_count": null,
      "outputs": []
    },
    {
      "cell_type": "code",
      "metadata": {
        "id": "XXB-F7aEuNum"
      },
      "source": [
        "length_h = 1000\n",
        "import matplotlib as mpl\n",
        "plt.rcParams[\"mathtext.fontset\"] = \"cm\"\n",
        "import matplotlib.pyplot as plt\n",
        "plt.rcParams.update({'font.size': 42})\n",
        "plt.rcParams.update({\n",
        "    \"text.usetex\": False,\n",
        "    \"font.family\": \"sans-serif\",\n",
        "    \"font.sans-serif\": [\"Helvetica\"]})\n",
        "## for Palatino and other serif fonts use:\n",
        "plt.rcParams.update({\n",
        "    \"text.usetex\": False,\n",
        "    \"font.family\": \"serif\",\n",
        "    \"font.serif\": [\"Palatino\"],\n",
        "})\n",
        "plt.figure(figsize=(20,20))\n",
        "plt.scatter(np.array(list_x),np.array(list_y),color='blue')\n",
        "plt.xlabel(r'$Real(h\\lambda)$')\n",
        "plt.ylabel(r'$Imag(h\\lambda)$')\n",
        "plt.title(\"Région de stabilité\")\n",
        "plt.legend(loc='best')\n",
        "#plt.savefig('/content/drive/MyDrive/Colab Notebooks/RINN-master/graphes/rds',dpi=300)\n",
        "#plt.plot(-hi[:399]*0.5,np.zeros_like(gainE[:length_h][np.where(gainE[:length_h]<1)]),lw = 3)\n",
        "#plt.xlim(-7,0)\n",
        "#plt.ylim(-3,3)"
      ],
      "execution_count": null,
      "outputs": []
    },
    {
      "cell_type": "code",
      "metadata": {
        "id": "t3_KaGzGlXb7"
      },
      "source": [
        "import pickle\n",
        "import numpy as np\n",
        "import matplotlib.pyplot as plt\n",
        "import matplotlib \n",
        "#matplotlib.rcParams.update(matplotlib.rcParamsDefault)\n",
        "\n",
        "plt.rcParams[\"mathtext.fontset\"] = \"cm\"\n",
        "plt.rcParams.update({'font.size': 42})\n",
        "plt.rcParams.update({\n",
        "    \"text.usetex\": False,\n",
        "    \"font.family\": \"sans-serif\",\n",
        "    \"font.sans-serif\": [\"Helvetica\"]})\n",
        "## for Palatino and other serif fonts use:\n",
        "plt.rcParams.update({\n",
        "    \"text.usetex\": False,\n",
        "    \"font.family\": \"serif\",\n",
        "    \"font.serif\": [\"Palatino\"],\n",
        "})\n",
        "\n",
        "plt.figure(figsize=(40,20))\n",
        "plt.subplot(121)\n",
        "plt.xlabel(r'$Real(h\\lambda)$')\n",
        "plt.ylabel(r'$Imag(h\\lambda)$')\n",
        "plt.title(\"RDS RINN implicite\")\n",
        "plt.scatter(list_x,list_y,c=list_g,cmap='magma')\n",
        "plt.xlim([-10,10])\n",
        "plt.ylim([-10,10])\n",
        "\n",
        "plt.subplot(122)\n",
        "plt.xlabel(r'$Real(h\\lambda)$')\n",
        "plt.ylabel(r'$Imag(h\\lambda)$')\n",
        "plt.title(\"RDS RINN implicite\")\n",
        "plt.scatter(list_xRINNEX,list_yRINNEX,c=list_gRINNEX,cmap='magma')\n",
        "plt.xlim([-10,10])\n",
        "plt.ylim([-10,10])\n",
        "plt.colorbar()\n",
        "plt.savefig('/content/drive/MyDrive/Colab Notebooks/RINN-master/graphes/RDS_RINN_colorbar',dpi=300)\n",
        "plt.show()"
      ],
      "execution_count": null,
      "outputs": []
    }
  ]
}